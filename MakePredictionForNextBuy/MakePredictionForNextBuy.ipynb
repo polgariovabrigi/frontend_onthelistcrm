{
 "cells": [
  {
   "cell_type": "raw",
   "id": "dec65824-a482-4b5f-9b67-dc99e54a4ca5",
   "metadata": {},
   "source": [
    "Forecasting the expectancy of a customer to make another purchase at the online\n",
    "retail shop after 90 days of one’s last purchase,"
   ]
  },
  {
   "cell_type": "markdown",
   "id": "22500b3f-e2d7-4a27-9122-f1c356297be9",
   "metadata": {},
   "source": [
    "RFM score feature engineering:\n",
    "\n",
    "1. Recency\n",
    "Factoring in the length of time a customer has taken off after his or her\n",
    "last purchase - kmeans\n",
    "\n",
    "2. Frequecy\n",
    "order counts - kmeans for score\n",
    "\n",
    "3. Monetary Value/Revenue\n",
    "revenue sum for each customer - kmeans for score"
   ]
  },
  {
   "cell_type": "raw",
   "id": "621fbe74-fda4-4d91-8fa5-d4b66e0a7598",
   "metadata": {},
   "source": [
    "y_train = if the value is 1, then it indicates that the customer will buy something in the next\n",
    "quarter, i.e., 90 days from his or her last purchase.\n",
    "The value 0 indicates that the customer will buy something in more than 90 days\n",
    "from his or her last purchase"
   ]
  },
  {
   "cell_type": "raw",
   "id": "cf326229-aa27-4c56-8850-91d1cd5aec46",
   "metadata": {},
   "source": [
    "Logistic regression / RandomForestClassifier / GaussianNB / xgb.XGBClassifie / SVC "
   ]
  },
  {
   "cell_type": "raw",
   "id": "3561d5f3-aedd-4f8e-95bd-16403b2ec6e8",
   "metadata": {},
   "source": [
    "Question:\n",
    "    What X- features would be appropriate to introduce\n",
    "into the dataset to reach or increase the model’s\n",
    "hightened accuracy and F₁-score metrics without\n",
    "hyperparameter tuning?"
   ]
  },
  {
   "cell_type": "code",
   "execution_count": 14,
   "id": "cfa8366e-6032-4bd2-b1c4-d5abc440eb4c",
   "metadata": {},
   "outputs": [
    {
     "name": "stdout",
     "output_type": "stream",
     "text": [
      "zsh:1: unknown file attribute: i\n"
     ]
    }
   ],
   "source": [
    "![title](img/image.png)"
   ]
  },
  {
   "cell_type": "code",
   "execution_count": null,
   "id": "3a3f788d-e3bc-44a2-bd5f-71356eb0b147",
   "metadata": {},
   "outputs": [],
   "source": []
  }
 ],
 "metadata": {
  "kernelspec": {
   "display_name": "Python 3 (ipykernel)",
   "language": "python",
   "name": "python3"
  },
  "language_info": {
   "codemirror_mode": {
    "name": "ipython",
    "version": 3
   },
   "file_extension": ".py",
   "mimetype": "text/x-python",
   "name": "python",
   "nbconvert_exporter": "python",
   "pygments_lexer": "ipython3",
   "version": "3.8.12"
  }
 },
 "nbformat": 4,
 "nbformat_minor": 5
}
