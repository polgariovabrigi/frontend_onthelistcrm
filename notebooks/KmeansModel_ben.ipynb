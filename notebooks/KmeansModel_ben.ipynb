{
 "cells": [
  {
   "cell_type": "code",
   "execution_count": 1,
   "id": "e57998c2-d1a8-4ca5-8e28-0b530731fdcb",
   "metadata": {},
   "outputs": [],
   "source": [
    "import pandas as pd\n",
    "from sklearn.pipeline import Pipeline\n",
    "from sklearn.compose import ColumnTransformer\n",
    "from sklearn.preprocessing import OneHotEncoder, MinMaxScaler\n",
    "import matplotlib.pyplot as plt\n",
    "from sklearn.cluster import KMeans"
   ]
  },
  {
   "cell_type": "code",
   "execution_count": 2,
   "id": "3e214da7-719b-4384-8c3b-8301920b4ac4",
   "metadata": {},
   "outputs": [],
   "source": [
    "data_df = pd.read_csv('../on_the_list_crm/data/data_400_000_rows_clean_df.csv')\n",
    "X_train = data_df[['price', 'vendor', 'product_cat', 'gender', 'quantity' , 'final_price', 'product_gender']]"
   ]
  },
  {
   "cell_type": "code",
   "execution_count": null,
   "id": "9cb16457-240d-446d-b9ff-7220b3107836",
   "metadata": {},
   "outputs": [],
   "source": [
    "cat_transformer = OneHotEncoder(handle_unknown='ignore',sparse = False)\n",
    "num_transformer = MinMaxScaler()\n",
    "\n",
    "#Paralellize \"num_transformer\" and \"One hot encoder\"\n",
    "preprocessor = ColumnTransformer([\n",
    "    ('num_tr_Minmax', num_transformer, ['price','price','final_price']),\n",
    "    ('cat_tr', cat_transformer, ['vendor', 'product_cat', 'gender','product_gender'])],\n",
    "    remainder= 'passthrough')\n",
    "\n",
    "X_train_transformed = preprocessor.fit_transform(X_train)"
   ]
  }
 ],
 "metadata": {
  "kernelspec": {
   "display_name": "Python 3 (ipykernel)",
   "language": "python",
   "name": "python3"
  },
  "language_info": {
   "codemirror_mode": {
    "name": "ipython",
    "version": 3
   },
   "file_extension": ".py",
   "mimetype": "text/x-python",
   "name": "python",
   "nbconvert_exporter": "python",
   "pygments_lexer": "ipython3",
   "version": "3.8.6"
  }
 },
 "nbformat": 4,
 "nbformat_minor": 5
}
