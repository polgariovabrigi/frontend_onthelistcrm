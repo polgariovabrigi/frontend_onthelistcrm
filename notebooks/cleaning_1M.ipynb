{
 "cells": [
  {
   "cell_type": "code",
   "execution_count": 41,
   "id": "bdf4fde4-98c8-4268-bc9d-c971d4fa015a",
   "metadata": {},
   "outputs": [],
   "source": [
    "import pandas as pd\n",
    "import numpy as np\n",
    "import matplotlib.pyplot as plt"
   ]
  },
  {
   "cell_type": "markdown",
   "id": "fd50752f-01db-47db-a2ad-b8fdce63af2e",
   "metadata": {
    "jp-MarkdownHeadingCollapsed": true,
    "tags": []
   },
   "source": [
    "# Exploring the data"
   ]
  },
  {
   "cell_type": "markdown",
   "id": "604a530c-6127-4933-9d70-20de12b0257f",
   "metadata": {
    "jp-MarkdownHeadingCollapsed": true,
    "tags": []
   },
   "source": [
    "## Importing value"
   ]
  },
  {
   "cell_type": "code",
   "execution_count": 81,
   "id": "687b802b-4292-4239-86ad-3b21c40e3349",
   "metadata": {},
   "outputs": [],
   "source": [
    "data_df = pd.read_csv('../raw_data/1M_rows_raw.csv')"
   ]
  },
  {
   "cell_type": "code",
   "execution_count": 80,
   "id": "fa4416f3-0ec3-4dd3-8df4-1cb3b7356aba",
   "metadata": {},
   "outputs": [],
   "source": [
    "# data_df.info()"
   ]
  },
  {
   "cell_type": "markdown",
   "id": "f614494d-fc10-4472-be4b-b0b669b92c25",
   "metadata": {
    "jp-MarkdownHeadingCollapsed": true,
    "tags": []
   },
   "source": [
    "## Column renamimg"
   ]
  },
  {
   "cell_type": "code",
   "execution_count": 82,
   "id": "ce80f13b-8b09-44a1-9e69-73318322808e",
   "metadata": {},
   "outputs": [
    {
     "data": {
      "text/plain": [
       "Index(['order_ID', 'item_ID', 'date', 'price', 'quantity', 'discount',\n",
       "       'final_price', 'vendor', 'title', 'product_type', 'tags', 'customer_ID',\n",
       "       'gender', 'age', 'nationality', 'premium_status', 'district'],\n",
       "      dtype='object')"
      ]
     },
     "execution_count": 82,
     "metadata": {},
     "output_type": "execute_result"
    }
   ],
   "source": [
    "data_df.rename(columns={'_sdc_source_key_id':'order_ID',\n",
    "                        'sku':'item_ID',\n",
    "                        'item price':'item_price',\n",
    "                        'item quantity':'item_quantity',\n",
    "                        'line-item discount':'discount',\n",
    "                        'price_qty':'final_price',\n",
    "                        'email':'customer_ID',\n",
    "                        'Nationality':'nationality'\n",
    "                        },\n",
    "                             inplace = True)\n",
    "data_df.columns"
   ]
  },
  {
   "cell_type": "markdown",
   "id": "067aa05b-0220-4f5d-86e9-08e58013a70e",
   "metadata": {
    "jp-MarkdownHeadingCollapsed": true,
    "tags": []
   },
   "source": [
    "## Working on NA values"
   ]
  },
  {
   "cell_type": "code",
   "execution_count": 83,
   "id": "c459e76c-886c-43f1-bbee-811959d057a9",
   "metadata": {},
   "outputs": [
    {
     "name": "stdout",
     "output_type": "stream",
     "text": [
      "NA values in order_ID : 0.0%\n",
      "NA values in item_ID : 0.84%\n",
      "NA values in date : 0.0%\n",
      "NA values in price : 0.0%\n",
      "NA values in quantity : 0.0%\n",
      "NA values in discount : 0.0%\n",
      "NA values in final_price : 0.0%\n",
      "NA values in vendor : 14.81%\n",
      "NA values in title : 14.81%\n",
      "NA values in product_type : 32.77%\n",
      "NA values in tags : 41.43%\n",
      "NA values in customer_ID : 1.29%\n",
      "NA values in gender : 1.7%\n",
      "NA values in age : 6.3%\n",
      "NA values in nationality : 47.66%\n",
      "NA values in premium_status : 0.0%\n",
      "NA values in district : 6.76%\n"
     ]
    }
   ],
   "source": [
    "for column in data_df.columns:\n",
    "    print(f'NA values in {column} : {round(data_df[column].isnull().sum()/len(data_df)*100,2)}%')"
   ]
  },
  {
   "cell_type": "markdown",
   "id": "09e1663c-4613-4db4-872b-2c2988cccfd0",
   "metadata": {
    "jp-MarkdownHeadingCollapsed": true,
    "tags": []
   },
   "source": [
    "### Droping NA item_ID, customer_ID"
   ]
  },
  {
   "cell_type": "code",
   "execution_count": 84,
   "id": "69878e81-b8ff-4a66-ba04-2f033bdf420b",
   "metadata": {},
   "outputs": [],
   "source": [
    "data_df.dropna(subset=['item_ID', 'customer_ID'],inplace=True)"
   ]
  },
  {
   "cell_type": "code",
   "execution_count": 85,
   "id": "9877029f-9a31-453c-9a07-69f6c2457bb3",
   "metadata": {},
   "outputs": [
    {
     "name": "stdout",
     "output_type": "stream",
     "text": [
      "NA values in order_ID : 0.0%\n",
      "NA values in item_ID : 0.0%\n",
      "NA values in date : 0.0%\n",
      "NA values in price : 0.0%\n",
      "NA values in quantity : 0.0%\n",
      "NA values in discount : 0.0%\n",
      "NA values in final_price : 0.0%\n",
      "NA values in vendor : 14.24%\n",
      "NA values in title : 14.24%\n",
      "NA values in product_type : 31.96%\n",
      "NA values in tags : 40.43%\n",
      "NA values in customer_ID : 0.0%\n",
      "NA values in gender : 0.41%\n",
      "NA values in age : 5.03%\n",
      "NA values in nationality : 46.95%\n",
      "NA values in premium_status : 0.0%\n",
      "NA values in district : 5.5%\n"
     ]
    }
   ],
   "source": [
    "for column in data_df.columns:\n",
    "    print(f'NA values in {column} : {round(data_df[column].isnull().sum()/len(data_df)*100,2)}%')"
   ]
  },
  {
   "cell_type": "markdown",
   "id": "a7b71cbf-5c1a-449f-b79c-8398ea751a80",
   "metadata": {
    "jp-MarkdownHeadingCollapsed": true,
    "tags": []
   },
   "source": [
    "### For district, nationality, gender,  - most comun one"
   ]
  },
  {
   "cell_type": "markdown",
   "id": "46a8532e-4819-485d-bf5f-ee4b69910786",
   "metadata": {
    "jp-MarkdownHeadingCollapsed": true,
    "tags": []
   },
   "source": [
    "#### district"
   ]
  },
  {
   "cell_type": "code",
   "execution_count": 66,
   "id": "181ad4c1-adb5-4f64-ba38-19f14440a421",
   "metadata": {},
   "outputs": [],
   "source": [
    "# data_df['district'].unique()"
   ]
  },
  {
   "cell_type": "code",
   "execution_count": 86,
   "id": "478caf29-8e9c-4639-97a7-4ddccabc413a",
   "metadata": {},
   "outputs": [
    {
     "name": "stdout",
     "output_type": "stream",
     "text": [
      "Kowloon City : 5.5%\n",
      "Eastern : 9.11%\n",
      "Central & Western : 32.94%\n",
      "Wan Chai : 6.58%\n",
      "Southern : 5.81%\n"
     ]
    }
   ],
   "source": [
    "for district in data_df['district'].unique():\n",
    "    count=data_df[data_df['district'] == district]['district'].count()\n",
    "    if count/len(data_df)*100 > 5:\n",
    "        print(f'{district} : {round(    count   /   len(data_df)  *  100     ,2)}%')"
   ]
  },
  {
   "cell_type": "code",
   "execution_count": 87,
   "id": "31942ed1-2e52-47fd-b858-1661302df6ba",
   "metadata": {},
   "outputs": [],
   "source": [
    "data_df['district'] = data_df['district'].fillna('Central & Western')"
   ]
  },
  {
   "cell_type": "markdown",
   "id": "495ac5b2-a090-4fb4-872c-73a92167124e",
   "metadata": {
    "jp-MarkdownHeadingCollapsed": true,
    "tags": []
   },
   "source": [
    "#### nationality"
   ]
  },
  {
   "cell_type": "code",
   "execution_count": 69,
   "id": "916e0a16-4492-4b96-aa69-b870271c6d23",
   "metadata": {},
   "outputs": [],
   "source": [
    "# data_df['nationality'].unique()"
   ]
  },
  {
   "cell_type": "code",
   "execution_count": 88,
   "id": "d8eaeb53-c763-40c5-a3c7-cb6476ac9d32",
   "metadata": {},
   "outputs": [
    {
     "name": "stdout",
     "output_type": "stream",
     "text": [
      "Hong Kong SAR : 39.2%\n",
      "United Kingdom : 1.47%\n",
      "Other : 3.56%\n",
      "China : 3.0%\n",
      "Korea : 1.46%\n",
      "France : 1.37%\n",
      "American Samoa : 1.2%\n"
     ]
    }
   ],
   "source": [
    "for nationality in data_df['nationality'].unique():\n",
    "    count=data_df[data_df['nationality'] == nationality]['nationality'].count()\n",
    "    if count/len(data_df)*100 > 1:\n",
    "        print(f'{nationality} : {round(    count   /   len(data_df)  *  100     ,2)}%')"
   ]
  },
  {
   "cell_type": "code",
   "execution_count": 89,
   "id": "326f7bba-3e99-4537-9b00-5660aaf33db4",
   "metadata": {},
   "outputs": [],
   "source": [
    "data_df['nationality'] = data_df['nationality'].fillna('Hong Kong SAR')"
   ]
  },
  {
   "cell_type": "markdown",
   "id": "f29be934-527c-4af1-88c6-17155def1309",
   "metadata": {
    "jp-MarkdownHeadingCollapsed": true,
    "tags": []
   },
   "source": [
    "#### gender"
   ]
  },
  {
   "cell_type": "code",
   "execution_count": 90,
   "id": "7d2c5f2c-9081-442a-b239-937412be3778",
   "metadata": {},
   "outputs": [
    {
     "data": {
      "text/plain": [
       "array(['male', 'female', nan, 'other'], dtype=object)"
      ]
     },
     "execution_count": 90,
     "metadata": {},
     "output_type": "execute_result"
    }
   ],
   "source": [
    "data_df['gender'].unique()"
   ]
  },
  {
   "cell_type": "code",
   "execution_count": 91,
   "id": "ab90067d-9efd-4f36-8828-38f797dc5e42",
   "metadata": {},
   "outputs": [
    {
     "name": "stdout",
     "output_type": "stream",
     "text": [
      "male : 13.21%\n",
      "female : 86.37%\n",
      "other : 0.01%\n"
     ]
    }
   ],
   "source": [
    "for gender in data_df['gender'].unique():\n",
    "    count=data_df[data_df['gender'] == gender]['gender'].count()\n",
    "    if count/len(data_df)*100 > 0:\n",
    "        print(f'{gender} : {round(    count   /   len(data_df)  *  100     ,2)}%')"
   ]
  },
  {
   "cell_type": "code",
   "execution_count": 92,
   "id": "78b4d262-db78-4e77-9e54-b545ee538046",
   "metadata": {},
   "outputs": [],
   "source": [
    "data_df['gender'] = data_df['gender'].fillna('female')"
   ]
  },
  {
   "cell_type": "code",
   "execution_count": 94,
   "id": "0dd35413-aad9-4e16-95d6-518f65ba4e22",
   "metadata": {},
   "outputs": [
    {
     "name": "stdout",
     "output_type": "stream",
     "text": [
      "NA values in order_ID : 0.0%\n",
      "NA values in item_ID : 0.0%\n",
      "NA values in date : 0.0%\n",
      "NA values in price : 0.0%\n",
      "NA values in quantity : 0.0%\n",
      "NA values in discount : 0.0%\n",
      "NA values in final_price : 0.0%\n",
      "NA values in vendor : 14.24%\n",
      "NA values in title : 14.24%\n",
      "NA values in product_type : 31.96%\n",
      "NA values in tags : 40.43%\n",
      "NA values in customer_ID : 0.0%\n",
      "NA values in gender : 0.0%\n",
      "NA values in age : 5.03%\n",
      "NA values in nationality : 0.0%\n",
      "NA values in premium_status : 0.0%\n",
      "NA values in district : 0.0%\n"
     ]
    }
   ],
   "source": [
    "for column in data_df.columns:\n",
    "    print(f'NA values in {column} : {round(data_df[column].isnull().sum()/len(data_df)*100,2)}%')"
   ]
  },
  {
   "cell_type": "markdown",
   "id": "dea02ec7-61eb-4de6-85f5-d96c5372c67c",
   "metadata": {
    "jp-MarkdownHeadingCollapsed": true,
    "tags": []
   },
   "source": [
    "### For age - use the mean for nan and outliers"
   ]
  },
  {
   "cell_type": "markdown",
   "id": "48bd96bb-8bf7-4ad1-b91c-944d2d41f528",
   "metadata": {},
   "source": [
    "#### mean for nan"
   ]
  },
  {
   "cell_type": "code",
   "execution_count": 99,
   "id": "dc6df8cd-bf61-45c7-beb7-b890b689ba89",
   "metadata": {},
   "outputs": [],
   "source": [
    "data_df['age'] = data_df['age'].fillna(round(data_df['age'].mean()))"
   ]
  },
  {
   "cell_type": "markdown",
   "id": "d7ecf52f-639e-4e7d-8ff7-5f471a9bd778",
   "metadata": {
    "jp-MarkdownHeadingCollapsed": true,
    "tags": []
   },
   "source": [
    "#### outliers"
   ]
  },
  {
   "cell_type": "code",
   "execution_count": 123,
   "id": "88453e80-f63d-4cf4-9ee2-bf246468b7a2",
   "metadata": {},
   "outputs": [],
   "source": [
    "data_df.loc[data_df['age'] < 18, 'age'] = round(data_df['age'].mean())\n",
    "data_df.loc[data_df['age'] > 90, 'age'] = round(data_df['age'].mean())"
   ]
  },
  {
   "cell_type": "code",
   "execution_count": 124,
   "id": "26c7c636-cd41-44b8-aeec-a7928b43b867",
   "metadata": {},
   "outputs": [
    {
     "data": {
      "text/plain": [
       "<function matplotlib.pyplot.show(close=None, block=None)>"
      ]
     },
     "execution_count": 124,
     "metadata": {},
     "output_type": "execute_result"
    },
    {
     "data": {
      "image/png": "[encoded data removed]",
      "text/plain": [
       "<Figure size 432x288 with 1 Axes>"
      ]
     },
     "metadata": {
      "needs_background": "light"
     },
     "output_type": "display_data"
    }
   ],
   "source": [
    "plt.hist(data_df['age'])\n",
    "plt.show"
   ]
  },
  {
   "cell_type": "markdown",
   "id": "2ec061ec-c6a4-4487-aca0-60efa233808a",
   "metadata": {
    "jp-MarkdownHeadingCollapsed": true,
    "tags": []
   },
   "source": [
    "### For now : drop nan vendor"
   ]
  },
  {
   "cell_type": "code",
   "execution_count": 126,
   "id": "cf5d5f57-c69b-484f-9e93-d52250902f22",
   "metadata": {},
   "outputs": [],
   "source": [
    "data_df.dropna(subset=['vendor'],inplace=True)"
   ]
  },
  {
   "cell_type": "code",
   "execution_count": null,
   "id": "5b6283fb-d1c3-4356-a7e5-24599c9d573c",
   "metadata": {},
   "outputs": [],
   "source": []
  },
  {
   "cell_type": "markdown",
   "id": "7fff7633-0c50-48b8-bf27-fd3907e78c1f",
   "metadata": {
    "tags": []
   },
   "source": [
    "## Creat the tmp with vendor, title, product and tags for the NLP"
   ]
  },
  {
   "cell_type": "code",
   "execution_count": 132,
   "id": "06fb5378-a6ae-4c75-af98-c99fc620b80a",
   "metadata": {},
   "outputs": [],
   "source": [
    "data_df['tmp_NLP']= data_df['vendor']+' '+data_df['title']+' '+data_df['product_type']+' '+data_df['tags']"
   ]
  },
  {
   "cell_type": "code",
   "execution_count": 134,
   "id": "7702da59-054c-431c-a2d2-8c9f99456a76",
   "metadata": {},
   "outputs": [
    {
     "data": {
      "text/plain": [
       "39                                                      NaN\n",
       "91                                                      NaN\n",
       "155                                                     NaN\n",
       "688                                                     NaN\n",
       "1132                                                    NaN\n",
       "                                ...                        \n",
       "964428    Giuseppe Zanotti-Online Blabber Men Sneakers -...\n",
       "964429    ChampionDec-Online Champion Sweater/Hoodie - N...\n",
       "964430    ChampionDec-Online Champion Sweater/Hoodie - N...\n",
       "964431    ChampionDec-Online Champion 3P Socks - Black S...\n",
       "964432    Giuseppe Zanotti-Online Basic Ladies Sandals -...\n",
       "Name: tmp_NLP, Length: 812481, dtype: object"
      ]
     },
     "execution_count": 134,
     "metadata": {},
     "output_type": "execute_result"
    }
   ],
   "source": [
    "data_df['tmp_NLP']"
   ]
  },
  {
   "cell_type": "code",
   "execution_count": 137,
   "id": "06724554-bb6e-4683-bf50-d964c064662b",
   "metadata": {},
   "outputs": [
    {
     "name": "stdout",
     "output_type": "stream",
     "text": [
      "NA values in order_ID : 0.0%\n",
      "NA values in item_ID : 0.0%\n",
      "NA values in date : 0.0%\n",
      "NA values in price : 0.0%\n",
      "NA values in quantity : 0.0%\n",
      "NA values in discount : 0.0%\n",
      "NA values in final_price : 0.0%\n",
      "NA values in vendor : 0.0%\n",
      "NA values in title : 0.0%\n",
      "NA values in product_type : 20.67%\n",
      "NA values in tags : 30.54%\n",
      "NA values in customer_ID : 0.0%\n",
      "NA values in gender : 0.0%\n",
      "NA values in age : 0.0%\n",
      "NA values in nationality : 0.0%\n",
      "NA values in premium_status : 0.0%\n",
      "NA values in district : 0.0%\n",
      "NA values in tmp_NLP : 37.13%\n"
     ]
    }
   ],
   "source": [
    "for column in data_df.columns:\n",
    "    print(f'NA values in {column} : {round(data_df[column].isnull().sum()/len(data_df)*100,2)}%')"
   ]
  },
  {
   "cell_type": "markdown",
   "id": "294eca94-a1e7-46b9-a557-62461473461c",
   "metadata": {},
   "source": [
    "# NLP process"
   ]
  },
  {
   "cell_type": "markdown",
   "id": "a9b5ec3a-cd52-4b71-ae04-cad74cbb4352",
   "metadata": {},
   "source": [
    "## extracting 1000 rows"
   ]
  },
  {
   "cell_type": "code",
   "execution_count": 263,
   "id": "acb3a751-6639-454d-b5d5-0d8318e760b6",
   "metadata": {},
   "outputs": [],
   "source": [
    "data_sample_100_000_df = data_df.sample(n = 100_000,random_state=42)\n",
    "data_sample_100_000_df = data_sample_100_000_df.dropna()"
   ]
  },
  {
   "cell_type": "markdown",
   "id": "7dd0516b-0b3d-42bc-b718-a465d8ef47d7",
   "metadata": {},
   "source": [
    "## Creating train and test set"
   ]
  },
  {
   "cell_type": "code",
   "execution_count": 265,
   "id": "c4cf474f-7cb6-47a3-acca-d84c971cd4df",
   "metadata": {},
   "outputs": [
    {
     "data": {
      "text/html": [
       "<div>\n",
       "<style scoped>\n",
       "    .dataframe tbody tr th:only-of-type {\n",
       "        vertical-align: middle;\n",
       "    }\n",
       "\n",
       "    .dataframe tbody tr th {\n",
       "        vertical-align: top;\n",
       "    }\n",
       "\n",
       "    .dataframe thead th {\n",
       "        text-align: right;\n",
       "    }\n",
       "</style>\n",
       "<table border=\"1\" class=\"dataframe\">\n",
       "  <thead>\n",
       "    <tr style=\"text-align: right;\">\n",
       "      <th></th>\n",
       "      <th>vendor</th>\n",
       "      <th>title</th>\n",
       "      <th>product_type</th>\n",
       "      <th>tags</th>\n",
       "      <th>product_cat</th>\n",
       "      <th>product_gender</th>\n",
       "    </tr>\n",
       "  </thead>\n",
       "  <tbody>\n",
       "    <tr>\n",
       "      <th>240080</th>\n",
       "      <td>Timberland-Online</td>\n",
       "      <td>Casual Crew 3 Pack - Dress Blues</td>\n",
       "      <td>Accessories</td>\n",
       "      <td>M  Men  Socks</td>\n",
       "      <td>accessory</td>\n",
       "      <td>men</td>\n",
       "    </tr>\n",
       "    <tr>\n",
       "      <th>567931</th>\n",
       "      <td>Maje-Online</td>\n",
       "      <td>Jumpsuit - Black</td>\n",
       "      <td>Bottom</td>\n",
       "      <td>Jumpsuit  T34  T36  T38  T40</td>\n",
       "      <td>clothes</td>\n",
       "      <td>unisex</td>\n",
       "    </tr>\n",
       "    <tr>\n",
       "      <th>543708</th>\n",
       "      <td>WEAT-Online</td>\n",
       "      <td>Coin Purse Croco Blue - Dark Blue</td>\n",
       "      <td>Bags</td>\n",
       "      <td>Coin Purse</td>\n",
       "      <td>accessory</td>\n",
       "      <td>unisex</td>\n",
       "    </tr>\n",
       "    <tr>\n",
       "      <th>399881</th>\n",
       "      <td>Shiseido-Online</td>\n",
       "      <td>High-Pigment Longwear Eyeliner Via Veneto</td>\n",
       "      <td>Point Eyes</td>\n",
       "      <td>NARS  Point Eyes  QUOTA3</td>\n",
       "      <td>bath_body</td>\n",
       "      <td>unisex</td>\n",
       "    </tr>\n",
       "    <tr>\n",
       "      <th>199225</th>\n",
       "      <td>Balmain-Online</td>\n",
       "      <td>T-Shirt - Black/White</td>\n",
       "      <td>T-Shirt</td>\n",
       "      <td>L  M  Men  S  XL  XS</td>\n",
       "      <td>clothes</td>\n",
       "      <td>men</td>\n",
       "    </tr>\n",
       "    <tr>\n",
       "      <th>...</th>\n",
       "      <td>...</td>\n",
       "      <td>...</td>\n",
       "      <td>...</td>\n",
       "      <td>...</td>\n",
       "      <td>...</td>\n",
       "      <td>...</td>\n",
       "    </tr>\n",
       "    <tr>\n",
       "      <th>619366</th>\n",
       "      <td>StojoStasher-Online</td>\n",
       "      <td>Tru Earth Eco-Strips Laundry Detergent (Fresh ...</td>\n",
       "      <td>Laundry Detergent</td>\n",
       "      <td>Eco-friendly  Tru Earth</td>\n",
       "      <td>kitchen</td>\n",
       "      <td>unisex</td>\n",
       "    </tr>\n",
       "    <tr>\n",
       "      <th>661799</th>\n",
       "      <td>ShiseidoFragrance-Online</td>\n",
       "      <td>Italian Luxury Beauty Dolce Shine EDP - 50ml</td>\n",
       "      <td>Fragrance</td>\n",
       "      <td>Dolce  Italian Luxury Beauty  QUOTA10</td>\n",
       "      <td>bath_body</td>\n",
       "      <td>unisex</td>\n",
       "    </tr>\n",
       "    <tr>\n",
       "      <th>613096</th>\n",
       "      <td>JosephJoseph-Online</td>\n",
       "      <td>Bloom Folding Steamer Basket - Green</td>\n",
       "      <td>Household</td>\n",
       "      <td>Kitchenware</td>\n",
       "      <td>kitchen</td>\n",
       "      <td>unisex</td>\n",
       "    </tr>\n",
       "    <tr>\n",
       "      <th>772640</th>\n",
       "      <td>Alluressories-online</td>\n",
       "      <td>George Balanchine Way Necklace - Moonstone</td>\n",
       "      <td>Jewelry</td>\n",
       "      <td>Moonstone  Necklace  Size F</td>\n",
       "      <td>accessory</td>\n",
       "      <td>women</td>\n",
       "    </tr>\n",
       "    <tr>\n",
       "      <th>936026</th>\n",
       "      <td>Tory Burch-Online</td>\n",
       "      <td>Heart And Bow Earring - Shiny Brass / Pale Papaya</td>\n",
       "      <td>Jewelry</td>\n",
       "      <td>Earrings  One Size</td>\n",
       "      <td>accessory</td>\n",
       "      <td>women</td>\n",
       "    </tr>\n",
       "  </tbody>\n",
       "</table>\n",
       "<p>52823 rows × 6 columns</p>\n",
       "</div>"
      ],
      "text/plain": [
       "                          vendor  \\\n",
       "240080         Timberland-Online   \n",
       "567931               Maje-Online   \n",
       "543708               WEAT-Online   \n",
       "399881           Shiseido-Online   \n",
       "199225            Balmain-Online   \n",
       "...                          ...   \n",
       "619366       StojoStasher-Online   \n",
       "661799  ShiseidoFragrance-Online   \n",
       "613096       JosephJoseph-Online   \n",
       "772640      Alluressories-online   \n",
       "936026         Tory Burch-Online   \n",
       "\n",
       "                                                    title       product_type  \\\n",
       "240080                   Casual Crew 3 Pack - Dress Blues        Accessories   \n",
       "567931                                   Jumpsuit - Black             Bottom   \n",
       "543708                  Coin Purse Croco Blue - Dark Blue               Bags   \n",
       "399881          High-Pigment Longwear Eyeliner Via Veneto         Point Eyes   \n",
       "199225                              T-Shirt - Black/White            T-Shirt   \n",
       "...                                                   ...                ...   \n",
       "619366  Tru Earth Eco-Strips Laundry Detergent (Fresh ...  Laundry Detergent   \n",
       "661799       Italian Luxury Beauty Dolce Shine EDP - 50ml          Fragrance   \n",
       "613096               Bloom Folding Steamer Basket - Green          Household   \n",
       "772640         George Balanchine Way Necklace - Moonstone            Jewelry   \n",
       "936026  Heart And Bow Earring - Shiny Brass / Pale Papaya            Jewelry   \n",
       "\n",
       "                                         tags product_cat product_gender  \n",
       "240080                          M  Men  Socks   accessory            men  \n",
       "567931           Jumpsuit  T34  T36  T38  T40     clothes         unisex  \n",
       "543708                             Coin Purse   accessory         unisex  \n",
       "399881               NARS  Point Eyes  QUOTA3   bath_body         unisex  \n",
       "199225                   L  M  Men  S  XL  XS     clothes            men  \n",
       "...                                       ...         ...            ...  \n",
       "619366                Eco-friendly  Tru Earth     kitchen         unisex  \n",
       "661799  Dolce  Italian Luxury Beauty  QUOTA10   bath_body         unisex  \n",
       "613096                            Kitchenware     kitchen         unisex  \n",
       "772640            Moonstone  Necklace  Size F   accessory          women  \n",
       "936026                     Earrings  One Size   accessory          women  \n",
       "\n",
       "[52823 rows x 6 columns]"
      ]
     },
     "execution_count": 265,
     "metadata": {},
     "output_type": "execute_result"
    }
   ],
   "source": [
    "data_sample_100_000_df['product_gender'] = 'unisex'\n",
    "data_sample_100_000_df['product_cat'] = '__'\n",
    "data_sample_100_000_df['tags'] = data_sample_100_000_df[\"tags\"].str.replace(',',' ')\n",
    "\n",
    "##Type of product\n",
    "data_sample_100_000_df.loc[data_sample_100_000_df[\"tags\"].str.contains('\\d{2}'),'product_cat'] = 'clothes'\n",
    "data_sample_100_000_df.loc[data_sample_100_000_df[\"tags\"].str.contains('[\\s|]X*S[\\s|]'),'product_cat'] = 'clothes'\n",
    "data_sample_100_000_df.loc[data_sample_100_000_df[\"tags\"].str.contains('[\\s|]M[\\s|]'),'product_cat'] = 'clothes'\n",
    "data_sample_100_000_df.loc[data_sample_100_000_df[\"tags\"].str.contains('[\\s|]X*L[\\s|]'),'product_cat'] = 'clothes'\n",
    "data_sample_100_000_df.loc[data_sample_100_000_df[\"tags\"].str.contains('Shirt'),'product_cat'] = 'clothes'\n",
    "data_sample_100_000_df.loc[data_sample_100_000_df[\"tags\"].str.contains('Dress'),'product_cat'] = 'clothes'\n",
    "data_sample_100_000_df.loc[data_sample_100_000_df[\"tags\"].str.contains('Underwear'),'product_cat'] = 'clothes'\n",
    "data_sample_100_000_df.loc[data_sample_100_000_df[\"tags\"].str.contains('Trousers'),'product_cat'] = 'clothes'\n",
    "\n",
    "\n",
    "data_sample_100_000_df.loc[data_sample_100_000_df[\"product_type\"].str.contains('Watershorts'),'product_cat'] = 'clothes'\n",
    "data_sample_100_000_df.loc[data_sample_100_000_df[\"product_type\"].str.contains('Top'),'product_cat'] = 'clothes'\n",
    "data_sample_100_000_df.loc[data_sample_100_000_df[\"product_type\"].str.contains('Dresses'),'product_cat'] = 'clothes'\n",
    "data_sample_100_000_df.loc[data_sample_100_000_df[\"product_type\"].str.contains('Trousers'),'product_cat'] = 'clothes'\n",
    "data_sample_100_000_df.loc[data_sample_100_000_df[\"product_type\"].str.contains('Clothing'),'product_cat'] = 'clothes'\n",
    "data_sample_100_000_df.loc[data_sample_100_000_df[\"product_type\"].str.contains('Apparel'),'product_cat'] = 'clothes'\n",
    "data_sample_100_000_df.loc[data_sample_100_000_df[\"product_type\"].str.contains('Ready-to-wear'),'product_cat'] = 'clothes'\n",
    "data_sample_100_000_df.loc[data_sample_100_000_df[\"product_type\"].str.contains('Underwear'),'product_cat'] = 'clothes'\n",
    "data_sample_100_000_df.loc[data_sample_100_000_df[\"product_type\"].str.contains('Bra'),'product_cat'] = 'clothes'\n",
    "\n",
    "data_sample_100_000_df.loc[data_sample_100_000_df[\"vendor\"].str.contains('RisingLotus'),'product_cat'] = 'clothes'\n",
    "data_sample_100_000_df.loc[data_sample_100_000_df[\"vendor\"].str.contains('AliceOlivia'),'product_cat'] = 'clothes'\n",
    "data_sample_100_000_df.loc[data_sample_100_000_df[\"vendor\"].str.contains('CasaCalvin'),'product_cat'] = 'clothes'\n",
    "data_sample_100_000_df.loc[data_sample_100_000_df[\"vendor\"].str.contains('RisingLotus'),'product_cat'] = 'clothes'\n",
    "data_sample_100_000_df.loc[data_sample_100_000_df[\"vendor\"].str.contains('RisingLotus'),'product_cat'] = 'clothes'\n",
    "data_sample_100_000_df.loc[data_sample_100_000_df[\"vendor\"].str.contains('RisingLotus'),'product_cat'] = 'clothes'\n",
    "\n",
    "data_sample_100_000_df.loc[data_sample_100_000_df[\"product_type\"].str.contains('Shoes'),'product_cat'] = 'clothes'\n",
    "data_sample_100_000_df.loc[data_sample_100_000_df[\"product_type\"].str.contains('Footwear'),'product_cat'] = 'clothes'\n",
    "data_sample_100_000_df.loc[data_sample_100_000_df[\"product_type\"].str.contains('Boot'),'product_cat'] = 'clothes'\n",
    "data_sample_100_000_df.loc[data_sample_100_000_df[\"product_type\"].str.contains('Slippers'),'product_cat'] = 'clothes'\n",
    "data_sample_100_000_df.loc[data_sample_100_000_df[\"product_type\"].str.contains('Sandal'),'product_cat'] = 'clothes'\n",
    "\n",
    "data_sample_100_000_df.loc[data_sample_100_000_df[\"vendor\"].str.contains('LeCreuset'),'product_cat'] = 'kitchen'\n",
    "data_sample_100_000_df.loc[data_sample_100_000_df[\"vendor\"].str.contains('Le Creuset'),'product_cat'] = 'kitchen'\n",
    "data_sample_100_000_df.loc[data_sample_100_000_df[\"vendor\"].str.contains('StojoStasher'),'product_cat'] = 'kitchen'\n",
    "data_sample_100_000_df.loc[data_sample_100_000_df[\"tags\"].str.contains('Kitchenware'),'product_cat'] = 'kitchen'\n",
    "data_sample_100_000_df.loc[data_sample_100_000_df[\"product_type\"].str.contains('Kitchenware'),'product_cat'] = 'kitchen'\n",
    "\n",
    "data_sample_100_000_df.loc[data_sample_100_000_df[\"product_type\"].str.contains('Bath & Body'),'product_cat'] = 'bath_body'\n",
    "data_sample_100_000_df.loc[data_sample_100_000_df[\"product_type\"].str.contains('Fragrance'),'product_cat'] = 'bath_body'\n",
    "data_sample_100_000_df.loc[data_sample_100_000_df[\"vendor\"].str.contains('The Body Shop'),'product_cat'] = 'bath_body'\n",
    "data_sample_100_000_df.loc[data_sample_100_000_df[\"vendor\"].str.contains('Dermatory'),'product_cat'] = 'bath_body'\n",
    "data_sample_100_000_df.loc[data_sample_100_000_df[\"tags\"].str.contains('Bathing'),'product_cat'] = 'bath_body'\n",
    "data_sample_100_000_df.loc[data_sample_100_000_df[\"tags\"].str.contains('Sheet Mask'),'product_cat'] = 'bath_body'\n",
    "data_sample_100_000_df.loc[data_sample_100_000_df[\"tags\"].str.contains('Cleansing'),'product_cat'] = 'bath_body'\n",
    "data_sample_100_000_df.loc[data_sample_100_000_df[\"product_type\"].str.contains('Serum'),'product_cat'] = 'bath_body'\n",
    "data_sample_100_000_df.loc[data_sample_100_000_df[\"tags\"].str.contains('Skincare Set'),'product_cat'] = 'bath_body'\n",
    "data_sample_100_000_df.loc[data_sample_100_000_df[\"product_type\"].str.contains('Makeup'),'product_cat'] = 'bath_body'\n",
    "data_sample_100_000_df.loc[data_sample_100_000_df[\"product_type\"].str.contains('MakeUp'),'product_cat'] = 'bath_body'\n",
    "data_sample_100_000_df.loc[data_sample_100_000_df[\"tags\"].str.contains('Shower Gel'),'product_cat'] = 'bath_body'\n",
    "data_sample_100_000_df.loc[data_sample_100_000_df[\"product_type\"].str.contains('Defrisant'),'product_cat'] = 'bath_body'\n",
    "data_sample_100_000_df.loc[data_sample_100_000_df[\"product_type\"].str.contains('Skincare'),'product_cat'] = 'bath_body'\n",
    "data_sample_100_000_df.loc[data_sample_100_000_df[\"product_type\"].str.contains('Shampoo'),'product_cat'] = 'bath_body'\n",
    "data_sample_100_000_df.loc[data_sample_100_000_df[\"product_type\"].str.contains('Leave-in beauty'),'product_cat'] = 'bath_body'\n",
    "data_sample_100_000_df.loc[data_sample_100_000_df[\"vendor\"].str.contains('Phyto'),'product_cat'] = 'bath_body'\n",
    "data_sample_100_000_df.loc[data_sample_100_000_df[\"vendor\"].str.contains('Shiseido'),'product_cat'] = 'bath_body'\n",
    "data_sample_100_000_df.loc[data_sample_100_000_df[\"vendor\"].str.contains('bareMinerals'),'product_cat'] = 'bath_body'\n",
    "data_sample_100_000_df.loc[data_sample_100_000_df[\"product_type\"].str.contains('Lip'),'product_cat'] = 'bath_body'\n",
    "data_sample_100_000_df.loc[data_sample_100_000_df[\"product_type\"].str.contains('Skin'),'product_cat'] = 'bath_body'\n",
    "data_sample_100_000_df.loc[data_sample_100_000_df[\"product_type\"].str.contains('Personal Care Appliance'),'product_cat'] = 'bath_body'\n",
    "data_sample_100_000_df.loc[data_sample_100_000_df[\"product_type\"].str.contains('Make-up'),'product_cat'] = 'bath_body'\n",
    "data_sample_100_000_df.loc[data_sample_100_000_df[\"product_type\"].str.contains('Make up'),'product_cat'] = 'bath_body'\n",
    "data_sample_100_000_df.loc[data_sample_100_000_df[\"product_type\"].str.contains('Hand Care'),'product_cat'] = 'bath_body'\n",
    "data_sample_100_000_df.loc[data_sample_100_000_df[\"product_type\"].str.contains('Anti-Aging'),'product_cat'] = 'bath_body'\n",
    "data_sample_100_000_df.loc[data_sample_100_000_df[\"product_type\"].str.contains('Face'),'product_cat'] = 'bath_body'\n",
    "data_sample_100_000_df.loc[data_sample_100_000_df[\"product_type\"].str.contains('Eyes'),'product_cat'] = 'bath_body'\n",
    "data_sample_100_000_df.loc[data_sample_100_000_df[\"product_type\"].str.contains('Hair'),'product_cat'] = 'bath_body'\n",
    "data_sample_100_000_df.loc[data_sample_100_000_df[\"tags\"].str.contains('Moisturising'),'product_cat'] = 'bath_body'\n",
    "data_sample_100_000_df.loc[data_sample_100_000_df[\"vendor\"].str.contains('Aromatherapy Associates'),'product_cat'] = 'bath_body'\n",
    "data_sample_100_000_df.loc[data_sample_100_000_df[\"product_type\"].str.contains('Bodycare'),'product_cat'] = 'bath_body'\n",
    "\n",
    "data_sample_100_000_df.loc[data_sample_100_000_df[\"tags\"].str.contains('[\\s|][Bb]ag'),'product_cat'] = 'accessory'\n",
    "data_sample_100_000_df.loc[data_sample_100_000_df[\"product_type\"].str.contains('Goggles'),'product_cat'] = 'accessory'\n",
    "data_sample_100_000_df.loc[data_sample_100_000_df[\"product_type\"].str.contains('Tech Accessories'),'product_cat'] = 'accessory'\n",
    "data_sample_100_000_df.loc[data_sample_100_000_df[\"product_type\"].str.contains('Accessories'),'product_cat'] = 'accessory'\n",
    "data_sample_100_000_df.loc[data_sample_100_000_df[\"product_type\"].str.contains('BAG'),'product_cat'] = 'accessory'\n",
    "data_sample_100_000_df.loc[data_sample_100_000_df[\"product_type\"].str.contains('Bags'),'product_cat'] = 'accessory'\n",
    "data_sample_100_000_df.loc[data_sample_100_000_df[\"product_type\"].str.contains('Cap'),'product_cat'] = 'accessory'\n",
    "data_sample_100_000_df.loc[data_sample_100_000_df[\"product_type\"].str.contains('Jewelry'),'product_cat'] = 'accessory'\n",
    "data_sample_100_000_df.loc[data_sample_100_000_df[\"product_type\"].str.contains('Jewellery'),'product_cat'] = 'accessory'\n",
    "data_sample_100_000_df.loc[data_sample_100_000_df[\"tags\"].str.contains('Accessories'),'product_cat'] = 'accessory'\n",
    "data_sample_100_000_df.loc[data_sample_100_000_df[\"tags\"].str.contains('Wallets'),'product_cat'] = 'accessory'\n",
    "data_sample_100_000_df.loc[data_sample_100_000_df[\"tags\"].str.contains('Belts'),'product_cat'] = 'accessory'\n",
    "data_sample_100_000_df.loc[data_sample_100_000_df[\"product_type\"].str.contains('Rings'),'product_cat'] = 'accessory'\n",
    "data_sample_100_000_df.loc[data_sample_100_000_df[\"tags\"].str.contains('Scarf'),'product_cat'] = 'accessory'\n",
    "data_sample_100_000_df.loc[data_sample_100_000_df[\"product_type\"].str.contains('Goods'),'product_cat'] = 'accessory'\n",
    "data_sample_100_000_df.loc[data_sample_100_000_df[\"product_type\"].str.contains('Handbags'),'product_cat'] = 'accessory'\n",
    "data_sample_100_000_df.loc[data_sample_100_000_df[\"product_type\"].str.contains('Bag'),'product_cat'] = 'accessory'\n",
    "data_sample_100_000_df.loc[data_sample_100_000_df[\"product_type\"].str.contains('Wallet'),'product_cat'] = 'accessory'\n",
    "data_sample_100_000_df.loc[data_sample_100_000_df[\"product_type\"].str.contains('Sunglasses'),'product_cat'] = 'accessory'\n",
    "\n",
    "data_sample_100_000_df.loc[data_sample_100_000_df[\"vendor\"].str.contains('Qwehli'),'product_cat'] = 'food'\n",
    "data_sample_100_000_df.loc[data_sample_100_000_df[\"product_type\"].str.contains('Seafood'),'product_cat'] = 'food'\n",
    "\n",
    "data_sample_100_000_df.loc[data_sample_100_000_df[\"product_type\"].str.contains('Wine'),'product_cat'] = 'wine'\n",
    "data_sample_100_000_df.loc[data_sample_100_000_df[\"vendor\"].str.contains('Altaya'),'product_cat'] = 'wine'\n",
    "\n",
    "data_sample_100_000_df.loc[data_sample_100_000_df[\"vendor\"].str.contains('Or Tea'),'product_cat'] = 'drink'\n",
    "\n",
    "data_sample_100_000_df.loc[data_sample_100_000_df[\"product_type\"].str.contains('Home Electronics'),'product_cat'] = 'home_appliance'\n",
    "data_sample_100_000_df.loc[data_sample_100_000_df[\"product_type\"].str.contains('Homeware'),'product_cat'] = 'home_appliance'\n",
    "\n",
    "data_sample_100_000_df.loc[data_sample_100_000_df[\"product_type\"].str.contains('Candle'),'product_cat'] = 'home'\n",
    "data_sample_100_000_df.loc[data_sample_100_000_df[\"product_type\"].str.contains('Towel'),'product_cat'] = 'home'\n",
    "data_sample_100_000_df.loc[data_sample_100_000_df[\"product_type\"].str.contains('Bedding Set'),'product_cat'] = 'home'\n",
    "data_sample_100_000_df.loc[data_sample_100_000_df[\"product_type\"].str.contains('Writitng'),'product_cat'] = 'home'\n",
    "data_sample_100_000_df.loc[data_sample_100_000_df[\"product_type\"].str.contains('Writing'),'product_cat'] = 'home'\n",
    "data_sample_100_000_df.loc[data_sample_100_000_df[\"product_type\"].str.contains('Luggage'),'product_cat'] = 'home'\n",
    "data_sample_100_000_df.loc[data_sample_100_000_df[\"product_type\"].str.contains('CuddleDry'),'product_cat'] = 'home'\n",
    "data_sample_100_000_df.loc[data_sample_100_000_df[\"product_type\"].str.contains('Paper Product'),'product_cat'] = 'home'\n",
    "data_sample_100_000_df.loc[data_sample_100_000_df[\"product_type\"].str.contains('Pillow Case'),'product_cat'] = 'home'\n",
    "\n",
    "\n",
    "### Gender of the product\n",
    "data_sample_100_000_df.loc[data_sample_100_000_df[\"tags\"].str.contains('[\\s|][Mm]en'),'product_gender'] = 'men'\n",
    "data_sample_100_000_df.loc[data_sample_100_000_df[\"tags\"].str.contains('^[Mm]en'),'product_gender'] = 'men'\n",
    "data_sample_100_000_df.loc[data_sample_100_000_df[\"tags\"].str.contains('[\\s|][Mm]ale'),'product_gender'] = 'men'\n",
    "data_sample_100_000_df.loc[data_sample_100_000_df[\"tags\"].str.contains('^[Mm]ale'),'product_gender'] = 'men'\n",
    "data_sample_100_000_df.loc[data_sample_100_000_df[\"tags\"].str.contains('[\\s|][Mm]an'),'product_gender'] = 'men'\n",
    "data_sample_100_000_df.loc[data_sample_100_000_df[\"tags\"].str.contains('^[Mm]an'),'product_gender'] = 'men'\n",
    "\n",
    "data_sample_100_000_df.loc[data_sample_100_000_df[\"tags\"].str.contains('[\\s|][Ww]omen'),'product_gender'] = 'women'\n",
    "data_sample_100_000_df.loc[data_sample_100_000_df[\"tags\"].str.contains('^[Ww]omen'),'product_gender'] = 'women'\n",
    "data_sample_100_000_df.loc[data_sample_100_000_df[\"tags\"].str.contains('[\\s|][Ff]emale'),'product_gender'] = 'women'\n",
    "data_sample_100_000_df.loc[data_sample_100_000_df[\"tags\"].str.contains('^[Ff]emale'),'product_gender'] = 'women'\n",
    "data_sample_100_000_df.loc[data_sample_100_000_df[\"tags\"].str.contains('[\\s|][Ww]oman'),'product_gender'] = 'women'\n",
    "data_sample_100_000_df.loc[data_sample_100_000_df[\"tags\"].str.contains('^[Ww]oman'),'product_gender'] = 'women'\n",
    "data_sample_100_000_df.loc[data_sample_100_000_df[\"product_type\"].str.contains('^[Jj]ewel'),'product_gender'] = 'women'\n",
    "\n",
    "data_sample_100_000_df.loc[data_sample_100_000_df[\"tags\"].str.contains('[\\s|][Jj]unior'),'product_gender'] = 'children'\n",
    "data_sample_100_000_df.loc[data_sample_100_000_df[\"tags\"].str.contains('^[Jj]unior'),'product_gender'] = 'children'\n",
    "data_sample_100_000_df.loc[data_sample_100_000_df[\"tags\"].str.contains('[\\s|][Bb]aby'),'product_gender'] = 'children'\n",
    "data_sample_100_000_df.loc[data_sample_100_000_df[\"tags\"].str.contains('^[Bb]aby'),'product_gender'] = 'children'\n",
    "data_sample_100_000_df.loc[data_sample_100_000_df[\"product_type\"].str.contains('.*[Bb]aby.*'),'product_gender'] = 'children'\n",
    "data_sample_100_000_df.loc[data_sample_100_000_df[\"product_type\"].str.contains('.*[Kk]ids.*'),'product_gender'] = 'children'\n",
    "\n",
    "data_sample_100_000_df[(data_sample_100_000_df['product_cat'] != '__')][['vendor','title','product_type','tags','product_cat','product_gender']]\n",
    "# len(data_sample_100_000_df[(data_sample_100_000_df['product_cat'] == '__')])\n",
    "\n",
    "# data_sample_100_000_df[(data_sample_100_000_df['product_gender'] == '__')]\n",
    "# data_sample_100_000_df.head(60)"
   ]
  },
  {
   "cell_type": "code",
   "execution_count": 271,
   "id": "1ee24c21-67b1-4cc0-aa8a-a3dc571f865f",
   "metadata": {},
   "outputs": [],
   "source": [
    "data_for_train_test = data_sample_100_000_df[(data_sample_100_000_df['product_cat'] != '__')]\n",
    "# data_for_train_test"
   ]
  },
  {
   "cell_type": "code",
   "execution_count": 273,
   "id": "dbf59a09-53cd-4adc-ab6f-5d64a0b96251",
   "metadata": {},
   "outputs": [],
   "source": [
    "from sklearn.model_selection import train_test_split\n",
    "\n",
    "X = data_for_train_test['tmp_NLP']\n",
    "y = data_for_train_test['product_cat']\n",
    "\n",
    "X_train, X_test, y_train, y_test = train_test_split(X, y, test_size=0.33, random_state=42)"
   ]
  }
 ],
 "metadata": {
  "kernelspec": {
   "display_name": "Python 3 (ipykernel)",
   "language": "python",
   "name": "python3"
  },
  "language_info": {
   "codemirror_mode": {
    "name": "ipython",
    "version": 3
   },
   "file_extension": ".py",
   "mimetype": "text/x-python",
   "name": "python",
   "nbconvert_exporter": "python",
   "pygments_lexer": "ipython3",
   "version": "3.8.6"
  }
 },
 "nbformat": 4,
 "nbformat_minor": 5
}
