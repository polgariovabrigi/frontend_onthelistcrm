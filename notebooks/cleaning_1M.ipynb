{
 "cells": [
  {
   "cell_type": "code",
   "execution_count": 1,
   "id": "bdf4fde4-98c8-4268-bc9d-c971d4fa015a",
   "metadata": {},
   "outputs": [],
   "source": [
    "import pandas as pd\n",
    "import numpy as np\n",
    "import matplotlib.pyplot as plt"
   ]
  },
  {
   "cell_type": "markdown",
   "id": "fd50752f-01db-47db-a2ad-b8fdce63af2e",
   "metadata": {
    "jp-MarkdownHeadingCollapsed": true,
    "tags": []
   },
   "source": [
    "# Exploring the data"
   ]
  },
  {
   "cell_type": "markdown",
   "id": "604a530c-6127-4933-9d70-20de12b0257f",
   "metadata": {
    "jp-MarkdownHeadingCollapsed": true,
    "tags": []
   },
   "source": [
    "## Importing value"
   ]
  },
  {
   "cell_type": "code",
   "execution_count": 2,
   "id": "687b802b-4292-4239-86ad-3b21c40e3349",
   "metadata": {},
   "outputs": [],
   "source": [
    "data_df = pd.read_csv('../raw_data/1M_rows_raw.csv')"
   ]
  },
  {
   "cell_type": "code",
   "execution_count": 3,
   "id": "fa4416f3-0ec3-4dd3-8df4-1cb3b7356aba",
   "metadata": {},
   "outputs": [],
   "source": [
    "# data_df.info()"
   ]
  },
  {
   "cell_type": "markdown",
   "id": "f614494d-fc10-4472-be4b-b0b669b92c25",
   "metadata": {
    "jp-MarkdownHeadingCollapsed": true,
    "tags": []
   },
   "source": [
    "## Column renamimg"
   ]
  },
  {
   "cell_type": "code",
   "execution_count": 4,
   "id": "ce80f13b-8b09-44a1-9e69-73318322808e",
   "metadata": {},
   "outputs": [
    {
     "data": {
      "text/plain": [
       "Index(['order_ID', 'item_ID', 'date', 'price', 'quantity', 'discount',\n",
       "       'final_price', 'vendor', 'title', 'product_type', 'tags', 'customer_ID',\n",
       "       'gender', 'age', 'nationality', 'premium_status', 'district'],\n",
       "      dtype='object')"
      ]
     },
     "execution_count": 4,
     "metadata": {},
     "output_type": "execute_result"
    }
   ],
   "source": [
    "data_df.rename(columns={'_sdc_source_key_id':'order_ID',\n",
    "                        'sku':'item_ID',\n",
    "                        'item price':'item_price',\n",
    "                        'item quantity':'item_quantity',\n",
    "                        'line-item discount':'discount',\n",
    "                        'price_qty':'final_price',\n",
    "                        'email':'customer_ID',\n",
    "                        'Nationality':'nationality'\n",
    "                        },\n",
    "                             inplace = True)\n",
    "data_df.columns"
   ]
  },
  {
   "cell_type": "markdown",
   "id": "067aa05b-0220-4f5d-86e9-08e58013a70e",
   "metadata": {
    "jp-MarkdownHeadingCollapsed": true,
    "tags": []
   },
   "source": [
    "## Working on NA values"
   ]
  },
  {
   "cell_type": "code",
   "execution_count": 5,
   "id": "c459e76c-886c-43f1-bbee-811959d057a9",
   "metadata": {},
   "outputs": [
    {
     "name": "stdout",
     "output_type": "stream",
     "text": [
      "NA values in order_ID : 0.0%\n",
      "NA values in item_ID : 0.84%\n",
      "NA values in date : 0.0%\n",
      "NA values in price : 0.0%\n",
      "NA values in quantity : 0.0%\n",
      "NA values in discount : 0.0%\n",
      "NA values in final_price : 0.0%\n",
      "NA values in vendor : 14.81%\n",
      "NA values in title : 14.81%\n",
      "NA values in product_type : 32.77%\n",
      "NA values in tags : 41.43%\n",
      "NA values in customer_ID : 1.29%\n",
      "NA values in gender : 1.7%\n",
      "NA values in age : 6.3%\n",
      "NA values in nationality : 47.66%\n",
      "NA values in premium_status : 0.0%\n",
      "NA values in district : 6.76%\n"
     ]
    }
   ],
   "source": [
    "for column in data_df.columns:\n",
    "    print(f'NA values in {column} : {round(data_df[column].isnull().sum()/len(data_df)*100,2)}%')"
   ]
  },
  {
   "cell_type": "markdown",
   "id": "09e1663c-4613-4db4-872b-2c2988cccfd0",
   "metadata": {
    "jp-MarkdownHeadingCollapsed": true,
    "tags": []
   },
   "source": [
    "### Droping NA item_ID, customer_ID"
   ]
  },
  {
   "cell_type": "code",
   "execution_count": 6,
   "id": "69878e81-b8ff-4a66-ba04-2f033bdf420b",
   "metadata": {},
   "outputs": [],
   "source": [
    "data_df.dropna(subset=['item_ID', 'customer_ID'],inplace=True)"
   ]
  },
  {
   "cell_type": "code",
   "execution_count": 7,
   "id": "9877029f-9a31-453c-9a07-69f6c2457bb3",
   "metadata": {},
   "outputs": [
    {
     "name": "stdout",
     "output_type": "stream",
     "text": [
      "NA values in order_ID : 0.0%\n",
      "NA values in item_ID : 0.0%\n",
      "NA values in date : 0.0%\n",
      "NA values in price : 0.0%\n",
      "NA values in quantity : 0.0%\n",
      "NA values in discount : 0.0%\n",
      "NA values in final_price : 0.0%\n",
      "NA values in vendor : 14.24%\n",
      "NA values in title : 14.24%\n",
      "NA values in product_type : 31.96%\n",
      "NA values in tags : 40.43%\n",
      "NA values in customer_ID : 0.0%\n",
      "NA values in gender : 0.41%\n",
      "NA values in age : 5.03%\n",
      "NA values in nationality : 46.95%\n",
      "NA values in premium_status : 0.0%\n",
      "NA values in district : 5.5%\n"
     ]
    }
   ],
   "source": [
    "for column in data_df.columns:\n",
    "    print(f'NA values in {column} : {round(data_df[column].isnull().sum()/len(data_df)*100,2)}%')"
   ]
  },
  {
   "cell_type": "markdown",
   "id": "a7b71cbf-5c1a-449f-b79c-8398ea751a80",
   "metadata": {
    "jp-MarkdownHeadingCollapsed": true,
    "tags": []
   },
   "source": [
    "### For district, nationality, gender,  - most comun one"
   ]
  },
  {
   "cell_type": "markdown",
   "id": "46a8532e-4819-485d-bf5f-ee4b69910786",
   "metadata": {
    "jp-MarkdownHeadingCollapsed": true,
    "tags": []
   },
   "source": [
    "#### district"
   ]
  },
  {
   "cell_type": "code",
   "execution_count": 8,
   "id": "181ad4c1-adb5-4f64-ba38-19f14440a421",
   "metadata": {},
   "outputs": [],
   "source": [
    "# data_df['district'].unique()"
   ]
  },
  {
   "cell_type": "code",
   "execution_count": 9,
   "id": "478caf29-8e9c-4639-97a7-4ddccabc413a",
   "metadata": {},
   "outputs": [
    {
     "name": "stdout",
     "output_type": "stream",
     "text": [
      "Kowloon City : 5.5%\n",
      "Eastern : 9.11%\n",
      "Central & Western : 32.94%\n",
      "Wan Chai : 6.58%\n",
      "Southern : 5.81%\n"
     ]
    }
   ],
   "source": [
    "for district in data_df['district'].unique():\n",
    "    count=data_df[data_df['district'] == district]['district'].count()\n",
    "    if count/len(data_df)*100 > 5:\n",
    "        print(f'{district} : {round(    count   /   len(data_df)  *  100     ,2)}%')"
   ]
  },
  {
   "cell_type": "code",
   "execution_count": 10,
   "id": "31942ed1-2e52-47fd-b858-1661302df6ba",
   "metadata": {},
   "outputs": [],
   "source": [
    "data_df['district'] = data_df['district'].fillna('Central & Western')"
   ]
  },
  {
   "cell_type": "markdown",
   "id": "495ac5b2-a090-4fb4-872c-73a92167124e",
   "metadata": {
    "jp-MarkdownHeadingCollapsed": true,
    "tags": []
   },
   "source": [
    "#### nationality"
   ]
  },
  {
   "cell_type": "code",
   "execution_count": 11,
   "id": "916e0a16-4492-4b96-aa69-b870271c6d23",
   "metadata": {},
   "outputs": [],
   "source": [
    "# data_df['nationality'].unique()"
   ]
  },
  {
   "cell_type": "code",
   "execution_count": 12,
   "id": "d8eaeb53-c763-40c5-a3c7-cb6476ac9d32",
   "metadata": {},
   "outputs": [
    {
     "name": "stdout",
     "output_type": "stream",
     "text": [
      "Hong Kong SAR : 39.2%\n",
      "United Kingdom : 1.47%\n",
      "Other : 3.56%\n",
      "China : 3.0%\n",
      "Korea : 1.46%\n",
      "France : 1.37%\n",
      "American Samoa : 1.2%\n"
     ]
    }
   ],
   "source": [
    "for nationality in data_df['nationality'].unique():\n",
    "    count=data_df[data_df['nationality'] == nationality]['nationality'].count()\n",
    "    if count/len(data_df)*100 > 1:\n",
    "        print(f'{nationality} : {round(    count   /   len(data_df)  *  100     ,2)}%')"
   ]
  },
  {
   "cell_type": "code",
   "execution_count": 13,
   "id": "326f7bba-3e99-4537-9b00-5660aaf33db4",
   "metadata": {},
   "outputs": [],
   "source": [
    "data_df['nationality'] = data_df['nationality'].fillna('Hong Kong SAR')"
   ]
  },
  {
   "cell_type": "markdown",
   "id": "f29be934-527c-4af1-88c6-17155def1309",
   "metadata": {
    "jp-MarkdownHeadingCollapsed": true,
    "tags": []
   },
   "source": [
    "#### gender"
   ]
  },
  {
   "cell_type": "code",
   "execution_count": 14,
   "id": "7d2c5f2c-9081-442a-b239-937412be3778",
   "metadata": {},
   "outputs": [
    {
     "data": {
      "text/plain": [
       "array(['male', 'female', nan, 'other'], dtype=object)"
      ]
     },
     "execution_count": 14,
     "metadata": {},
     "output_type": "execute_result"
    }
   ],
   "source": [
    "data_df['gender'].unique()"
   ]
  },
  {
   "cell_type": "code",
   "execution_count": 15,
   "id": "ab90067d-9efd-4f36-8828-38f797dc5e42",
   "metadata": {},
   "outputs": [
    {
     "name": "stdout",
     "output_type": "stream",
     "text": [
      "male : 13.21%\n",
      "female : 86.37%\n",
      "other : 0.01%\n"
     ]
    }
   ],
   "source": [
    "for gender in data_df['gender'].unique():\n",
    "    count=data_df[data_df['gender'] == gender]['gender'].count()\n",
    "    if count/len(data_df)*100 > 0:\n",
    "        print(f'{gender} : {round(    count   /   len(data_df)  *  100     ,2)}%')"
   ]
  },
  {
   "cell_type": "code",
   "execution_count": 16,
   "id": "78b4d262-db78-4e77-9e54-b545ee538046",
   "metadata": {},
   "outputs": [],
   "source": [
    "data_df['gender'] = data_df['gender'].fillna('female')"
   ]
  },
  {
   "cell_type": "code",
   "execution_count": 17,
   "id": "0dd35413-aad9-4e16-95d6-518f65ba4e22",
   "metadata": {},
   "outputs": [
    {
     "name": "stdout",
     "output_type": "stream",
     "text": [
      "NA values in order_ID : 0.0%\n",
      "NA values in item_ID : 0.0%\n",
      "NA values in date : 0.0%\n",
      "NA values in price : 0.0%\n",
      "NA values in quantity : 0.0%\n",
      "NA values in discount : 0.0%\n",
      "NA values in final_price : 0.0%\n",
      "NA values in vendor : 14.24%\n",
      "NA values in title : 14.24%\n",
      "NA values in product_type : 31.96%\n",
      "NA values in tags : 40.43%\n",
      "NA values in customer_ID : 0.0%\n",
      "NA values in gender : 0.0%\n",
      "NA values in age : 5.03%\n",
      "NA values in nationality : 0.0%\n",
      "NA values in premium_status : 0.0%\n",
      "NA values in district : 0.0%\n"
     ]
    }
   ],
   "source": [
    "for column in data_df.columns:\n",
    "    print(f'NA values in {column} : {round(data_df[column].isnull().sum()/len(data_df)*100,2)}%')"
   ]
  },
  {
   "cell_type": "markdown",
   "id": "dea02ec7-61eb-4de6-85f5-d96c5372c67c",
   "metadata": {
    "jp-MarkdownHeadingCollapsed": true,
    "tags": []
   },
   "source": [
    "### For age - use the mean for nan and outliers"
   ]
  },
  {
   "cell_type": "markdown",
   "id": "48bd96bb-8bf7-4ad1-b91c-944d2d41f528",
   "metadata": {},
   "source": [
    "#### mean for nan"
   ]
  },
  {
   "cell_type": "code",
   "execution_count": 18,
   "id": "dc6df8cd-bf61-45c7-beb7-b890b689ba89",
   "metadata": {},
   "outputs": [],
   "source": [
    "data_df['age'] = data_df['age'].fillna(round(data_df['age'].mean()))"
   ]
  },
  {
   "cell_type": "markdown",
   "id": "d7ecf52f-639e-4e7d-8ff7-5f471a9bd778",
   "metadata": {
    "jp-MarkdownHeadingCollapsed": true,
    "tags": []
   },
   "source": [
    "#### outliers"
   ]
  },
  {
   "cell_type": "code",
   "execution_count": 19,
   "id": "88453e80-f63d-4cf4-9ee2-bf246468b7a2",
   "metadata": {},
   "outputs": [],
   "source": [
    "data_df.loc[data_df['age'] < 18, 'age'] = round(data_df['age'].mean())\n",
    "data_df.loc[data_df['age'] > 90, 'age'] = round(data_df['age'].mean())"
   ]
  },
  {
   "cell_type": "code",
   "execution_count": 20,
   "id": "26c7c636-cd41-44b8-aeec-a7928b43b867",
   "metadata": {},
   "outputs": [
    {
     "data": {
      "text/plain": [
       "<function matplotlib.pyplot.show(close=None, block=None)>"
      ]
     },
     "execution_count": 20,
     "metadata": {},
     "output_type": "execute_result"
    },
    {
     "data": {
      "image/png": "[encoded data removed]",
      "text/plain": [
       "<Figure size 432x288 with 1 Axes>"
      ]
     },
     "metadata": {
      "needs_background": "light"
     },
     "output_type": "display_data"
    }
   ],
   "source": [
    "plt.hist(data_df['age'])\n",
    "plt.show"
   ]
  },
  {
   "cell_type": "markdown",
   "id": "2ec061ec-c6a4-4487-aca0-60efa233808a",
   "metadata": {
    "jp-MarkdownHeadingCollapsed": true,
    "tags": []
   },
   "source": [
    "### For now : drop nan vendor"
   ]
  },
  {
   "cell_type": "code",
   "execution_count": 21,
   "id": "cf5d5f57-c69b-484f-9e93-d52250902f22",
   "metadata": {},
   "outputs": [],
   "source": [
    "data_df.dropna(subset=['vendor'],inplace=True)"
   ]
  },
  {
   "cell_type": "code",
   "execution_count": null,
   "id": "5b6283fb-d1c3-4356-a7e5-24599c9d573c",
   "metadata": {},
   "outputs": [],
   "source": []
  },
  {
   "cell_type": "markdown",
   "id": "7fff7633-0c50-48b8-bf27-fd3907e78c1f",
   "metadata": {
    "tags": []
   },
   "source": [
    "## Creat the tmp with vendor, title, product and tags for the NLP"
   ]
  },
  {
   "cell_type": "code",
   "execution_count": 22,
   "id": "06fb5378-a6ae-4c75-af98-c99fc620b80a",
   "metadata": {},
   "outputs": [],
   "source": [
    "data_df['tmp_NLP']= data_df['vendor']+' '+data_df['title']+' '+data_df['product_type']+' '+data_df['tags']"
   ]
  },
  {
   "cell_type": "code",
   "execution_count": 23,
   "id": "7702da59-054c-431c-a2d2-8c9f99456a76",
   "metadata": {},
   "outputs": [
    {
     "data": {
      "text/plain": [
       "39                                                      NaN\n",
       "91                                                      NaN\n",
       "155                                                     NaN\n",
       "688                                                     NaN\n",
       "1132                                                    NaN\n",
       "                                ...                        \n",
       "964428    Giuseppe Zanotti-Online Blabber Men Sneakers -...\n",
       "964429    ChampionDec-Online Champion Sweater/Hoodie - N...\n",
       "964430    ChampionDec-Online Champion Sweater/Hoodie - N...\n",
       "964431    ChampionDec-Online Champion 3P Socks - Black S...\n",
       "964432    Giuseppe Zanotti-Online Basic Ladies Sandals -...\n",
       "Name: tmp_NLP, Length: 812481, dtype: object"
      ]
     },
     "execution_count": 23,
     "metadata": {},
     "output_type": "execute_result"
    }
   ],
   "source": [
    "data_df['tmp_NLP']"
   ]
  },
  {
   "cell_type": "code",
   "execution_count": 24,
   "id": "06724554-bb6e-4683-bf50-d964c064662b",
   "metadata": {},
   "outputs": [
    {
     "name": "stdout",
     "output_type": "stream",
     "text": [
      "NA values in order_ID : 0.0%\n",
      "NA values in item_ID : 0.0%\n",
      "NA values in date : 0.0%\n",
      "NA values in price : 0.0%\n",
      "NA values in quantity : 0.0%\n",
      "NA values in discount : 0.0%\n",
      "NA values in final_price : 0.0%\n",
      "NA values in vendor : 0.0%\n",
      "NA values in title : 0.0%\n",
      "NA values in product_type : 20.67%\n",
      "NA values in tags : 30.54%\n",
      "NA values in customer_ID : 0.0%\n",
      "NA values in gender : 0.0%\n",
      "NA values in age : 0.0%\n",
      "NA values in nationality : 0.0%\n",
      "NA values in premium_status : 0.0%\n",
      "NA values in district : 0.0%\n",
      "NA values in tmp_NLP : 37.13%\n"
     ]
    }
   ],
   "source": [
    "for column in data_df.columns:\n",
    "    print(f'NA values in {column} : {round(data_df[column].isnull().sum()/len(data_df)*100,2)}%')"
   ]
  },
  {
   "cell_type": "markdown",
   "id": "294eca94-a1e7-46b9-a557-62461473461c",
   "metadata": {},
   "source": [
    "# NLP process"
   ]
  },
  {
   "cell_type": "markdown",
   "id": "a9b5ec3a-cd52-4b71-ae04-cad74cbb4352",
   "metadata": {
    "tags": []
   },
   "source": [
    "## extracting 100_000 rows"
   ]
  },
  {
   "cell_type": "code",
   "execution_count": 25,
   "id": "acb3a751-6639-454d-b5d5-0d8318e760b6",
   "metadata": {},
   "outputs": [],
   "source": [
    "data_sample_100_000_df = data_df.sample(n = 100_000,random_state=42)\n",
    "data_sample_100_000_df = data_sample_100_000_df.dropna()"
   ]
  },
  {
   "cell_type": "markdown",
   "id": "7dd0516b-0b3d-42bc-b718-a465d8ef47d7",
   "metadata": {
    "tags": []
   },
   "source": [
    "## creating train and test set"
   ]
  },
  {
   "cell_type": "code",
   "execution_count": 102,
   "id": "c4cf474f-7cb6-47a3-acca-d84c971cd4df",
   "metadata": {},
   "outputs": [
    {
     "data": {
      "text/html": [
       "<div>\n",
       "<style scoped>\n",
       "    .dataframe tbody tr th:only-of-type {\n",
       "        vertical-align: middle;\n",
       "    }\n",
       "\n",
       "    .dataframe tbody tr th {\n",
       "        vertical-align: top;\n",
       "    }\n",
       "\n",
       "    .dataframe thead th {\n",
       "        text-align: right;\n",
       "    }\n",
       "</style>\n",
       "<table border=\"1\" class=\"dataframe\">\n",
       "  <thead>\n",
       "    <tr style=\"text-align: right;\">\n",
       "      <th></th>\n",
       "      <th>vendor</th>\n",
       "      <th>title</th>\n",
       "      <th>product_type</th>\n",
       "      <th>tags</th>\n",
       "      <th>product_cat</th>\n",
       "      <th>product_gender</th>\n",
       "    </tr>\n",
       "  </thead>\n",
       "  <tbody>\n",
       "    <tr>\n",
       "      <th>240080</th>\n",
       "      <td>Timberland-Online</td>\n",
       "      <td>Casual Crew 3 Pack - Dress Blues</td>\n",
       "      <td>Accessories</td>\n",
       "      <td>M  Men  Socks</td>\n",
       "      <td>accessory</td>\n",
       "      <td>men</td>\n",
       "    </tr>\n",
       "    <tr>\n",
       "      <th>567931</th>\n",
       "      <td>Maje-Online</td>\n",
       "      <td>Jumpsuit - Black</td>\n",
       "      <td>Bottom</td>\n",
       "      <td>Jumpsuit  T34  T36  T38  T40</td>\n",
       "      <td>clothes</td>\n",
       "      <td>unisex</td>\n",
       "    </tr>\n",
       "    <tr>\n",
       "      <th>543708</th>\n",
       "      <td>WEAT-Online</td>\n",
       "      <td>Coin Purse Croco Blue - Dark Blue</td>\n",
       "      <td>Bags</td>\n",
       "      <td>Coin Purse</td>\n",
       "      <td>accessory</td>\n",
       "      <td>unisex</td>\n",
       "    </tr>\n",
       "    <tr>\n",
       "      <th>399881</th>\n",
       "      <td>Shiseido-Online</td>\n",
       "      <td>High-Pigment Longwear Eyeliner Via Veneto</td>\n",
       "      <td>Point Eyes</td>\n",
       "      <td>NARS  Point Eyes  QUOTA3</td>\n",
       "      <td>bath_body</td>\n",
       "      <td>unisex</td>\n",
       "    </tr>\n",
       "    <tr>\n",
       "      <th>199225</th>\n",
       "      <td>Balmain-Online</td>\n",
       "      <td>T-Shirt - Black/White</td>\n",
       "      <td>T-Shirt</td>\n",
       "      <td>L  M  Men  S  XL  XS</td>\n",
       "      <td>clothes</td>\n",
       "      <td>men</td>\n",
       "    </tr>\n",
       "    <tr>\n",
       "      <th>...</th>\n",
       "      <td>...</td>\n",
       "      <td>...</td>\n",
       "      <td>...</td>\n",
       "      <td>...</td>\n",
       "      <td>...</td>\n",
       "      <td>...</td>\n",
       "    </tr>\n",
       "    <tr>\n",
       "      <th>619366</th>\n",
       "      <td>StojoStasher-Online</td>\n",
       "      <td>Tru Earth Eco-Strips Laundry Detergent (Fresh ...</td>\n",
       "      <td>Laundry Detergent</td>\n",
       "      <td>Eco-friendly  Tru Earth</td>\n",
       "      <td>kitchen</td>\n",
       "      <td>unisex</td>\n",
       "    </tr>\n",
       "    <tr>\n",
       "      <th>661799</th>\n",
       "      <td>ShiseidoFragrance-Online</td>\n",
       "      <td>Italian Luxury Beauty Dolce Shine EDP - 50ml</td>\n",
       "      <td>Fragrance</td>\n",
       "      <td>Dolce  Italian Luxury Beauty  QUOTA10</td>\n",
       "      <td>bath_body</td>\n",
       "      <td>unisex</td>\n",
       "    </tr>\n",
       "    <tr>\n",
       "      <th>613096</th>\n",
       "      <td>JosephJoseph-Online</td>\n",
       "      <td>Bloom Folding Steamer Basket - Green</td>\n",
       "      <td>Household</td>\n",
       "      <td>Kitchenware</td>\n",
       "      <td>kitchen</td>\n",
       "      <td>unisex</td>\n",
       "    </tr>\n",
       "    <tr>\n",
       "      <th>772640</th>\n",
       "      <td>Alluressories-online</td>\n",
       "      <td>George Balanchine Way Necklace - Moonstone</td>\n",
       "      <td>Jewelry</td>\n",
       "      <td>Moonstone  Necklace  Size F</td>\n",
       "      <td>accessory</td>\n",
       "      <td>women</td>\n",
       "    </tr>\n",
       "    <tr>\n",
       "      <th>936026</th>\n",
       "      <td>Tory Burch-Online</td>\n",
       "      <td>Heart And Bow Earring - Shiny Brass / Pale Papaya</td>\n",
       "      <td>Jewelry</td>\n",
       "      <td>Earrings  One Size</td>\n",
       "      <td>accessory</td>\n",
       "      <td>women</td>\n",
       "    </tr>\n",
       "  </tbody>\n",
       "</table>\n",
       "<p>52935 rows × 6 columns</p>\n",
       "</div>"
      ],
      "text/plain": [
       "                          vendor  \\\n",
       "240080         Timberland-Online   \n",
       "567931               Maje-Online   \n",
       "543708               WEAT-Online   \n",
       "399881           Shiseido-Online   \n",
       "199225            Balmain-Online   \n",
       "...                          ...   \n",
       "619366       StojoStasher-Online   \n",
       "661799  ShiseidoFragrance-Online   \n",
       "613096       JosephJoseph-Online   \n",
       "772640      Alluressories-online   \n",
       "936026         Tory Burch-Online   \n",
       "\n",
       "                                                    title       product_type  \\\n",
       "240080                   Casual Crew 3 Pack - Dress Blues        Accessories   \n",
       "567931                                   Jumpsuit - Black             Bottom   \n",
       "543708                  Coin Purse Croco Blue - Dark Blue               Bags   \n",
       "399881          High-Pigment Longwear Eyeliner Via Veneto         Point Eyes   \n",
       "199225                              T-Shirt - Black/White            T-Shirt   \n",
       "...                                                   ...                ...   \n",
       "619366  Tru Earth Eco-Strips Laundry Detergent (Fresh ...  Laundry Detergent   \n",
       "661799       Italian Luxury Beauty Dolce Shine EDP - 50ml          Fragrance   \n",
       "613096               Bloom Folding Steamer Basket - Green          Household   \n",
       "772640         George Balanchine Way Necklace - Moonstone            Jewelry   \n",
       "936026  Heart And Bow Earring - Shiny Brass / Pale Papaya            Jewelry   \n",
       "\n",
       "                                         tags product_cat product_gender  \n",
       "240080                          M  Men  Socks   accessory            men  \n",
       "567931           Jumpsuit  T34  T36  T38  T40     clothes         unisex  \n",
       "543708                             Coin Purse   accessory         unisex  \n",
       "399881               NARS  Point Eyes  QUOTA3   bath_body         unisex  \n",
       "199225                   L  M  Men  S  XL  XS     clothes            men  \n",
       "...                                       ...         ...            ...  \n",
       "619366                Eco-friendly  Tru Earth     kitchen         unisex  \n",
       "661799  Dolce  Italian Luxury Beauty  QUOTA10   bath_body         unisex  \n",
       "613096                            Kitchenware     kitchen         unisex  \n",
       "772640            Moonstone  Necklace  Size F   accessory          women  \n",
       "936026                     Earrings  One Size   accessory          women  \n",
       "\n",
       "[52935 rows x 6 columns]"
      ]
     },
     "execution_count": 102,
     "metadata": {},
     "output_type": "execute_result"
    }
   ],
   "source": [
    "data_sample_100_000_df['product_gender'] = 'unisex'\n",
    "data_sample_100_000_df['product_cat'] = '__'\n",
    "data_sample_100_000_df['tags'] = data_sample_100_000_df[\"tags\"].str.replace(',',' ')\n",
    "\n",
    "##Type of product\n",
    "data_sample_100_000_df.loc[data_sample_100_000_df[\"tags\"].str.contains('\\d{2}'),'product_cat'] = 'clothes'\n",
    "data_sample_100_000_df.loc[data_sample_100_000_df[\"tags\"].str.contains('[\\s|]X*S[\\s|]'),'product_cat'] = 'clothes'\n",
    "data_sample_100_000_df.loc[data_sample_100_000_df[\"tags\"].str.contains('[\\s|]M[\\s|]'),'product_cat'] = 'clothes'\n",
    "data_sample_100_000_df.loc[data_sample_100_000_df[\"tags\"].str.contains('[\\s|]X*L[\\s|]'),'product_cat'] = 'clothes'\n",
    "data_sample_100_000_df.loc[data_sample_100_000_df[\"tags\"].str.contains('Shirt'),'product_cat'] = 'clothes'\n",
    "data_sample_100_000_df.loc[data_sample_100_000_df[\"tags\"].str.contains('Dress'),'product_cat'] = 'clothes'\n",
    "data_sample_100_000_df.loc[data_sample_100_000_df[\"tags\"].str.contains('Underwear'),'product_cat'] = 'clothes'\n",
    "data_sample_100_000_df.loc[data_sample_100_000_df[\"tags\"].str.contains('Trousers'),'product_cat'] = 'clothes'\n",
    "\n",
    "\n",
    "data_sample_100_000_df.loc[data_sample_100_000_df[\"product_type\"].str.contains('Watershorts'),'product_cat'] = 'clothes'\n",
    "data_sample_100_000_df.loc[data_sample_100_000_df[\"product_type\"].str.contains('Top'),'product_cat'] = 'clothes'\n",
    "data_sample_100_000_df.loc[data_sample_100_000_df[\"product_type\"].str.contains('Dresses'),'product_cat'] = 'clothes'\n",
    "data_sample_100_000_df.loc[data_sample_100_000_df[\"product_type\"].str.contains('Trousers'),'product_cat'] = 'clothes'\n",
    "data_sample_100_000_df.loc[data_sample_100_000_df[\"product_type\"].str.contains('Clothing'),'product_cat'] = 'clothes'\n",
    "data_sample_100_000_df.loc[data_sample_100_000_df[\"product_type\"].str.contains('Apparel'),'product_cat'] = 'clothes'\n",
    "data_sample_100_000_df.loc[data_sample_100_000_df[\"product_type\"].str.contains('Ready-to-wear'),'product_cat'] = 'clothes'\n",
    "data_sample_100_000_df.loc[data_sample_100_000_df[\"product_type\"].str.contains('Underwear'),'product_cat'] = 'clothes'\n",
    "data_sample_100_000_df.loc[data_sample_100_000_df[\"product_type\"].str.contains('Bra'),'product_cat'] = 'clothes'\n",
    "\n",
    "data_sample_100_000_df.loc[data_sample_100_000_df[\"vendor\"].str.contains('RisingLotus'),'product_cat'] = 'clothes'\n",
    "data_sample_100_000_df.loc[data_sample_100_000_df[\"vendor\"].str.contains('AliceOlivia'),'product_cat'] = 'clothes'\n",
    "data_sample_100_000_df.loc[data_sample_100_000_df[\"vendor\"].str.contains('CasaCalvin'),'product_cat'] = 'clothes'\n",
    "data_sample_100_000_df.loc[data_sample_100_000_df[\"vendor\"].str.contains('RisingLotus'),'product_cat'] = 'clothes'\n",
    "data_sample_100_000_df.loc[data_sample_100_000_df[\"vendor\"].str.contains('RisingLotus'),'product_cat'] = 'clothes'\n",
    "data_sample_100_000_df.loc[data_sample_100_000_df[\"vendor\"].str.contains('RisingLotus'),'product_cat'] = 'clothes'\n",
    "\n",
    "data_sample_100_000_df.loc[data_sample_100_000_df[\"product_type\"].str.contains('Shoes'),'product_cat'] = 'clothes'\n",
    "data_sample_100_000_df.loc[data_sample_100_000_df[\"product_type\"].str.contains('Footwear'),'product_cat'] = 'clothes'\n",
    "data_sample_100_000_df.loc[data_sample_100_000_df[\"product_type\"].str.contains('Boot'),'product_cat'] = 'clothes'\n",
    "data_sample_100_000_df.loc[data_sample_100_000_df[\"product_type\"].str.contains('Slippers'),'product_cat'] = 'clothes'\n",
    "data_sample_100_000_df.loc[data_sample_100_000_df[\"product_type\"].str.contains('Sandal'),'product_cat'] = 'clothes'\n",
    "\n",
    "data_sample_100_000_df.loc[data_sample_100_000_df[\"vendor\"].str.contains('LeCreuset'),'product_cat'] = 'kitchen'\n",
    "data_sample_100_000_df.loc[data_sample_100_000_df[\"vendor\"].str.contains('Le Creuset'),'product_cat'] = 'kitchen'\n",
    "data_sample_100_000_df.loc[data_sample_100_000_df[\"vendor\"].str.contains('StojoStasher'),'product_cat'] = 'kitchen'\n",
    "data_sample_100_000_df.loc[data_sample_100_000_df[\"tags\"].str.contains('Kitchenware'),'product_cat'] = 'kitchen'\n",
    "data_sample_100_000_df.loc[data_sample_100_000_df[\"product_type\"].str.contains('Kitchenware'),'product_cat'] = 'kitchen'\n",
    "\n",
    "data_sample_100_000_df.loc[data_sample_100_000_df[\"product_type\"].str.contains('Bath & Body'),'product_cat'] = 'bath_body'\n",
    "data_sample_100_000_df.loc[data_sample_100_000_df[\"product_type\"].str.contains('Fragrance'),'product_cat'] = 'bath_body'\n",
    "data_sample_100_000_df.loc[data_sample_100_000_df[\"vendor\"].str.contains('The Body Shop'),'product_cat'] = 'bath_body'\n",
    "data_sample_100_000_df.loc[data_sample_100_000_df[\"vendor\"].str.contains('Dermatory'),'product_cat'] = 'bath_body'\n",
    "data_sample_100_000_df.loc[data_sample_100_000_df[\"tags\"].str.contains('Bathing'),'product_cat'] = 'bath_body'\n",
    "data_sample_100_000_df.loc[data_sample_100_000_df[\"tags\"].str.contains('Sheet Mask'),'product_cat'] = 'bath_body'\n",
    "data_sample_100_000_df.loc[data_sample_100_000_df[\"tags\"].str.contains('Cleansing'),'product_cat'] = 'bath_body'\n",
    "data_sample_100_000_df.loc[data_sample_100_000_df[\"product_type\"].str.contains('Serum'),'product_cat'] = 'bath_body'\n",
    "data_sample_100_000_df.loc[data_sample_100_000_df[\"tags\"].str.contains('Skincare Set'),'product_cat'] = 'bath_body'\n",
    "data_sample_100_000_df.loc[data_sample_100_000_df[\"product_type\"].str.contains('Makeup'),'product_cat'] = 'bath_body'\n",
    "data_sample_100_000_df.loc[data_sample_100_000_df[\"product_type\"].str.contains('MakeUp'),'product_cat'] = 'bath_body'\n",
    "data_sample_100_000_df.loc[data_sample_100_000_df[\"tags\"].str.contains('Shower Gel'),'product_cat'] = 'bath_body'\n",
    "data_sample_100_000_df.loc[data_sample_100_000_df[\"product_type\"].str.contains('Defrisant'),'product_cat'] = 'bath_body'\n",
    "data_sample_100_000_df.loc[data_sample_100_000_df[\"product_type\"].str.contains('Skincare'),'product_cat'] = 'bath_body'\n",
    "data_sample_100_000_df.loc[data_sample_100_000_df[\"product_type\"].str.contains('Shampoo'),'product_cat'] = 'bath_body'\n",
    "data_sample_100_000_df.loc[data_sample_100_000_df[\"product_type\"].str.contains('Leave-in beauty'),'product_cat'] = 'bath_body'\n",
    "data_sample_100_000_df.loc[data_sample_100_000_df[\"vendor\"].str.contains('Phyto'),'product_cat'] = 'bath_body'\n",
    "data_sample_100_000_df.loc[data_sample_100_000_df[\"vendor\"].str.contains('Shiseido'),'product_cat'] = 'bath_body'\n",
    "data_sample_100_000_df.loc[data_sample_100_000_df[\"vendor\"].str.contains('bareMinerals'),'product_cat'] = 'bath_body'\n",
    "data_sample_100_000_df.loc[data_sample_100_000_df[\"product_type\"].str.contains('Lip'),'product_cat'] = 'bath_body'\n",
    "data_sample_100_000_df.loc[data_sample_100_000_df[\"product_type\"].str.contains('Skin'),'product_cat'] = 'bath_body'\n",
    "data_sample_100_000_df.loc[data_sample_100_000_df[\"product_type\"].str.contains('Personal Care Appliance'),'product_cat'] = 'bath_body'\n",
    "data_sample_100_000_df.loc[data_sample_100_000_df[\"product_type\"].str.contains('Make-up'),'product_cat'] = 'bath_body'\n",
    "data_sample_100_000_df.loc[data_sample_100_000_df[\"product_type\"].str.contains('Make up'),'product_cat'] = 'bath_body'\n",
    "data_sample_100_000_df.loc[data_sample_100_000_df[\"product_type\"].str.contains('Hand Care'),'product_cat'] = 'bath_body'\n",
    "data_sample_100_000_df.loc[data_sample_100_000_df[\"product_type\"].str.contains('Anti-Aging'),'product_cat'] = 'bath_body'\n",
    "data_sample_100_000_df.loc[data_sample_100_000_df[\"product_type\"].str.contains('Face'),'product_cat'] = 'bath_body'\n",
    "data_sample_100_000_df.loc[data_sample_100_000_df[\"product_type\"].str.contains('Eyes'),'product_cat'] = 'bath_body'\n",
    "data_sample_100_000_df.loc[data_sample_100_000_df[\"product_type\"].str.contains('Hair'),'product_cat'] = 'bath_body'\n",
    "data_sample_100_000_df.loc[data_sample_100_000_df[\"tags\"].str.contains('Moisturising'),'product_cat'] = 'bath_body'\n",
    "data_sample_100_000_df.loc[data_sample_100_000_df[\"vendor\"].str.contains('Aromatherapy Associates'),'product_cat'] = 'bath_body'\n",
    "data_sample_100_000_df.loc[data_sample_100_000_df[\"product_type\"].str.contains('Bodycare'),'product_cat'] = 'bath_body'\n",
    "\n",
    "data_sample_100_000_df.loc[data_sample_100_000_df[\"tags\"].str.contains('[\\s|][Bb]ag'),'product_cat'] = 'accessory'\n",
    "data_sample_100_000_df.loc[data_sample_100_000_df[\"product_type\"].str.contains('Goggles'),'product_cat'] = 'accessory'\n",
    "data_sample_100_000_df.loc[data_sample_100_000_df[\"product_type\"].str.contains('Tech Accessories'),'product_cat'] = 'accessory'\n",
    "data_sample_100_000_df.loc[data_sample_100_000_df[\"product_type\"].str.contains('Accessories'),'product_cat'] = 'accessory'\n",
    "data_sample_100_000_df.loc[data_sample_100_000_df[\"product_type\"].str.contains('BAG'),'product_cat'] = 'accessory'\n",
    "data_sample_100_000_df.loc[data_sample_100_000_df[\"product_type\"].str.contains('Bags'),'product_cat'] = 'accessory'\n",
    "data_sample_100_000_df.loc[data_sample_100_000_df[\"product_type\"].str.contains('Cap'),'product_cat'] = 'accessory'\n",
    "data_sample_100_000_df.loc[data_sample_100_000_df[\"product_type\"].str.contains('Jewelry'),'product_cat'] = 'accessory'\n",
    "data_sample_100_000_df.loc[data_sample_100_000_df[\"product_type\"].str.contains('Jewellery'),'product_cat'] = 'accessory'\n",
    "data_sample_100_000_df.loc[data_sample_100_000_df[\"tags\"].str.contains('Accessories'),'product_cat'] = 'accessory'\n",
    "data_sample_100_000_df.loc[data_sample_100_000_df[\"tags\"].str.contains('Wallets'),'product_cat'] = 'accessory'\n",
    "data_sample_100_000_df.loc[data_sample_100_000_df[\"tags\"].str.contains('Belts'),'product_cat'] = 'accessory'\n",
    "data_sample_100_000_df.loc[data_sample_100_000_df[\"product_type\"].str.contains('Rings'),'product_cat'] = 'accessory'\n",
    "data_sample_100_000_df.loc[data_sample_100_000_df[\"tags\"].str.contains('Scarf'),'product_cat'] = 'accessory'\n",
    "data_sample_100_000_df.loc[data_sample_100_000_df[\"product_type\"].str.contains('Goods'),'product_cat'] = 'accessory'\n",
    "data_sample_100_000_df.loc[data_sample_100_000_df[\"product_type\"].str.contains('Handbags'),'product_cat'] = 'accessory'\n",
    "data_sample_100_000_df.loc[data_sample_100_000_df[\"product_type\"].str.contains('Bag'),'product_cat'] = 'accessory'\n",
    "data_sample_100_000_df.loc[data_sample_100_000_df[\"product_type\"].str.contains('Wallet'),'product_cat'] = 'accessory'\n",
    "data_sample_100_000_df.loc[data_sample_100_000_df[\"product_type\"].str.contains('Sunglasses'),'product_cat'] = 'accessory'\n",
    "\n",
    "data_sample_100_000_df.loc[data_sample_100_000_df[\"vendor\"].str.contains('Qwehli'),'product_cat'] = 'food'\n",
    "data_sample_100_000_df.loc[data_sample_100_000_df[\"product_type\"].str.contains('Seafood'),'product_cat'] = 'food'\n",
    "data_sample_100_000_df.loc[data_sample_100_000_df[\"product_type\"].str.contains('Seafood'),'product_cat'] = 'food'\n",
    "data_sample_100_000_df.loc[data_sample_100_000_df[\"vendor\"].str.contains('Plantin Kaviari'),'product_cat'] = 'food'\n",
    "\n",
    "data_sample_100_000_df.loc[data_sample_100_000_df[\"product_type\"].str.contains('Wine'),'product_cat'] = 'wine'\n",
    "data_sample_100_000_df.loc[data_sample_100_000_df[\"vendor\"].str.contains('Altaya'),'product_cat'] = 'wine'\n",
    "\n",
    "data_sample_100_000_df.loc[data_sample_100_000_df[\"vendor\"].str.contains('Or Tea'),'product_cat'] = 'drink'\n",
    "\n",
    "data_sample_100_000_df.loc[data_sample_100_000_df[\"product_type\"].str.contains('Home Electronics'),'product_cat'] = 'home_appliance'\n",
    "data_sample_100_000_df.loc[data_sample_100_000_df[\"product_type\"].str.contains('Homeware'),'product_cat'] = 'home_appliance'\n",
    "\n",
    "data_sample_100_000_df.loc[data_sample_100_000_df[\"product_type\"].str.contains('Candle'),'product_cat'] = 'home'\n",
    "data_sample_100_000_df.loc[data_sample_100_000_df[\"product_type\"].str.contains('Towel'),'product_cat'] = 'home'\n",
    "data_sample_100_000_df.loc[data_sample_100_000_df[\"product_type\"].str.contains('Bedding Set'),'product_cat'] = 'home'\n",
    "data_sample_100_000_df.loc[data_sample_100_000_df[\"product_type\"].str.contains('Writitng'),'product_cat'] = 'home'\n",
    "data_sample_100_000_df.loc[data_sample_100_000_df[\"product_type\"].str.contains('Writing'),'product_cat'] = 'home'\n",
    "data_sample_100_000_df.loc[data_sample_100_000_df[\"product_type\"].str.contains('Luggage'),'product_cat'] = 'home'\n",
    "data_sample_100_000_df.loc[data_sample_100_000_df[\"product_type\"].str.contains('CuddleDry'),'product_cat'] = 'home'\n",
    "data_sample_100_000_df.loc[data_sample_100_000_df[\"product_type\"].str.contains('Paper Product'),'product_cat'] = 'home'\n",
    "data_sample_100_000_df.loc[data_sample_100_000_df[\"product_type\"].str.contains('Pillow Case'),'product_cat'] = 'home'\n",
    "data_sample_100_000_df.loc[data_sample_100_000_df[\"vendor\"].str.contains('Riedel'),'product_cat'] = 'home'\n",
    "\n",
    "\n",
    "### Gender of the product\n",
    "data_sample_100_000_df.loc[data_sample_100_000_df[\"tags\"].str.contains('[\\s|][Mm]en'),'product_gender'] = 'men'\n",
    "data_sample_100_000_df.loc[data_sample_100_000_df[\"tags\"].str.contains('^[Mm]en'),'product_gender'] = 'men'\n",
    "data_sample_100_000_df.loc[data_sample_100_000_df[\"tags\"].str.contains('[\\s|][Mm]ale'),'product_gender'] = 'men'\n",
    "data_sample_100_000_df.loc[data_sample_100_000_df[\"tags\"].str.contains('^[Mm]ale'),'product_gender'] = 'men'\n",
    "data_sample_100_000_df.loc[data_sample_100_000_df[\"tags\"].str.contains('[\\s|][Mm]an'),'product_gender'] = 'men'\n",
    "data_sample_100_000_df.loc[data_sample_100_000_df[\"tags\"].str.contains('^[Mm]an'),'product_gender'] = 'men'\n",
    "\n",
    "data_sample_100_000_df.loc[data_sample_100_000_df[\"tags\"].str.contains('[\\s|][Ww]omen'),'product_gender'] = 'women'\n",
    "data_sample_100_000_df.loc[data_sample_100_000_df[\"tags\"].str.contains('^[Ww]omen'),'product_gender'] = 'women'\n",
    "data_sample_100_000_df.loc[data_sample_100_000_df[\"tags\"].str.contains('[\\s|][Ff]emale'),'product_gender'] = 'women'\n",
    "data_sample_100_000_df.loc[data_sample_100_000_df[\"tags\"].str.contains('^[Ff]emale'),'product_gender'] = 'women'\n",
    "data_sample_100_000_df.loc[data_sample_100_000_df[\"tags\"].str.contains('[\\s|][Ww]oman'),'product_gender'] = 'women'\n",
    "data_sample_100_000_df.loc[data_sample_100_000_df[\"tags\"].str.contains('^[Ww]oman'),'product_gender'] = 'women'\n",
    "data_sample_100_000_df.loc[data_sample_100_000_df[\"product_type\"].str.contains('^[Jj]ewel'),'product_gender'] = 'women'\n",
    "\n",
    "data_sample_100_000_df.loc[data_sample_100_000_df[\"tags\"].str.contains('[\\s|][Jj]unior'),'product_gender'] = 'children'\n",
    "data_sample_100_000_df.loc[data_sample_100_000_df[\"tags\"].str.contains('^[Jj]unior'),'product_gender'] = 'children'\n",
    "data_sample_100_000_df.loc[data_sample_100_000_df[\"tags\"].str.contains('[\\s|][Bb]aby'),'product_gender'] = 'children'\n",
    "data_sample_100_000_df.loc[data_sample_100_000_df[\"tags\"].str.contains('^[Bb]aby'),'product_gender'] = 'children'\n",
    "data_sample_100_000_df.loc[data_sample_100_000_df[\"product_type\"].str.contains('.*[Bb]aby.*'),'product_gender'] = 'children'\n",
    "data_sample_100_000_df.loc[data_sample_100_000_df[\"product_type\"].str.contains('.*[Kk]ids.*'),'product_gender'] = 'children'\n",
    "\n",
    "data_sample_100_000_df[(data_sample_100_000_df['product_cat'] != '__')][['vendor','title','product_type','tags','product_cat','product_gender']]\n",
    "# len(data_sample_100_000_df[(data_sample_100_000_df['product_cat'] == '__')])\n",
    "\n",
    "# data_sample_100_000_df[(data_sample_100_000_df['product_gender'] == '__')]\n",
    "# data_sample_100_000_df.head(60)"
   ]
  },
  {
   "cell_type": "code",
   "execution_count": 27,
   "id": "1ee24c21-67b1-4cc0-aa8a-a3dc571f865f",
   "metadata": {},
   "outputs": [],
   "source": [
    "data_for_train_test = data_sample_100_000_df[(data_sample_100_000_df['product_cat'] != '__')]\n",
    "# data_for_train_test\n",
    "# data_for_train_test.to_csv('../raw_data/50000_rows_for_first_model.csv')"
   ]
  },
  {
   "cell_type": "code",
   "execution_count": 28,
   "id": "dbf59a09-53cd-4adc-ab6f-5d64a0b96251",
   "metadata": {},
   "outputs": [],
   "source": [
    "from sklearn.model_selection import train_test_split\n",
    "from sklearn.preprocessing import LabelEncoder\n",
    "\n",
    "X = data_for_train_test['tmp_NLP']\n",
    "y = data_for_train_test['product_cat']\n",
    "\n",
    "label_encoder = LabelEncoder()\n",
    "y = label_encoder.fit_transform(y)\n",
    "\n",
    "X_train, X_test, y_train, y_test = train_test_split(X, y, test_size=0.33, random_state=42)"
   ]
  },
  {
   "cell_type": "code",
   "execution_count": 47,
   "id": "cb83b457-009b-4b7e-8590-663123d99a6b",
   "metadata": {},
   "outputs": [
    {
     "data": {
      "text/plain": [
       "{0: 'accessory',\n",
       " 1: 'bath_body',\n",
       " 2: 'clothes',\n",
       " 3: 'drink',\n",
       " 4: 'food',\n",
       " 5: 'home',\n",
       " 6: 'home_appliance',\n",
       " 7: 'kitchen',\n",
       " 8: 'wine'}"
      ]
     },
     "execution_count": 47,
     "metadata": {},
     "output_type": "execute_result"
    }
   ],
   "source": [
    "liste = list(label_encoder.inverse_transform([0, 1, 2,3,4,5,6,7,8]))\n",
    "dict_label = {}\n",
    "\n",
    "for i in range (9):\n",
    "    dict_label[i] = liste[i]\n",
    "\n",
    "dict_label"
   ]
  },
  {
   "cell_type": "markdown",
   "id": "4a0172b1-4810-4580-9603-2e833dde441c",
   "metadata": {
    "jp-MarkdownHeadingCollapsed": true,
    "tags": []
   },
   "source": [
    "## tokenizer"
   ]
  },
  {
   "cell_type": "code",
   "execution_count": 30,
   "id": "259244e1-f12b-428f-9a96-0a3aae8db6a7",
   "metadata": {},
   "outputs": [
    {
     "name": "stderr",
     "output_type": "stream",
     "text": [
      "2021-12-18 17:00:18.310240: W tensorflow/stream_executor/platform/default/dso_loader.cc:64] Could not load dynamic library 'libcudart.so.11.0'; dlerror: libcudart.so.11.0: cannot open shared object file: No such file or directory\n",
      "2021-12-18 17:00:18.311001: I tensorflow/stream_executor/cuda/cudart_stub.cc:29] Ignore above cudart dlerror if you do not have a GPU set up on your machine.\n"
     ]
    }
   ],
   "source": [
    "from tensorflow.keras.preprocessing.text import Tokenizer\n",
    "\n",
    "tokenizer = Tokenizer()\n",
    "\n",
    "tokenizer.fit_on_texts(X_train)\n",
    "\n",
    "X_train_token = tokenizer.texts_to_sequences(X_train)\n",
    "X_test_token = tokenizer.texts_to_sequences(X_test)"
   ]
  },
  {
   "cell_type": "code",
   "execution_count": 31,
   "id": "47df4432-8df5-465b-810d-699477cec662",
   "metadata": {},
   "outputs": [
    {
     "data": {
      "text/plain": [
       "34"
      ]
     },
     "execution_count": 31,
     "metadata": {},
     "output_type": "execute_result"
    }
   ],
   "source": [
    "len(X_train_token[0])"
   ]
  },
  {
   "cell_type": "code",
   "execution_count": 32,
   "id": "dd513e87-1a7a-4565-a9a4-32d3fb0fe130",
   "metadata": {},
   "outputs": [
    {
     "name": "stdout",
     "output_type": "stream",
     "text": [
      "73\n"
     ]
    }
   ],
   "source": [
    "max_size = 0\n",
    "for element in X_train_token:\n",
    "    if len(element) > max_size:\n",
    "        max_size = len(element)\n",
    "\n",
    "print(max_size)"
   ]
  },
  {
   "cell_type": "code",
   "execution_count": 33,
   "id": "8235a960-8b48-42c8-83c7-c3aab6228e13",
   "metadata": {},
   "outputs": [
    {
     "data": {
      "text/plain": [
       "12051"
      ]
     },
     "execution_count": 33,
     "metadata": {},
     "output_type": "execute_result"
    }
   ],
   "source": [
    "vocab_size = max([i for i in tokenizer.word_index.values()]) \n",
    "\n",
    "vocab_size"
   ]
  },
  {
   "cell_type": "markdown",
   "id": "a8b5af0f-eb75-48cc-8d38-2edd0d1a7261",
   "metadata": {
    "tags": []
   },
   "source": [
    "## pading"
   ]
  },
  {
   "cell_type": "code",
   "execution_count": 34,
   "id": "bc671f08-b213-44eb-81ef-ba55b0467956",
   "metadata": {},
   "outputs": [],
   "source": [
    "from tensorflow.keras.preprocessing.sequence import pad_sequences\n",
    "\n",
    "X_train_token_pad = pad_sequences(X_train_token,\n",
    "                                  maxlen=73,\n",
    "                                  dtype='int32', \n",
    "                                  padding='post', \n",
    "                                  value=0.0)\n",
    "\n",
    "X_test_token_pad = pad_sequences(X_test_token,\n",
    "                                 maxlen=73,\n",
    "                                 dtype='int32', \n",
    "                                 padding='post', \n",
    "                                 value=0.0)"
   ]
  },
  {
   "cell_type": "markdown",
   "id": "e21869ec-43d0-4fc8-a4af-7e8f6cd23939",
   "metadata": {
    "tags": []
   },
   "source": [
    "## Model "
   ]
  },
  {
   "cell_type": "code",
   "execution_count": 36,
   "id": "1f53cb34-5361-4a0d-b8c3-dc0d1be3f94d",
   "metadata": {},
   "outputs": [],
   "source": [
    "from tensorflow.keras.models import Sequential\n",
    "from tensorflow.keras import layers\n",
    "\n",
    "model = Sequential()\n",
    "\n",
    "model.add(layers.Embedding(input_dim=vocab_size+1, # 16 +1 for the 0 padding\n",
    "                           input_length=73, # Max_sentence_length (optional, for model summary)\n",
    "                           output_dim=100,# 100\n",
    "                           mask_zero=True, # Included masking layer :)\n",
    "                          ))\n",
    "\n",
    "model.add(layers.LSTM(units=20))\n",
    "model.add(layers.Dense(10,activation=\"relu\"))\n",
    "model.add(layers.Dense(10,activation=\"relu\"))\n",
    "model.add(layers.Dense(9,activation=\"softmax\"))"
   ]
  },
  {
   "cell_type": "code",
   "execution_count": 37,
   "id": "5a19d101-5d29-422b-ba16-16726bdf3e78",
   "metadata": {},
   "outputs": [
    {
     "name": "stdout",
     "output_type": "stream",
     "text": [
      "Model: \"sequential_1\"\n",
      "_________________________________________________________________\n",
      " Layer (type)                Output Shape              Param #   \n",
      "=================================================================\n",
      " embedding (Embedding)       (None, 73, 100)           1205200   \n",
      "                                                                 \n",
      " lstm (LSTM)                 (None, 20)                9680      \n",
      "                                                                 \n",
      " dense (Dense)               (None, 10)                210       \n",
      "                                                                 \n",
      " dense_1 (Dense)             (None, 10)                110       \n",
      "                                                                 \n",
      " dense_2 (Dense)             (None, 9)                 99        \n",
      "                                                                 \n",
      "=================================================================\n",
      "Total params: 1,215,299\n",
      "Trainable params: 1,215,299\n",
      "Non-trainable params: 0\n",
      "_________________________________________________________________\n"
     ]
    }
   ],
   "source": [
    "model.summary()"
   ]
  },
  {
   "cell_type": "code",
   "execution_count": 38,
   "id": "edd4394c-e4d0-4e9a-b183-78f679e97eb0",
   "metadata": {},
   "outputs": [
    {
     "data": {
      "text/plain": [
       "((35391, 73), (35391,))"
      ]
     },
     "execution_count": 38,
     "metadata": {},
     "output_type": "execute_result"
    }
   ],
   "source": [
    "X_train_token_pad.shape,y_train.shape"
   ]
  },
  {
   "cell_type": "code",
   "execution_count": 39,
   "id": "f642890c-02a6-439e-90dd-a9110af734cd",
   "metadata": {},
   "outputs": [
    {
     "name": "stdout",
     "output_type": "stream",
     "text": [
      "Epoch 1/20\n",
      "28/28 [==============================] - 79s 2s/step - loss: 1.7857 - accuracy: 0.5164 - val_loss: 1.3559 - val_accuracy: 0.6635\n",
      "Epoch 2/20\n",
      "28/28 [==============================] - 28s 1s/step - loss: 1.2069 - accuracy: 0.7051 - val_loss: 1.0635 - val_accuracy: 0.8374\n",
      "Epoch 3/20\n",
      "28/28 [==============================] - 25s 886ms/step - loss: 0.9482 - accuracy: 0.9204 - val_loss: 0.8588 - val_accuracy: 0.9520\n",
      "Epoch 4/20\n",
      "28/28 [==============================] - 25s 913ms/step - loss: 0.7892 - accuracy: 0.9663 - val_loss: 0.7482 - val_accuracy: 0.9743\n",
      "Epoch 5/20\n",
      "28/28 [==============================] - 32s 1s/step - loss: 0.6990 - accuracy: 0.9775 - val_loss: 0.6817 - val_accuracy: 0.9774\n",
      "Epoch 6/20\n",
      "28/28 [==============================] - 52s 2s/step - loss: 0.6395 - accuracy: 0.9803 - val_loss: 0.6335 - val_accuracy: 0.9816\n",
      "Epoch 7/20\n",
      "28/28 [==============================] - 33s 1s/step - loss: 0.5992 - accuracy: 0.9848 - val_loss: 0.6038 - val_accuracy: 0.9833\n",
      "Epoch 8/20\n",
      "28/28 [==============================] - 50s 2s/step - loss: 0.5721 - accuracy: 0.9857 - val_loss: 0.5842 - val_accuracy: 0.9828\n",
      "Epoch 9/20\n",
      "28/28 [==============================] - 29s 1s/step - loss: 0.5503 - accuracy: 0.9876 - val_loss: 0.5594 - val_accuracy: 0.9871\n",
      "Epoch 10/20\n",
      "28/28 [==============================] - 27s 956ms/step - loss: 0.5268 - accuracy: 0.9901 - val_loss: 0.5329 - val_accuracy: 0.9883\n",
      "Epoch 11/20\n",
      "28/28 [==============================] - 27s 981ms/step - loss: 0.4973 - accuracy: 0.9915 - val_loss: 0.5028 - val_accuracy: 0.9877\n",
      "Epoch 12/20\n",
      "28/28 [==============================] - 28s 1s/step - loss: 0.4478 - accuracy: 0.9894 - val_loss: 0.4345 - val_accuracy: 0.9597\n",
      "Epoch 13/20\n",
      "28/28 [==============================] - 35s 1s/step - loss: 0.3798 - accuracy: 0.9046 - val_loss: 0.3646 - val_accuracy: 0.7648\n",
      "Epoch 14/20\n",
      "28/28 [==============================] - 27s 961ms/step - loss: 0.3128 - accuracy: 0.8673 - val_loss: 0.2946 - val_accuracy: 0.9771\n",
      "Epoch 15/20\n",
      "28/28 [==============================] - 26s 924ms/step - loss: 0.2470 - accuracy: 0.9972 - val_loss: 0.2282 - val_accuracy: 0.9963\n",
      "Epoch 16/20\n",
      "28/28 [==============================] - 26s 923ms/step - loss: 0.1821 - accuracy: 0.9998 - val_loss: 0.1611 - val_accuracy: 0.9973\n",
      "Epoch 17/20\n",
      "28/28 [==============================] - 26s 915ms/step - loss: 0.1199 - accuracy: 1.0000 - val_loss: 0.1031 - val_accuracy: 0.9973\n",
      "Epoch 18/20\n",
      "28/28 [==============================] - 33s 1s/step - loss: 0.0684 - accuracy: 0.9999 - val_loss: 0.0642 - val_accuracy: 0.9968\n",
      "Epoch 19/20\n",
      "28/28 [==============================] - 27s 984ms/step - loss: 0.0266 - accuracy: 0.9999 - val_loss: 0.0238 - val_accuracy: 0.9970\n",
      "Epoch 20/20\n",
      "28/28 [==============================] - 27s 966ms/step - loss: 0.0074 - accuracy: 1.0000 - val_loss: 0.0144 - val_accuracy: 0.9970\n"
     ]
    }
   ],
   "source": [
    "from tensorflow.keras.callbacks import EarlyStopping\n",
    "\n",
    "model.compile(loss='sparse_categorical_crossentropy',\n",
    "              optimizer='rmsprop',\n",
    "              metrics='accuracy')\n",
    "                       \n",
    "es = EarlyStopping(patience=4,restore_best_weights=True)\n",
    "\n",
    "history = model.fit(X_train_token_pad, y_train,\n",
    "                    validation_split=0.2,\n",
    "                    epochs=20, \n",
    "                    callbacks=[es],\n",
    "                    batch_size=1024,\n",
    "                    verbose=1)"
   ]
  },
  {
   "cell_type": "code",
   "execution_count": 40,
   "id": "5318a76c-2f6b-4f79-a1af-fa18f3209b79",
   "metadata": {},
   "outputs": [],
   "source": [
    "def plot_history(history):\n",
    "    plt.plot(history.history['loss'])\n",
    "    plt.title('Train loss')\n",
    "    plt.ylabel('Loss')\n",
    "    plt.xlabel('Epoch')\n",
    "    plt.ylim(0,1)\n",
    "    plt.show()"
   ]
  },
  {
   "cell_type": "code",
   "execution_count": 41,
   "id": "a87436ed-1496-46c7-a96c-60526aaf4bce",
   "metadata": {},
   "outputs": [
    {
     "data": {
      "image/png": "[encoded data removed]",
      "text/plain": [
       "<Figure size 432x288 with 1 Axes>"
      ]
     },
     "metadata": {
      "needs_background": "light"
     },
     "output_type": "display_data"
    }
   ],
   "source": [
    "plot_history(history)"
   ]
  },
  {
   "cell_type": "code",
   "execution_count": 42,
   "id": "3d3e5099-7321-4b15-a26c-824b5223d932",
   "metadata": {},
   "outputs": [
    {
     "name": "stdout",
     "output_type": "stream",
     "text": [
      "545/545 [==============================] - 43s 80ms/step - loss: 0.0164 - accuracy: 0.9974\n"
     ]
    },
    {
     "data": {
      "text/plain": [
       "[0.016432195901870728, 0.9974185228347778]"
      ]
     },
     "execution_count": 42,
     "metadata": {},
     "output_type": "execute_result"
    }
   ],
   "source": [
    "model.evaluate(X_test_token_pad, y_test, verbose=1)"
   ]
  },
  {
   "cell_type": "markdown",
   "id": "03884be0-e553-4abb-8839-c0f9441dd066",
   "metadata": {},
   "source": [
    "# Validation of the model"
   ]
  },
  {
   "cell_type": "code",
   "execution_count": 91,
   "id": "9e45e7a9-a953-4628-a7d6-a2526afebf65",
   "metadata": {},
   "outputs": [
    {
     "data": {
      "text/plain": [
       "(76, 18)"
      ]
     },
     "execution_count": 91,
     "metadata": {},
     "output_type": "execute_result"
    }
   ],
   "source": [
    "data_for_validation_df = data_df.sample(n = 100,random_state=0)\n",
    "data_for_validation_df = data_for_validation_df.dropna()\n",
    "data_for_validation_df.shape"
   ]
  },
  {
   "cell_type": "code",
   "execution_count": 92,
   "id": "2edada6d-381c-44e1-bdde-4cab3f75e7e9",
   "metadata": {},
   "outputs": [],
   "source": [
    "X_val = data_for_validation_df['tmp_NLP']\n",
    "X_val_token = tokenizer.texts_to_sequences(X_val)\n",
    "X_val_token_pad = pad_sequences(X_val_token,\n",
    "                                 maxlen=73,\n",
    "                                 dtype='int32', \n",
    "                                 padding='post', \n",
    "                                 value=0.0)"
   ]
  },
  {
   "cell_type": "code",
   "execution_count": 93,
   "id": "e8db3224-d7fa-438a-8f7a-de8a71cd63f4",
   "metadata": {},
   "outputs": [],
   "source": [
    "prediction = model.predict(X_val_token_pad)"
   ]
  },
  {
   "cell_type": "code",
   "execution_count": 94,
   "id": "20a056e7-2421-45a3-a00f-040b89240c54",
   "metadata": {},
   "outputs": [
    {
     "data": {
      "text/plain": [
       "{0: 'accessory',\n",
       " 1: 'bath_body',\n",
       " 2: 'clothes',\n",
       " 3: 'drink',\n",
       " 4: 'food',\n",
       " 5: 'home',\n",
       " 6: 'home_appliance',\n",
       " 7: 'kitchen',\n",
       " 8: 'wine'}"
      ]
     },
     "execution_count": 94,
     "metadata": {},
     "output_type": "execute_result"
    }
   ],
   "source": [
    "dict_label"
   ]
  },
  {
   "cell_type": "code",
   "execution_count": 96,
   "id": "b6261c01-fb79-45bd-b7b0-cf7d1ff15d4e",
   "metadata": {},
   "outputs": [
    {
     "name": "stdout",
     "output_type": "stream",
     "text": [
      "['clothes', 'bath_body', 'clothes', 'clothes', 'bath_body', 'home', 'clothes', 'bath_body', 'accessory', 'clothes', 'clothes', 'bath_body', 'clothes', 'bath_body', 'clothes', 'accessory', 'clothes', 'accessory', 'clothes', 'bath_body', 'clothes', 'kitchen', 'kitchen', 'bath_body', 'accessory', 'bath_body', 'clothes', 'clothes', 'clothes', 'accessory', 'bath_body', 'clothes', 'bath_body', 'clothes', 'clothes', 'clothes', 'clothes', 'bath_body', 'clothes', 'kitchen', 'accessory', 'wine', 'accessory', 'clothes', 'accessory', 'bath_body', 'clothes', 'clothes', 'kitchen', 'bath_body', 'clothes', 'bath_body', 'accessory', 'bath_body', 'kitchen', 'clothes', 'clothes', 'bath_body', 'clothes', 'accessory', 'accessory', 'kitchen', 'accessory', 'accessory', 'clothes', 'accessory', 'kitchen', 'bath_body', 'clothes', 'clothes', 'clothes', 'clothes', 'accessory', 'accessory', 'clothes', 'clothes']\n"
     ]
    }
   ],
   "source": [
    "pred_list_tmp = []\n",
    "for sub_list in prediction:\n",
    "    sub_list = sub_list.tolist()\n",
    "    maximum = max(sub_list)\n",
    "    index = sub_list.index(maximum)\n",
    "    pred_list_tmp.append(index)\n",
    "\n",
    "pred_list = []\n",
    "for element in pred_list_tmp :\n",
    "    pred_list.append(dict_label[element])\n",
    "    \n",
    "print(pred_list)\n",
    "\n"
   ]
  },
  {
   "cell_type": "code",
   "execution_count": 97,
   "id": "5d242a8e-0936-4ead-9c71-983108d3788f",
   "metadata": {},
   "outputs": [],
   "source": [
    "data_for_validation_df['product_cat'] = pred_list"
   ]
  },
  {
   "cell_type": "code",
   "execution_count": 100,
   "id": "c7b21eb3-603e-4cab-9911-bcd46628b831",
   "metadata": {},
   "outputs": [],
   "source": [
    "# data_for_validation_df[['tmp_NLP','product_cat']]\n",
    "data_for_validation_df[['tmp_NLP','product_cat']].to_csv('../raw_data/tmp_data_for_validation_df.csv')"
   ]
  }
 ],
 "metadata": {
  "kernelspec": {
   "display_name": "Python 3 (ipykernel)",
   "language": "python",
   "name": "python3"
  },
  "language_info": {
   "codemirror_mode": {
    "name": "ipython",
    "version": 3
   },
   "file_extension": ".py",
   "mimetype": "text/x-python",
   "name": "python",
   "nbconvert_exporter": "python",
   "pygments_lexer": "ipython3",
   "version": "3.8.6"
  }
 },
 "nbformat": 4,
 "nbformat_minor": 5
}
