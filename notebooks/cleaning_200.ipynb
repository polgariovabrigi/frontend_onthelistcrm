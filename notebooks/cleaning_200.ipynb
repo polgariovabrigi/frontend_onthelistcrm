{
 "cells": [
  {
   "cell_type": "code",
   "execution_count": 10,
   "id": "ca5b5b46-7d85-4cdf-8f16-0ec24a2ac3e6",
   "metadata": {},
   "outputs": [],
   "source": [
    "import pandas as pd\n",
    "import numpy as np"
   ]
  },
  {
   "cell_type": "code",
   "execution_count": 93,
   "id": "892cccd9-77c8-4741-b852-d73a6f0ba709",
   "metadata": {},
   "outputs": [
    {
     "name": "stdout",
     "output_type": "stream",
     "text": [
      "<class 'pandas.core.frame.DataFrame'>\n",
      "RangeIndex: 200 entries, 0 to 199\n",
      "Data columns (total 15 columns):\n",
      " #   Column              Non-Null Count  Dtype  \n",
      "---  ------              --------------  -----  \n",
      " 0   _sdc_source_key_id  200 non-null    int64  \n",
      " 1   sku                 197 non-null    object \n",
      " 2   date                200 non-null    object \n",
      " 3   item price          200 non-null    int64  \n",
      " 4   item quantity       200 non-null    int64  \n",
      " 5   line-item discount  200 non-null    float64\n",
      " 6   price_qty           200 non-null    float64\n",
      " 7   vendor              200 non-null    object \n",
      " 8   title               200 non-null    object \n",
      " 9   product_type        195 non-null    object \n",
      " 10  tags                185 non-null    object \n",
      " 11  email               200 non-null    object \n",
      " 12  gender              200 non-null    object \n",
      " 13  age                 193 non-null    float64\n",
      " 14  city                200 non-null    object \n",
      "dtypes: float64(3), int64(3), object(9)\n",
      "memory usage: 23.6+ KB\n"
     ]
    }
   ],
   "source": [
    "data_df = pd.read_csv('../raw_data/200_rows_raw.csv')\n",
    "data_df.info()"
   ]
  },
  {
   "cell_type": "markdown",
   "id": "64ae8305-6d27-4dee-aca5-4ddff57dad78",
   "metadata": {
    "tags": []
   },
   "source": [
    "# Column renamimg"
   ]
  },
  {
   "cell_type": "code",
   "execution_count": 98,
   "id": "12ed6d4c-4588-4819-9118-e2b08c5c1f00",
   "metadata": {},
   "outputs": [
    {
     "data": {
      "text/plain": [
       "Index(['order_ID', 'item_ID', 'date', 'item_price', 'item_quantity',\n",
       "       'discount', 'final_price', 'vendor', 'title', 'product_type', 'tags',\n",
       "       'customer_ID', 'gender', 'age', 'city'],\n",
       "      dtype='object')"
      ]
     },
     "execution_count": 98,
     "metadata": {},
     "output_type": "execute_result"
    }
   ],
   "source": [
    "data_df.rename(columns={'_sdc_source_key_id':'order_ID',\n",
    "                             'sku':'item_ID',\n",
    "                             'item price':'item_price',\n",
    "                             'item quantity':'item_quantity',\n",
    "                             'line-item discount':'discount',\n",
    "                             'price_qty':'final_price',\n",
    "                             'email':'customer_ID'\n",
    "                            },\n",
    "                             inplace = True)\n",
    "\n",
    "data_tags_df = data_df\n",
    "data_tags_df.columns"
   ]
  },
  {
   "cell_type": "code",
   "execution_count": 99,
   "id": "b4c964c0-1464-492f-95bf-e1f8d2cf936e",
   "metadata": {},
   "outputs": [
    {
     "data": {
      "text/plain": [
       "array(['28, 30, 32, 33, 34, 36, AEOMensJeans, Men, Shorts',\n",
       "       '30, 32, 34, 38, 40, Men', '30, 32, 34, Men',\n",
       "       '32, 34, 36, 38, 40, Men', '32, 34, 36, 38, Women',\n",
       "       '34, 36, 38, Women', 'Bag', 'Bath', 'Bathing',\n",
       "       'Black, Toughened Non-Stick', 'Body Butter', 'Body Lotion',\n",
       "       'Body Mist', 'Body Scrub', 'Body Wash', 'Body Yogurt',\n",
       "       'Bowl, Cappuccino', 'Bowl, Cayenne', 'Bowl, Dijon',\n",
       "       'Bowl, Elysees Yellow', 'Bowl, Flame', 'Bowl, Palm', 'Bowl, White',\n",
       "       'Calvin Klein, Giftset', 'Cappuccino, Mugs & Cup',\n",
       "       'Cappuccino, Plate', 'Case', 'Cerise, Trivet', 'Cleansing',\n",
       "       'Coast Blue, Kitchen Essentials', 'Coastal Blue, Mugs & Cup',\n",
       "       'Concealer', 'Cool Mint, Mugs & Cup', 'Daily Cleansing',\n",
       "       'Day Cream', 'Dijion, Mugs & Cup', 'Dijon, Dish',\n",
       "       'Dijon, Mugs & Cup', 'Dish, Dune', 'Dish, Lilac', 'Dish, Soleil',\n",
       "       'Dish, White', 'EDT',\n",
       "       'EU 31-33, EU 33-36, EU 36-38, Junior (aged 6-14)',\n",
       "       'Eco-friendly, Stasher', 'Eco-friendly, Stojo',\n",
       "       'Eco-friendly, Tru Earth', 'Eye Treatment',\n",
       "       'FREE, Junior (aged 6-14)', 'FREE, Scarf, Unisex', 'FREE, Unisex',\n",
       "       'FREE, Women', 'Face Mask', 'Face Mist', 'Face Serum', 'Face Wash',\n",
       "       'Giftset, Marc Jacobs', 'Hand', 'Hand Wash', 'Hugo Boss',\n",
       "       'Insulated Jacket, L, M, S, Women, XL', 'Kitchen Essentials, Kiwi',\n",
       "       'Kitchenware', 'L, M, Men, S, XL', 'L, M, Men, Shorts',\n",
       "       'L, M, S, Women, XL, XS', 'L, Men, S', 'L, Men, S, XL, XXL',\n",
       "       'L, Men, XL, XXL', 'Lip Liquids', 'MACAUFORBIDDEN',\n",
       "       'MACAUFORBIDDEN, Wine', 'Marc Jacobs', 'Mugs & Cup, Multi',\n",
       "       'Mugs & Cup, Orange Blossom', 'Multi, Plate', 'Must Have',\n",
       "       'Night Cream', 'Non-Stick', 'Novelty', 'Other', 'SPF Products',\n",
       "       'Sheet Mask', 'Skin Care', 'Skincare Set', 'Soap', 'Spa', 'Toner',\n",
       "       'Vacuum Cleaner'], dtype=object)"
      ]
     },
     "execution_count": 99,
     "metadata": {},
     "output_type": "execute_result"
    }
   ],
   "source": [
    "data_tags_df = data_tags_df.dropna()\n",
    "data_tags_df = data_tags_df.sort_values(['tags'])\n",
    "data_tags_df['tags'].unique()"
   ]
  },
  {
   "cell_type": "markdown",
   "id": "5b6aab3d-ff2b-4c82-b476-af392525bc79",
   "metadata": {},
   "source": [
    "## work on tags | type of product and gender"
   ]
  },
  {
   "cell_type": "code",
   "execution_count": 100,
   "id": "467e05ea-f829-4fad-9b3a-b80618616e72",
   "metadata": {},
   "outputs": [],
   "source": [
    "data_tags_df['product_gender'] = 'unisex'\n",
    "data_tags_df['product_cat'] = '__'\n",
    "data_tags_df['tags'] = data_tags_df[\"tags\"].str.replace(',',' ')\n",
    "\n",
    "##Type of product\n",
    "data_tags_df.loc[data_tags_df[\"tags\"].str.contains('\\d{2}'),'product_cat'] = 'clothes'\n",
    "data_tags_df.loc[data_tags_df[\"tags\"].str.contains('[\\s|]X*S[\\s|]'),'product_cat'] = 'clothes'\n",
    "data_tags_df.loc[data_tags_df[\"tags\"].str.contains('[\\s|]M[\\s|]'),'product_cat'] = 'clothes'\n",
    "data_tags_df.loc[data_tags_df[\"tags\"].str.contains('[\\s|]X*L[\\s|]'),'product_cat'] = 'clothes'\n",
    "data_tags_df.loc[data_tags_df[\"product_type\"].str.contains('Watershorts'),'product_cat'] = 'clothes'\n",
    "\n",
    "data_tags_df.loc[data_tags_df[\"vendor\"].str.contains('LeCreuset'),'product_cat'] = 'kitchen'\n",
    "data_tags_df.loc[data_tags_df[\"vendor\"].str.contains('Le Creuset'),'product_cat'] = 'kitchen'\n",
    "data_tags_df.loc[data_tags_df[\"vendor\"].str.contains('StojoStasher'),'product_cat'] = 'kitchen'\n",
    "data_tags_df.loc[data_tags_df[\"tags\"].str.contains('Kitchenware'),'product_cat'] = 'kitchen'\n",
    "data_tags_df.loc[data_tags_df[\"product_type\"].str.contains('Kitchenware'),'product_cat'] = 'kitchen'\n",
    "\n",
    "data_tags_df.loc[data_tags_df[\"product_type\"].str.contains('Bath & Body'),'product_cat'] = 'bath_body'\n",
    "data_tags_df.loc[data_tags_df[\"product_type\"].str.contains('Fragrance'),'product_cat'] = 'bath_body'\n",
    "data_tags_df.loc[data_tags_df[\"vendor\"].str.contains('The Body Shop'),'product_cat'] = 'bath_body'\n",
    "data_tags_df.loc[data_tags_df[\"vendor\"].str.contains('Dermatory'),'product_cat'] = 'bath_body'\n",
    "data_tags_df.loc[data_tags_df[\"tags\"].str.contains('Bathing'),'product_cat'] = 'bath_body'\n",
    "data_tags_df.loc[data_tags_df[\"tags\"].str.contains('Sheet Mask'),'product_cat'] = 'bath_body'\n",
    "data_tags_df.loc[data_tags_df[\"tags\"].str.contains('Cleansing'),'product_cat'] = 'bath_body'\n",
    "data_tags_df.loc[data_tags_df[\"product_type\"].str.contains('Serum'),'product_cat'] = 'bath_body'\n",
    "data_tags_df.loc[data_tags_df[\"tags\"].str.contains('Skincare Set'),'product_cat'] = 'bath_body'\n",
    "\n",
    "data_tags_df.loc[data_tags_df[\"tags\"].str.contains('[\\s|][Bb]ag'),'product_cat'] = 'accessory'\n",
    "data_tags_df.loc[data_tags_df[\"product_type\"].str.contains('Goggles'),'product_cat'] = 'accessory'\n",
    "data_tags_df.loc[data_tags_df[\"product_type\"].str.contains('Tech Accessories'),'product_cat'] = 'accessory'\n",
    "data_tags_df.loc[data_tags_df[\"product_type\"].str.contains('Accessories'),'product_cat'] = 'accessory'\n",
    "data_tags_df.loc[data_tags_df[\"product_type\"].str.contains('BAG'),'product_cat'] = 'accessory'\n",
    "data_tags_df.loc[data_tags_df[\"product_type\"].str.contains('Cap'),'product_cat'] = 'accessory'\n",
    "\n",
    "data_tags_df.loc[data_tags_df[\"vendor\"].str.contains('Qwehli'),'product_cat'] = 'food'\n",
    "\n",
    "data_tags_df.loc[data_tags_df[\"product_type\"].str.contains('Beverage'),'product_cat'] = 'drink'\n",
    "\n",
    "data_tags_df.loc[data_tags_df[\"product_type\"].str.contains('Home Electronics'),'product_cat'] = 'home_appliance'\n",
    "\n",
    "\n",
    "\n",
    "### Gender of the product\n",
    "data_tags_df.loc[data_tags_df[\"tags\"].str.contains('[\\s|][Mm]en'),'product_gender'] = 'men'\n",
    "data_tags_df.loc[data_tags_df[\"tags\"].str.contains('[\\s|][Ww]omen'),'product_gender'] = 'women'\n",
    "data_tags_df.loc[data_tags_df[\"tags\"].str.contains('[\\s|][Jj]unior'),'product_gender'] = 'children'\n",
    "data_tags_df.loc[data_tags_df[\"product_type\"].str.contains('.*[Bb]aby.*'),'product_gender'] = 'children'\n",
    "data_tags_df.loc[data_tags_df[\"product_type\"].str.contains('.*[Kk]ids.*'),'product_gender'] = 'children'\n",
    "\n",
    "\n",
    "\n",
    "# data_tags_df[(data_tags_df['product_cat'] == '__')]\n",
    "# data_tags_df[(data_tags_df['product_gender'] == '__')]\n",
    "# data_tags_df.head(60)"
   ]
  },
  {
   "cell_type": "markdown",
   "id": "27bc1d97-6cd2-4c24-b57f-3f31448dfdf0",
   "metadata": {},
   "source": [
    "# Creat a online/offline"
   ]
  },
  {
   "cell_type": "code",
   "execution_count": 101,
   "id": "a0f99330-6218-4857-b234-dbfde430fa55",
   "metadata": {},
   "outputs": [
    {
     "data": {
      "text/plain": [
       "Index(['order_ID', 'item_ID', 'date', 'item_price', 'item_quantity',\n",
       "       'discount', 'final_price', 'vendor', 'title', 'product_type', 'tags',\n",
       "       'customer_ID', 'gender', 'age', 'city', 'product_gender',\n",
       "       'product_cat'],\n",
       "      dtype='object')"
      ]
     },
     "execution_count": 101,
     "metadata": {},
     "output_type": "execute_result"
    }
   ],
   "source": [
    "data_tags_df.columns"
   ]
  },
  {
   "cell_type": "code",
   "execution_count": 102,
   "id": "4dad4a40-b383-4519-9c6b-844ec7f8cccd",
   "metadata": {},
   "outputs": [],
   "source": [
    "data_tags_df.loc[data_tags_df[\"vendor\"].str.contains('Online'),'on_off'] = 'on'\n",
    "data_tags_df.loc[data_tags_df[\"vendor\"].str.contains('Offline'),'on_off'] = 'off'"
   ]
  },
  {
   "cell_type": "code",
   "execution_count": 103,
   "id": "f6c1a82f-5b8c-4775-8711-eb753b7b5b4e",
   "metadata": {},
   "outputs": [],
   "source": [
    "data_tags_df['premium_status']='N'\n",
    "data_tags_df['district']='N'"
   ]
  },
  {
   "cell_type": "code",
   "execution_count": 104,
   "id": "47b693a2-9f14-4cb6-b984-b3e08a395e05",
   "metadata": {},
   "outputs": [],
   "source": [
    "data_tags_df = data_tags_df.drop(columns=[\"title\",\"product_type\",'tags'])"
   ]
  },
  {
   "cell_type": "code",
   "execution_count": 105,
   "id": "fee699a5-5e89-4db8-95f1-4738dd9324f9",
   "metadata": {},
   "outputs": [],
   "source": [
    "data_tags_df.to_csv('../raw_data/200_rows_for_first_model.csv')"
   ]
  }
 ],
 "metadata": {
  "kernelspec": {
   "display_name": "Python 3 (ipykernel)",
   "language": "python",
   "name": "python3"
  },
  "language_info": {
   "codemirror_mode": {
    "name": "ipython",
    "version": 3
   },
   "file_extension": ".py",
   "mimetype": "text/x-python",
   "name": "python",
   "nbconvert_exporter": "python",
   "pygments_lexer": "ipython3",
   "version": "3.8.6"
  }
 },
 "nbformat": 4,
 "nbformat_minor": 5
}
