{
 "cells": [
  {
   "cell_type": "code",
   "execution_count": 295,
   "id": "bdf4fde4-98c8-4268-bc9d-c971d4fa015a",
   "metadata": {},
   "outputs": [],
   "source": [
    "import pandas as pd\n",
    "import numpy as np\n",
    "import matplotlib.pyplot as plt"
   ]
  },
  {
   "cell_type": "markdown",
   "id": "fd50752f-01db-47db-a2ad-b8fdce63af2e",
   "metadata": {
    "tags": []
   },
   "source": [
    "# Exploring the data"
   ]
  },
  {
   "cell_type": "markdown",
   "id": "604a530c-6127-4933-9d70-20de12b0257f",
   "metadata": {
    "tags": []
   },
   "source": [
    "## Importing value and lowercase everything"
   ]
  },
  {
   "cell_type": "code",
   "execution_count": 296,
   "id": "687b802b-4292-4239-86ad-3b21c40e3349",
   "metadata": {},
   "outputs": [
    {
     "data": {
      "text/plain": [
       "dtype('float64')"
      ]
     },
     "execution_count": 296,
     "metadata": {},
     "output_type": "execute_result"
    }
   ],
   "source": [
    "data_df = pd.read_csv('../raw_data/1M_rows_raw.csv')\n",
    "\n",
    "for column in data_df.columns:\n",
    "    if data_df[column].dtype == 'O':\n",
    "        data_df[column] = data_df[column].str.lower()\n",
    "\n",
    "# data_df.columns\n",
    "# type(data_df['date'][0])\n",
    "data_df['price'].dtype "
   ]
  },
  {
   "cell_type": "code",
   "execution_count": 297,
   "id": "fa4416f3-0ec3-4dd3-8df4-1cb3b7356aba",
   "metadata": {},
   "outputs": [
    {
     "name": "stdout",
     "output_type": "stream",
     "text": [
      "<class 'pandas.core.frame.DataFrame'>\n",
      "RangeIndex: 964433 entries, 0 to 964432\n",
      "Data columns (total 17 columns):\n",
      " #   Column              Non-Null Count   Dtype  \n",
      "---  ------              --------------   -----  \n",
      " 0   _sdc_source_key_id  964433 non-null  float64\n",
      " 1   sku                 956358 non-null  object \n",
      " 2   date                964433 non-null  object \n",
      " 3   price               964433 non-null  float64\n",
      " 4   quantity            964433 non-null  int64  \n",
      " 5   discount            964433 non-null  float64\n",
      " 6   price_qty           964433 non-null  float64\n",
      " 7   vendor              821608 non-null  object \n",
      " 8   title               821608 non-null  object \n",
      " 9   product_type        648418 non-null  object \n",
      " 10  tags                564903 non-null  object \n",
      " 11  email               952005 non-null  object \n",
      " 12  gender              948055 non-null  object \n",
      " 13  age                 903666 non-null  float64\n",
      " 14  Nationality         504784 non-null  object \n",
      " 15  premium_status      964433 non-null  object \n",
      " 16  district            899219 non-null  object \n",
      "dtypes: float64(5), int64(1), object(11)\n",
      "memory usage: 125.1+ MB\n"
     ]
    }
   ],
   "source": [
    "data_df.info()"
   ]
  },
  {
   "cell_type": "code",
   "execution_count": 298,
   "id": "d5ec907b-2327-4520-8d78-67fe722a5e42",
   "metadata": {},
   "outputs": [],
   "source": [
    "# data_df.head()"
   ]
  },
  {
   "cell_type": "markdown",
   "id": "f614494d-fc10-4472-be4b-b0b669b92c25",
   "metadata": {
    "tags": []
   },
   "source": [
    "## Column renamimg"
   ]
  },
  {
   "cell_type": "code",
   "execution_count": 299,
   "id": "ce80f13b-8b09-44a1-9e69-73318322808e",
   "metadata": {},
   "outputs": [
    {
     "data": {
      "text/plain": [
       "Index(['order_ID', 'item_ID', 'date', 'price', 'quantity', 'discount',\n",
       "       'final_price', 'vendor', 'title', 'product_type', 'tags', 'customer_ID',\n",
       "       'gender', 'age', 'nationality', 'premium_status', 'district'],\n",
       "      dtype='object')"
      ]
     },
     "execution_count": 299,
     "metadata": {},
     "output_type": "execute_result"
    }
   ],
   "source": [
    "data_df.rename(columns={'_sdc_source_key_id':'order_ID',\n",
    "                        'sku':'item_ID',\n",
    "                        'item price':'item_price',\n",
    "                        'item quantity':'item_quantity',\n",
    "                        'line-item discount':'discount',\n",
    "                        'price_qty':'final_price',\n",
    "                        'email':'customer_ID',\n",
    "                        'Nationality':'nationality'\n",
    "                        },\n",
    "                             inplace = True)\n",
    "data_df.columns"
   ]
  },
  {
   "cell_type": "markdown",
   "id": "067aa05b-0220-4f5d-86e9-08e58013a70e",
   "metadata": {
    "tags": []
   },
   "source": [
    "## Working on NA and strange values"
   ]
  },
  {
   "cell_type": "code",
   "execution_count": 300,
   "id": "c459e76c-886c-43f1-bbee-811959d057a9",
   "metadata": {},
   "outputs": [
    {
     "name": "stdout",
     "output_type": "stream",
     "text": [
      "NA values in order_ID : 0.0%\n",
      "NA values in item_ID : 0.84%\n",
      "NA values in date : 0.0%\n",
      "NA values in price : 0.0%\n",
      "NA values in quantity : 0.0%\n",
      "NA values in discount : 0.0%\n",
      "NA values in final_price : 0.0%\n",
      "NA values in vendor : 14.81%\n",
      "NA values in title : 14.81%\n",
      "NA values in product_type : 32.77%\n",
      "NA values in tags : 41.43%\n",
      "NA values in customer_ID : 1.29%\n",
      "NA values in gender : 1.7%\n",
      "NA values in age : 6.3%\n",
      "NA values in nationality : 47.66%\n",
      "NA values in premium_status : 0.0%\n",
      "NA values in district : 6.76%\n"
     ]
    }
   ],
   "source": [
    "for column in data_df.columns:\n",
    "    print(f'NA values in {column} : {round(data_df[column].isnull().sum()/len(data_df)*100,2)}%')"
   ]
  },
  {
   "cell_type": "code",
   "execution_count": 301,
   "id": "aad1c5a1-2f1b-4f79-a7ca-62a745e68e42",
   "metadata": {},
   "outputs": [
    {
     "data": {
      "text/plain": [
       "(964433, 17)"
      ]
     },
     "execution_count": 301,
     "metadata": {},
     "output_type": "execute_result"
    }
   ],
   "source": [
    "data_df.shape"
   ]
  },
  {
   "cell_type": "markdown",
   "id": "09e1663c-4613-4db4-872b-2c2988cccfd0",
   "metadata": {
    "tags": []
   },
   "source": [
    "### Droping NA item_ID, customer_ID"
   ]
  },
  {
   "cell_type": "code",
   "execution_count": 302,
   "id": "69878e81-b8ff-4a66-ba04-2f033bdf420b",
   "metadata": {},
   "outputs": [],
   "source": [
    "data_df.dropna(subset=['item_ID', 'customer_ID'],inplace=True)"
   ]
  },
  {
   "cell_type": "code",
   "execution_count": 303,
   "id": "9877029f-9a31-453c-9a07-69f6c2457bb3",
   "metadata": {},
   "outputs": [
    {
     "name": "stdout",
     "output_type": "stream",
     "text": [
      "NA values in order_ID : 0.0%\n",
      "NA values in item_ID : 0.0%\n",
      "NA values in date : 0.0%\n",
      "NA values in price : 0.0%\n",
      "NA values in quantity : 0.0%\n",
      "NA values in discount : 0.0%\n",
      "NA values in final_price : 0.0%\n",
      "NA values in vendor : 14.24%\n",
      "NA values in title : 14.24%\n",
      "NA values in product_type : 31.96%\n",
      "NA values in tags : 40.43%\n",
      "NA values in customer_ID : 0.0%\n",
      "NA values in gender : 0.41%\n",
      "NA values in age : 5.03%\n",
      "NA values in nationality : 46.95%\n",
      "NA values in premium_status : 0.0%\n",
      "NA values in district : 5.5%\n"
     ]
    }
   ],
   "source": [
    "for column in data_df.columns:\n",
    "    print(f'NA values in {column} : {round(data_df[column].isnull().sum()/len(data_df)*100,2)}%')"
   ]
  },
  {
   "cell_type": "code",
   "execution_count": 304,
   "id": "92cf9aae-9995-4384-ad42-c714a8d99665",
   "metadata": {},
   "outputs": [
    {
     "data": {
      "text/plain": [
       "(947364, 17)"
      ]
     },
     "execution_count": 304,
     "metadata": {},
     "output_type": "execute_result"
    }
   ],
   "source": [
    "data_df.shape"
   ]
  },
  {
   "cell_type": "markdown",
   "id": "a7b71cbf-5c1a-449f-b79c-8398ea751a80",
   "metadata": {
    "tags": []
   },
   "source": [
    "### For district, nationality, gender,  - most comun one"
   ]
  },
  {
   "cell_type": "markdown",
   "id": "46a8532e-4819-485d-bf5f-ee4b69910786",
   "metadata": {
    "tags": []
   },
   "source": [
    "#### district"
   ]
  },
  {
   "cell_type": "code",
   "execution_count": 305,
   "id": "181ad4c1-adb5-4f64-ba38-19f14440a421",
   "metadata": {},
   "outputs": [],
   "source": [
    "# data_df['district'].unique()"
   ]
  },
  {
   "cell_type": "code",
   "execution_count": 306,
   "id": "478caf29-8e9c-4639-97a7-4ddccabc413a",
   "metadata": {},
   "outputs": [
    {
     "name": "stdout",
     "output_type": "stream",
     "text": [
      "kowloon city : 5.5%\n",
      "eastern : 9.11%\n",
      "central & western : 32.94%\n",
      "wan chai : 6.58%\n",
      "southern : 5.81%\n"
     ]
    }
   ],
   "source": [
    "for district in data_df['district'].unique():\n",
    "    count=data_df[data_df['district'] == district]['district'].count()\n",
    "    if count/len(data_df)*100 > 5:\n",
    "        print(f'{district} : {round(    count   /   len(data_df)  *  100     ,2)}%')"
   ]
  },
  {
   "cell_type": "code",
   "execution_count": 307,
   "id": "31942ed1-2e52-47fd-b858-1661302df6ba",
   "metadata": {},
   "outputs": [],
   "source": [
    "data_df['district'] = data_df['district'].fillna('central & western')"
   ]
  },
  {
   "cell_type": "markdown",
   "id": "495ac5b2-a090-4fb4-872c-73a92167124e",
   "metadata": {
    "tags": []
   },
   "source": [
    "#### nationality"
   ]
  },
  {
   "cell_type": "code",
   "execution_count": 308,
   "id": "916e0a16-4492-4b96-aa69-b870271c6d23",
   "metadata": {},
   "outputs": [],
   "source": [
    "# data_df['nationality'].unique()"
   ]
  },
  {
   "cell_type": "code",
   "execution_count": 309,
   "id": "d8eaeb53-c763-40c5-a3c7-cb6476ac9d32",
   "metadata": {},
   "outputs": [
    {
     "name": "stdout",
     "output_type": "stream",
     "text": [
      "hong kong sar : 39.2%\n",
      "united kingdom : 1.47%\n",
      "other : 3.56%\n",
      "china : 3.0%\n",
      "korea : 1.46%\n",
      "france : 1.37%\n",
      "american samoa : 1.2%\n"
     ]
    }
   ],
   "source": [
    "for nationality in data_df['nationality'].unique():\n",
    "    count=data_df[data_df['nationality'] == nationality]['nationality'].count()\n",
    "    if count/len(data_df)*100 > 1:\n",
    "        print(f'{nationality} : {round(    count   /   len(data_df)  *  100     ,2)}%')"
   ]
  },
  {
   "cell_type": "code",
   "execution_count": 310,
   "id": "326f7bba-3e99-4537-9b00-5660aaf33db4",
   "metadata": {},
   "outputs": [],
   "source": [
    "data_df['nationality'] = data_df['nationality'].fillna('hong kong sar')"
   ]
  },
  {
   "cell_type": "markdown",
   "id": "f29be934-527c-4af1-88c6-17155def1309",
   "metadata": {
    "tags": []
   },
   "source": [
    "#### gender"
   ]
  },
  {
   "cell_type": "code",
   "execution_count": 311,
   "id": "7d2c5f2c-9081-442a-b239-937412be3778",
   "metadata": {},
   "outputs": [
    {
     "data": {
      "text/plain": [
       "array(['male', 'female', nan, 'other'], dtype=object)"
      ]
     },
     "execution_count": 311,
     "metadata": {},
     "output_type": "execute_result"
    }
   ],
   "source": [
    "data_df['gender'].unique()"
   ]
  },
  {
   "cell_type": "code",
   "execution_count": 312,
   "id": "ab90067d-9efd-4f36-8828-38f797dc5e42",
   "metadata": {},
   "outputs": [
    {
     "name": "stdout",
     "output_type": "stream",
     "text": [
      "male : 13.21%\n",
      "female : 86.37%\n",
      "other : 0.01%\n"
     ]
    }
   ],
   "source": [
    "for gender in data_df['gender'].unique():\n",
    "    count=data_df[data_df['gender'] == gender]['gender'].count()\n",
    "    if count/len(data_df)*100 > 0:\n",
    "        print(f'{gender} : {round(    count   /   len(data_df)  *  100     ,2)}%')"
   ]
  },
  {
   "cell_type": "code",
   "execution_count": 313,
   "id": "78b4d262-db78-4e77-9e54-b545ee538046",
   "metadata": {},
   "outputs": [],
   "source": [
    "data_df['gender'] = data_df['gender'].fillna('female')"
   ]
  },
  {
   "cell_type": "code",
   "execution_count": 314,
   "id": "0dd35413-aad9-4e16-95d6-518f65ba4e22",
   "metadata": {},
   "outputs": [
    {
     "name": "stdout",
     "output_type": "stream",
     "text": [
      "NA values in order_ID : 0.0%\n",
      "NA values in item_ID : 0.0%\n",
      "NA values in date : 0.0%\n",
      "NA values in price : 0.0%\n",
      "NA values in quantity : 0.0%\n",
      "NA values in discount : 0.0%\n",
      "NA values in final_price : 0.0%\n",
      "NA values in vendor : 14.24%\n",
      "NA values in title : 14.24%\n",
      "NA values in product_type : 31.96%\n",
      "NA values in tags : 40.43%\n",
      "NA values in customer_ID : 0.0%\n",
      "NA values in gender : 0.0%\n",
      "NA values in age : 5.03%\n",
      "NA values in nationality : 0.0%\n",
      "NA values in premium_status : 0.0%\n",
      "NA values in district : 0.0%\n"
     ]
    }
   ],
   "source": [
    "for column in data_df.columns:\n",
    "    print(f'NA values in {column} : {round(data_df[column].isnull().sum()/len(data_df)*100,2)}%')"
   ]
  },
  {
   "cell_type": "code",
   "execution_count": 315,
   "id": "32ecf48e-aafd-4d9b-9823-7434f12ba5e3",
   "metadata": {},
   "outputs": [
    {
     "data": {
      "text/plain": [
       "(947364, 17)"
      ]
     },
     "execution_count": 315,
     "metadata": {},
     "output_type": "execute_result"
    }
   ],
   "source": [
    "data_df.shape"
   ]
  },
  {
   "cell_type": "markdown",
   "id": "dea02ec7-61eb-4de6-85f5-d96c5372c67c",
   "metadata": {
    "tags": []
   },
   "source": [
    "### For age - use the mean for nan and outliers"
   ]
  },
  {
   "cell_type": "markdown",
   "id": "48bd96bb-8bf7-4ad1-b91c-944d2d41f528",
   "metadata": {
    "tags": []
   },
   "source": [
    "#### OLD / mean for nan"
   ]
  },
  {
   "cell_type": "code",
   "execution_count": 316,
   "id": "dc6df8cd-bf61-45c7-beb7-b890b689ba89",
   "metadata": {},
   "outputs": [],
   "source": [
    "data_df['age'] = data_df['age'].fillna(round(data_df['age'].mean()))"
   ]
  },
  {
   "cell_type": "markdown",
   "id": "d7ecf52f-639e-4e7d-8ff7-5f471a9bd778",
   "metadata": {
    "tags": []
   },
   "source": [
    "#### outliers"
   ]
  },
  {
   "cell_type": "code",
   "execution_count": 317,
   "id": "88453e80-f63d-4cf4-9ee2-bf246468b7a2",
   "metadata": {},
   "outputs": [],
   "source": [
    "data_df.loc[data_df['age'] < 18, 'age'] = round(data_df['age'].mean())\n",
    "data_df.loc[data_df['age'] > 90, 'age'] = round(data_df['age'].mean())\n",
    "# data_df.loc[data_df['age'] < 18, 'age'] = np.nan\n",
    "# data_df.loc[data_df['age'] > 90, 'age'] = np.nan"
   ]
  },
  {
   "cell_type": "code",
   "execution_count": 318,
   "id": "26c7c636-cd41-44b8-aeec-a7928b43b867",
   "metadata": {},
   "outputs": [
    {
     "data": {
      "text/plain": [
       "<function matplotlib.pyplot.show(close=None, block=None)>"
      ]
     },
     "execution_count": 318,
     "metadata": {},
     "output_type": "execute_result"
    },
    {
     "data": {
      "image/png": "[encoded data removed]",
      "text/plain": [
       "<Figure size 432x288 with 1 Axes>"
      ]
     },
     "metadata": {
      "needs_background": "light"
     },
     "output_type": "display_data"
    }
   ],
   "source": [
    "plt.hist(data_df['age'])\n",
    "plt.show"
   ]
  },
  {
   "cell_type": "code",
   "execution_count": 319,
   "id": "f42b4fba-3f0b-4d7e-9f74-f82a5de856c6",
   "metadata": {},
   "outputs": [
    {
     "data": {
      "text/plain": [
       "(947364, 17)"
      ]
     },
     "execution_count": 319,
     "metadata": {},
     "output_type": "execute_result"
    }
   ],
   "source": [
    "data_df.shape"
   ]
  },
  {
   "cell_type": "code",
   "execution_count": 320,
   "id": "06a296fc-0222-4cff-87aa-1a73dc89fbf4",
   "metadata": {},
   "outputs": [
    {
     "name": "stdout",
     "output_type": "stream",
     "text": [
      "NA values in order_ID : 0.0%\n",
      "NA values in item_ID : 0.0%\n",
      "NA values in date : 0.0%\n",
      "NA values in price : 0.0%\n",
      "NA values in quantity : 0.0%\n",
      "NA values in discount : 0.0%\n",
      "NA values in final_price : 0.0%\n",
      "NA values in vendor : 14.24%\n",
      "NA values in title : 14.24%\n",
      "NA values in product_type : 31.96%\n",
      "NA values in tags : 40.43%\n",
      "NA values in customer_ID : 0.0%\n",
      "NA values in gender : 0.0%\n",
      "NA values in age : 0.0%\n",
      "NA values in nationality : 0.0%\n",
      "NA values in premium_status : 0.0%\n",
      "NA values in district : 0.0%\n"
     ]
    }
   ],
   "source": [
    "for column in data_df.columns:\n",
    "    print(f'NA values in {column} : {round(data_df[column].isnull().sum()/len(data_df)*100,2)}%')"
   ]
  },
  {
   "cell_type": "markdown",
   "id": "2ec061ec-c6a4-4487-aca0-60efa233808a",
   "metadata": {
    "tags": []
   },
   "source": [
    "### For now : drop nan vendor (QUESTION)"
   ]
  },
  {
   "cell_type": "code",
   "execution_count": 321,
   "id": "4701efd7-6bf7-49d7-a994-00739967bc9a",
   "metadata": {},
   "outputs": [],
   "source": [
    "# data_df[data_df['vendor'].isnull()]"
   ]
  },
  {
   "cell_type": "code",
   "execution_count": 322,
   "id": "cf5d5f57-c69b-484f-9e93-d52250902f22",
   "metadata": {},
   "outputs": [],
   "source": [
    "data_df.dropna(subset=['vendor'],inplace=True)"
   ]
  },
  {
   "cell_type": "code",
   "execution_count": 323,
   "id": "e89d89bd-48b9-45b6-871c-ed705ccb9a39",
   "metadata": {},
   "outputs": [
    {
     "data": {
      "text/plain": [
       "(812481, 17)"
      ]
     },
     "execution_count": 323,
     "metadata": {},
     "output_type": "execute_result"
    }
   ],
   "source": [
    "data_df.shape"
   ]
  },
  {
   "cell_type": "code",
   "execution_count": 324,
   "id": "49580383-b265-4ec8-b0e2-7ed512e9f921",
   "metadata": {},
   "outputs": [
    {
     "name": "stdout",
     "output_type": "stream",
     "text": [
      "NA values in order_ID : 0.0%\n",
      "NA values in item_ID : 0.0%\n",
      "NA values in date : 0.0%\n",
      "NA values in price : 0.0%\n",
      "NA values in quantity : 0.0%\n",
      "NA values in discount : 0.0%\n",
      "NA values in final_price : 0.0%\n",
      "NA values in vendor : 0.0%\n",
      "NA values in title : 0.0%\n",
      "NA values in product_type : 20.67%\n",
      "NA values in tags : 30.54%\n",
      "NA values in customer_ID : 0.0%\n",
      "NA values in gender : 0.0%\n",
      "NA values in age : 0.0%\n",
      "NA values in nationality : 0.0%\n",
      "NA values in premium_status : 0.0%\n",
      "NA values in district : 0.0%\n"
     ]
    }
   ],
   "source": [
    "for column in data_df.columns:\n",
    "    print(f'NA values in {column} : {round(data_df[column].isnull().sum()/len(data_df)*100,2)}%')"
   ]
  },
  {
   "cell_type": "markdown",
   "id": "36b42737-8d9a-41f4-ad86-e264160bf897",
   "metadata": {},
   "source": [
    "### Work on free items"
   ]
  },
  {
   "cell_type": "code",
   "execution_count": 325,
   "id": "36b2c105-7527-40e2-8d10-15914e1c473b",
   "metadata": {},
   "outputs": [
    {
     "data": {
      "text/plain": [
       "32413"
      ]
     },
     "execution_count": 325,
     "metadata": {},
     "output_type": "execute_result"
    }
   ],
   "source": [
    "data_df[data_df['price'] == 0]['price'].count()"
   ]
  },
  {
   "cell_type": "code",
   "execution_count": 326,
   "id": "a50cdd7f-0b1b-4938-b0e0-ab3bafb62ace",
   "metadata": {
    "tags": []
   },
   "outputs": [
    {
     "data": {
      "text/plain": [
       "(780068, 17)"
      ]
     },
     "execution_count": 326,
     "metadata": {},
     "output_type": "execute_result"
    }
   ],
   "source": [
    "data_df = data_df[data_df['price'] != 0]\n",
    "data_df.shape"
   ]
  },
  {
   "cell_type": "markdown",
   "id": "e82bdc9b-8be5-4c04-a62b-9f9fb6f803da",
   "metadata": {
    "tags": []
   },
   "source": [
    "### Work on OTL membership sales"
   ]
  },
  {
   "cell_type": "code",
   "execution_count": 327,
   "id": "c5290990-c3fc-4515-9480-457e7fe7b0ae",
   "metadata": {},
   "outputs": [
    {
     "data": {
      "text/plain": [
       "(776802, 17)"
      ]
     },
     "execution_count": 327,
     "metadata": {},
     "output_type": "execute_result"
    }
   ],
   "source": [
    "# data_df.loc[data_df['title'].str.contains('membership')]['title'].unique()\n",
    "data_df = data_df[data_df['title'] != 'onthelist premium membership']\n",
    "data_df.shape"
   ]
  },
  {
   "cell_type": "markdown",
   "id": "11001e42-fc97-4116-9058-0f4955a8e11e",
   "metadata": {},
   "source": [
    "### Work on other OTL sales"
   ]
  },
  {
   "cell_type": "code",
   "execution_count": 328,
   "id": "25436757-cc4d-4de7-ae42-0811fd187f51",
   "metadata": {},
   "outputs": [
    {
     "data": {
      "text/plain": [
       "array(['onthelist', 'onthelist hk', 'onthelisttest'], dtype=object)"
      ]
     },
     "execution_count": 328,
     "metadata": {},
     "output_type": "execute_result"
    }
   ],
   "source": [
    "data_df.loc[data_df['vendor'].str.contains('onthelist')]['vendor'].unique()"
   ]
  },
  {
   "cell_type": "code",
   "execution_count": 329,
   "id": "36ce437c-c616-4b16-85a1-12e2bf990a9e",
   "metadata": {},
   "outputs": [
    {
     "data": {
      "text/plain": [
       "(776689, 17)"
      ]
     },
     "execution_count": 329,
     "metadata": {},
     "output_type": "execute_result"
    }
   ],
   "source": [
    "data_df = data_df[data_df['vendor'] != 'onthelist']\n",
    "data_df = data_df[data_df['vendor'] != 'onthelist hk']\n",
    "data_df = data_df[data_df['vendor'] != 'onthelisttest']\n",
    "data_df.shape"
   ]
  },
  {
   "cell_type": "markdown",
   "id": "e8a31571-f8da-4c2b-9f68-56142eb0038a",
   "metadata": {},
   "source": [
    "## Ading the off/on columns (QUESTION)"
   ]
  },
  {
   "cell_type": "code",
   "execution_count": 331,
   "id": "b97b607b-a6c1-498d-baf2-4bf15a00a4be",
   "metadata": {},
   "outputs": [],
   "source": [
    "data_df['on_off'] = '__'\n",
    "\n",
    "\n",
    "data_df.loc[data_df[\"vendor\"].str.contains('-online'),'on_off'] = 'online'\n",
    "data_df.loc[data_df[\"vendor\"].str.contains('- online'),'on_off'] = 'online'\n",
    "data_df.loc[data_df[\"vendor\"].str.contains('-onlione'),'on_off'] = 'online'\n",
    "\n",
    "\n",
    "data_df.loc[data_df[\"vendor\"].str.contains('-offline'),'on_off'] = 'offline'\n",
    "data_df.loc[data_df[\"vendor\"].str.contains('- offline'),'on_off'] = 'offline'\n",
    "\n",
    "\n",
    "# data_df[data_df[\"on_off\"] == '__']['vendor'].count(),data_df[data_df[\"on_off\"] == '__']['vendor'].unique()\n",
    "data_df = data_df[data_df['on_off'] != '__']\n",
    "# data_df.shape\n",
    "# data_df[data_df['vendor'].str.contains('ortea')]"
   ]
  },
  {
   "cell_type": "markdown",
   "id": "7fff7633-0c50-48b8-bf27-fd3907e78c1f",
   "metadata": {
    "tags": []
   },
   "source": [
    "## Creat the tmp with vendor, title, product and tags for the NLP"
   ]
  },
  {
   "cell_type": "code",
   "execution_count": 332,
   "id": "06fb5378-a6ae-4c75-af98-c99fc620b80a",
   "metadata": {},
   "outputs": [],
   "source": [
    "# data_df['vendor'].fillna('',inplace=True)\n",
    "# data_df['title'].fillna('',inplace=True)\n",
    "# data_df['product_type'].fillna('',inplace=True)\n",
    "# data_df['tags'].fillna('',inplace=True)\n",
    "# data_df['tmp_NLP']= data_df['vendor']+' '+data_df['title']+' '+data_df['product_type']+' '+data_df['tags']\n",
    "\n",
    "data_df['vendor_tmp'] = data_df['vendor'].astype(str)\n",
    "data_df['title_tmp'] = data_df['title'].astype(str)\n",
    "data_df['product_type_tmp'] = data_df['product_type'].astype(str)\n",
    "data_df['tags_tmp'] = data_df['tags'].astype(str)\n",
    "data_df['tmp_NLP'] = data_df[['vendor_tmp', 'title_tmp', 'product_type_tmp', 'tags_tmp']].agg(' '.join, axis=1)\n",
    "data_df = data_df.drop(columns=['vendor_tmp', 'title_tmp', 'product_type_tmp', 'tags_tmp'])\n"
   ]
  },
  {
   "cell_type": "code",
   "execution_count": 333,
   "id": "7702da59-054c-431c-a2d2-8c9f99456a76",
   "metadata": {},
   "outputs": [
    {
     "data": {
      "text/plain": [
       "(772116, 19)"
      ]
     },
     "execution_count": 333,
     "metadata": {},
     "output_type": "execute_result"
    }
   ],
   "source": [
    "# data_df[data_df['tmp_NLP'].isnull()]\n",
    "data_df.shape"
   ]
  },
  {
   "cell_type": "code",
   "execution_count": 334,
   "id": "06724554-bb6e-4683-bf50-d964c064662b",
   "metadata": {},
   "outputs": [
    {
     "name": "stdout",
     "output_type": "stream",
     "text": [
      "NA values in order_ID : 0.0%\n",
      "NA values in item_ID : 0.0%\n",
      "NA values in date : 0.0%\n",
      "NA values in price : 0.0%\n",
      "NA values in quantity : 0.0%\n",
      "NA values in discount : 0.0%\n",
      "NA values in final_price : 0.0%\n",
      "NA values in vendor : 0.0%\n",
      "NA values in title : 0.0%\n",
      "NA values in product_type : 21.32%\n",
      "NA values in tags : 26.98%\n",
      "NA values in customer_ID : 0.0%\n",
      "NA values in gender : 0.0%\n",
      "NA values in age : 0.0%\n",
      "NA values in nationality : 0.0%\n",
      "NA values in premium_status : 0.0%\n",
      "NA values in district : 0.0%\n",
      "NA values in on_off : 0.0%\n",
      "NA values in tmp_NLP : 0.0%\n"
     ]
    }
   ],
   "source": [
    "for column in data_df.columns:\n",
    "    print(f'NA values in {column} : {round(data_df[column].isnull().sum()/len(data_df)*100,2)}%')"
   ]
  },
  {
   "cell_type": "markdown",
   "id": "294eca94-a1e7-46b9-a557-62461473461c",
   "metadata": {
    "tags": []
   },
   "source": [
    "# NLP process"
   ]
  },
  {
   "cell_type": "markdown",
   "id": "a9b5ec3a-cd52-4b71-ae04-cad74cbb4352",
   "metadata": {
    "jp-MarkdownHeadingCollapsed": true,
    "tags": []
   },
   "source": [
    "## extracting 100_000 rows"
   ]
  },
  {
   "cell_type": "code",
   "execution_count": 56,
   "id": "acb3a751-6639-454d-b5d5-0d8318e760b6",
   "metadata": {},
   "outputs": [
    {
     "data": {
      "text/plain": [
       "(66170, 19)"
      ]
     },
     "execution_count": 56,
     "metadata": {},
     "output_type": "execute_result"
    }
   ],
   "source": [
    "data_sample_100_000_df = data_df.sample(n = 100_000,random_state=42)\n",
    "data_sample_100_000_df = data_sample_100_000_df.dropna()\n",
    "data_sample_100_000_df.shape"
   ]
  },
  {
   "cell_type": "code",
   "execution_count": 42,
   "id": "a3cacaa9-1a6a-46e2-9771-b673ebb4362e",
   "metadata": {},
   "outputs": [],
   "source": [
    "# for column in data_sample_100_000_df.columns:\n",
    "#     print(f'NA values in {column} : {round(data_sample_100_000_df[column].isnull().sum()/len(data_sample_100_000_df)*100,2)}%')"
   ]
  },
  {
   "cell_type": "markdown",
   "id": "7dd0516b-0b3d-42bc-b718-a465d8ef47d7",
   "metadata": {
    "tags": []
   },
   "source": [
    "## creating train and test set"
   ]
  },
  {
   "cell_type": "code",
   "execution_count": 378,
   "id": "c4cf474f-7cb6-47a3-acca-d84c971cd4df",
   "metadata": {},
   "outputs": [
    {
     "ename": "KeyError",
     "evalue": "'moleskine'",
     "output_type": "error",
     "traceback": [
      "\u001b[0;31m---------------------------------------------------------------------------\u001b[0m",
      "\u001b[0;31mKeyError\u001b[0m                                  Traceback (most recent call last)",
      "\u001b[0;32m~/.pyenv/versions/lewagon/envs/on_the_list_crm/lib/python3.8/site-packages/pandas/core/indexes/base.py\u001b[0m in \u001b[0;36mget_loc\u001b[0;34m(self, key, method, tolerance)\u001b[0m\n\u001b[1;32m   3360\u001b[0m             \u001b[0;32mtry\u001b[0m\u001b[0;34m:\u001b[0m\u001b[0;34m\u001b[0m\u001b[0;34m\u001b[0m\u001b[0m\n\u001b[0;32m-> 3361\u001b[0;31m                 \u001b[0;32mreturn\u001b[0m \u001b[0mself\u001b[0m\u001b[0;34m.\u001b[0m\u001b[0m_engine\u001b[0m\u001b[0;34m.\u001b[0m\u001b[0mget_loc\u001b[0m\u001b[0;34m(\u001b[0m\u001b[0mcasted_key\u001b[0m\u001b[0;34m)\u001b[0m\u001b[0;34m\u001b[0m\u001b[0;34m\u001b[0m\u001b[0m\n\u001b[0m\u001b[1;32m   3362\u001b[0m             \u001b[0;32mexcept\u001b[0m \u001b[0mKeyError\u001b[0m \u001b[0;32mas\u001b[0m \u001b[0merr\u001b[0m\u001b[0;34m:\u001b[0m\u001b[0;34m\u001b[0m\u001b[0;34m\u001b[0m\u001b[0m\n",
      "\u001b[0;32m~/.pyenv/versions/lewagon/envs/on_the_list_crm/lib/python3.8/site-packages/pandas/_libs/index.pyx\u001b[0m in \u001b[0;36mpandas._libs.index.IndexEngine.get_loc\u001b[0;34m()\u001b[0m\n",
      "\u001b[0;32m~/.pyenv/versions/lewagon/envs/on_the_list_crm/lib/python3.8/site-packages/pandas/_libs/index.pyx\u001b[0m in \u001b[0;36mpandas._libs.index.IndexEngine.get_loc\u001b[0;34m()\u001b[0m\n",
      "\u001b[0;32mpandas/_libs/hashtable_class_helper.pxi\u001b[0m in \u001b[0;36mpandas._libs.hashtable.PyObjectHashTable.get_item\u001b[0;34m()\u001b[0m\n",
      "\u001b[0;32mpandas/_libs/hashtable_class_helper.pxi\u001b[0m in \u001b[0;36mpandas._libs.hashtable.PyObjectHashTable.get_item\u001b[0;34m()\u001b[0m\n",
      "\u001b[0;31mKeyError\u001b[0m: 'moleskine'",
      "\nThe above exception was the direct cause of the following exception:\n",
      "\u001b[0;31mKeyError\u001b[0m                                  Traceback (most recent call last)",
      "\u001b[0;32m/tmp/ipykernel_3447/2740291180.py\u001b[0m in \u001b[0;36m<module>\u001b[0;34m\u001b[0m\n\u001b[1;32m    117\u001b[0m \u001b[0mdata_sample_100_000_df\u001b[0m\u001b[0;34m.\u001b[0m\u001b[0mloc\u001b[0m\u001b[0;34m[\u001b[0m\u001b[0mdata_sample_100_000_df\u001b[0m\u001b[0;34m[\u001b[0m\u001b[0;34m\"product_type\"\u001b[0m\u001b[0;34m]\u001b[0m\u001b[0;34m.\u001b[0m\u001b[0mstr\u001b[0m\u001b[0;34m.\u001b[0m\u001b[0mcontains\u001b[0m\u001b[0;34m(\u001b[0m\u001b[0;34m'pillow case'\u001b[0m\u001b[0;34m)\u001b[0m\u001b[0;34m,\u001b[0m\u001b[0;34m'product_cat'\u001b[0m\u001b[0;34m]\u001b[0m \u001b[0;34m=\u001b[0m \u001b[0;34m'home'\u001b[0m\u001b[0;34m\u001b[0m\u001b[0;34m\u001b[0m\u001b[0m\n\u001b[1;32m    118\u001b[0m \u001b[0mdata_sample_100_000_df\u001b[0m\u001b[0;34m.\u001b[0m\u001b[0mloc\u001b[0m\u001b[0;34m[\u001b[0m\u001b[0mdata_sample_100_000_df\u001b[0m\u001b[0;34m[\u001b[0m\u001b[0;34m\"vendor\"\u001b[0m\u001b[0;34m]\u001b[0m\u001b[0;34m.\u001b[0m\u001b[0mstr\u001b[0m\u001b[0;34m.\u001b[0m\u001b[0mcontains\u001b[0m\u001b[0;34m(\u001b[0m\u001b[0;34m'riedel'\u001b[0m\u001b[0;34m)\u001b[0m\u001b[0;34m,\u001b[0m\u001b[0;34m'product_cat'\u001b[0m\u001b[0;34m]\u001b[0m \u001b[0;34m=\u001b[0m \u001b[0;34m'home'\u001b[0m\u001b[0;34m\u001b[0m\u001b[0;34m\u001b[0m\u001b[0m\n\u001b[0;32m--> 119\u001b[0;31m \u001b[0mdata_sample_100_000_df\u001b[0m\u001b[0;34m.\u001b[0m\u001b[0mloc\u001b[0m\u001b[0;34m[\u001b[0m\u001b[0mdata_sample_100_000_df\u001b[0m\u001b[0;34m[\u001b[0m\u001b[0;34m\"moleskine\"\u001b[0m\u001b[0;34m]\u001b[0m\u001b[0;34m.\u001b[0m\u001b[0mstr\u001b[0m\u001b[0;34m.\u001b[0m\u001b[0mcontains\u001b[0m\u001b[0;34m(\u001b[0m\u001b[0;34m'riedel'\u001b[0m\u001b[0;34m)\u001b[0m\u001b[0;34m,\u001b[0m\u001b[0;34m'product_cat'\u001b[0m\u001b[0;34m]\u001b[0m \u001b[0;34m=\u001b[0m \u001b[0;34m'home'\u001b[0m\u001b[0;34m\u001b[0m\u001b[0;34m\u001b[0m\u001b[0m\n\u001b[0m\u001b[1;32m    120\u001b[0m \u001b[0;34m\u001b[0m\u001b[0m\n\u001b[1;32m    121\u001b[0m \u001b[0;34m\u001b[0m\u001b[0m\n",
      "\u001b[0;32m~/.pyenv/versions/lewagon/envs/on_the_list_crm/lib/python3.8/site-packages/pandas/core/frame.py\u001b[0m in \u001b[0;36m__getitem__\u001b[0;34m(self, key)\u001b[0m\n\u001b[1;32m   3456\u001b[0m             \u001b[0;32mif\u001b[0m \u001b[0mself\u001b[0m\u001b[0;34m.\u001b[0m\u001b[0mcolumns\u001b[0m\u001b[0;34m.\u001b[0m\u001b[0mnlevels\u001b[0m \u001b[0;34m>\u001b[0m \u001b[0;36m1\u001b[0m\u001b[0;34m:\u001b[0m\u001b[0;34m\u001b[0m\u001b[0;34m\u001b[0m\u001b[0m\n\u001b[1;32m   3457\u001b[0m                 \u001b[0;32mreturn\u001b[0m \u001b[0mself\u001b[0m\u001b[0;34m.\u001b[0m\u001b[0m_getitem_multilevel\u001b[0m\u001b[0;34m(\u001b[0m\u001b[0mkey\u001b[0m\u001b[0;34m)\u001b[0m\u001b[0;34m\u001b[0m\u001b[0;34m\u001b[0m\u001b[0m\n\u001b[0;32m-> 3458\u001b[0;31m             \u001b[0mindexer\u001b[0m \u001b[0;34m=\u001b[0m \u001b[0mself\u001b[0m\u001b[0;34m.\u001b[0m\u001b[0mcolumns\u001b[0m\u001b[0;34m.\u001b[0m\u001b[0mget_loc\u001b[0m\u001b[0;34m(\u001b[0m\u001b[0mkey\u001b[0m\u001b[0;34m)\u001b[0m\u001b[0;34m\u001b[0m\u001b[0;34m\u001b[0m\u001b[0m\n\u001b[0m\u001b[1;32m   3459\u001b[0m             \u001b[0;32mif\u001b[0m \u001b[0mis_integer\u001b[0m\u001b[0;34m(\u001b[0m\u001b[0mindexer\u001b[0m\u001b[0;34m)\u001b[0m\u001b[0;34m:\u001b[0m\u001b[0;34m\u001b[0m\u001b[0;34m\u001b[0m\u001b[0m\n\u001b[1;32m   3460\u001b[0m                 \u001b[0mindexer\u001b[0m \u001b[0;34m=\u001b[0m \u001b[0;34m[\u001b[0m\u001b[0mindexer\u001b[0m\u001b[0;34m]\u001b[0m\u001b[0;34m\u001b[0m\u001b[0;34m\u001b[0m\u001b[0m\n",
      "\u001b[0;32m~/.pyenv/versions/lewagon/envs/on_the_list_crm/lib/python3.8/site-packages/pandas/core/indexes/base.py\u001b[0m in \u001b[0;36mget_loc\u001b[0;34m(self, key, method, tolerance)\u001b[0m\n\u001b[1;32m   3361\u001b[0m                 \u001b[0;32mreturn\u001b[0m \u001b[0mself\u001b[0m\u001b[0;34m.\u001b[0m\u001b[0m_engine\u001b[0m\u001b[0;34m.\u001b[0m\u001b[0mget_loc\u001b[0m\u001b[0;34m(\u001b[0m\u001b[0mcasted_key\u001b[0m\u001b[0;34m)\u001b[0m\u001b[0;34m\u001b[0m\u001b[0;34m\u001b[0m\u001b[0m\n\u001b[1;32m   3362\u001b[0m             \u001b[0;32mexcept\u001b[0m \u001b[0mKeyError\u001b[0m \u001b[0;32mas\u001b[0m \u001b[0merr\u001b[0m\u001b[0;34m:\u001b[0m\u001b[0;34m\u001b[0m\u001b[0;34m\u001b[0m\u001b[0m\n\u001b[0;32m-> 3363\u001b[0;31m                 \u001b[0;32mraise\u001b[0m \u001b[0mKeyError\u001b[0m\u001b[0;34m(\u001b[0m\u001b[0mkey\u001b[0m\u001b[0;34m)\u001b[0m \u001b[0;32mfrom\u001b[0m \u001b[0merr\u001b[0m\u001b[0;34m\u001b[0m\u001b[0;34m\u001b[0m\u001b[0m\n\u001b[0m\u001b[1;32m   3364\u001b[0m \u001b[0;34m\u001b[0m\u001b[0m\n\u001b[1;32m   3365\u001b[0m         \u001b[0;32mif\u001b[0m \u001b[0mis_scalar\u001b[0m\u001b[0;34m(\u001b[0m\u001b[0mkey\u001b[0m\u001b[0;34m)\u001b[0m \u001b[0;32mand\u001b[0m \u001b[0misna\u001b[0m\u001b[0;34m(\u001b[0m\u001b[0mkey\u001b[0m\u001b[0;34m)\u001b[0m \u001b[0;32mand\u001b[0m \u001b[0;32mnot\u001b[0m \u001b[0mself\u001b[0m\u001b[0;34m.\u001b[0m\u001b[0mhasnans\u001b[0m\u001b[0;34m:\u001b[0m\u001b[0;34m\u001b[0m\u001b[0;34m\u001b[0m\u001b[0m\n",
      "\u001b[0;31mKeyError\u001b[0m: 'moleskine'"
     ]
    }
   ],
   "source": [
    "data_sample_100_000_df['product_gender'] = 'unisex'\n",
    "data_sample_100_000_df['product_cat'] = '__'\n",
    "data_sample_100_000_df['tags'] = data_sample_100_000_df[\"tags\"].str.replace(',',' ')\n",
    "\n",
    "##Type of product\n",
    "data_sample_100_000_df.loc[data_sample_100_000_df[\"tags\"].str.contains('\\d{2}'),'product_cat'] = 'clothes'\n",
    "data_sample_100_000_df.loc[data_sample_100_000_df[\"tags\"].str.contains('[\\s|]x*s[\\s|]'),'product_cat'] = 'clothes'\n",
    "data_sample_100_000_df.loc[data_sample_100_000_df[\"tags\"].str.contains('[\\s|]m[\\s|]'),'product_cat'] = 'clothes'\n",
    "data_sample_100_000_df.loc[data_sample_100_000_df[\"tags\"].str.contains('[\\s|]x*l[\\s|]'),'product_cat'] = 'clothes'\n",
    "data_sample_100_000_df.loc[data_sample_100_000_df[\"tags\"].str.contains('shirt'),'product_cat'] = 'clothes'\n",
    "data_sample_100_000_df.loc[data_sample_100_000_df[\"tags\"].str.contains('dress'),'product_cat'] = 'clothes'\n",
    "data_sample_100_000_df.loc[data_sample_100_000_df[\"tags\"].str.contains('underwear'),'product_cat'] = 'clothes'\n",
    "data_sample_100_000_df.loc[data_sample_100_000_df[\"tags\"].str.contains('trousers'),'product_cat'] = 'clothes'\n",
    "\n",
    "\n",
    "data_sample_100_000_df.loc[data_sample_100_000_df[\"product_type\"].str.contains('watershorts'),'product_cat'] = 'clothes'\n",
    "data_sample_100_000_df.loc[data_sample_100_000_df[\"product_type\"].str.contains('top'),'product_cat'] = 'clothes'\n",
    "data_sample_100_000_df.loc[data_sample_100_000_df[\"product_type\"].str.contains('dresses'),'product_cat'] = 'clothes'\n",
    "data_sample_100_000_df.loc[data_sample_100_000_df[\"product_type\"].str.contains('trousers'),'product_cat'] = 'clothes'\n",
    "data_sample_100_000_df.loc[data_sample_100_000_df[\"product_type\"].str.contains('clothing'),'product_cat'] = 'clothes'\n",
    "data_sample_100_000_df.loc[data_sample_100_000_df[\"product_type\"].str.contains('apparel'),'product_cat'] = 'clothes'\n",
    "data_sample_100_000_df.loc[data_sample_100_000_df[\"product_type\"].str.contains('ready-to-wear'),'product_cat'] = 'clothes'\n",
    "data_sample_100_000_df.loc[data_sample_100_000_df[\"product_type\"].str.contains('underwear'),'product_cat'] = 'clothes'\n",
    "data_sample_100_000_df.loc[data_sample_100_000_df[\"product_type\"].str.contains('bra'),'product_cat'] = 'clothes'\n",
    "\n",
    "data_sample_100_000_df.loc[data_sample_100_000_df[\"vendor\"].str.contains('risinglotus'),'product_cat'] = 'clothes'\n",
    "data_sample_100_000_df.loc[data_sample_100_000_df[\"vendor\"].str.contains('aliceolivia'),'product_cat'] = 'clothes'\n",
    "data_sample_100_000_df.loc[data_sample_100_000_df[\"vendor\"].str.contains('casacalvin'),'product_cat'] = 'clothes'\n",
    "data_sample_100_000_df.loc[data_sample_100_000_df[\"vendor\"].str.contains('risinglotus'),'product_cat'] = 'clothes'\n",
    "\n",
    "data_sample_100_000_df.loc[data_sample_100_000_df[\"product_type\"].str.contains('shoes'),'product_cat'] = 'clothes'\n",
    "data_sample_100_000_df.loc[data_sample_100_000_df[\"product_type\"].str.contains('footwear'),'product_cat'] = 'clothes'\n",
    "data_sample_100_000_df.loc[data_sample_100_000_df[\"product_type\"].str.contains('boot'),'product_cat'] = 'clothes'\n",
    "data_sample_100_000_df.loc[data_sample_100_000_df[\"product_type\"].str.contains('slippers'),'product_cat'] = 'clothes'\n",
    "data_sample_100_000_df.loc[data_sample_100_000_df[\"product_type\"].str.contains('sandal'),'product_cat'] = 'clothes'\n",
    "\n",
    "data_sample_100_000_df.loc[data_sample_100_000_df[\"product_type\"].str.contains('bath & body'),'product_cat'] = 'bath_body'\n",
    "data_sample_100_000_df.loc[data_sample_100_000_df[\"product_type\"].str.contains('fragrance'),'product_cat'] = 'bath_body'\n",
    "data_sample_100_000_df.loc[data_sample_100_000_df[\"vendor\"].str.contains('the body shop'),'product_cat'] = 'bath_body'\n",
    "data_sample_100_000_df.loc[data_sample_100_000_df[\"vendor\"].str.contains('dermatory'),'product_cat'] = 'bath_body'\n",
    "data_sample_100_000_df.loc[data_sample_100_000_df[\"tags\"].str.contains('bathing'),'product_cat'] = 'bath_body'\n",
    "data_sample_100_000_df.loc[data_sample_100_000_df[\"tags\"].str.contains('sheet mask'),'product_cat'] = 'bath_body'\n",
    "data_sample_100_000_df.loc[data_sample_100_000_df[\"tags\"].str.contains('cleansing'),'product_cat'] = 'bath_body'\n",
    "data_sample_100_000_df.loc[data_sample_100_000_df[\"product_type\"].str.contains('serum'),'product_cat'] = 'bath_body'\n",
    "data_sample_100_000_df.loc[data_sample_100_000_df[\"tags\"].str.contains('skincare set'),'product_cat'] = 'bath_body'\n",
    "data_sample_100_000_df.loc[data_sample_100_000_df[\"product_type\"].str.contains('makeup'),'product_cat'] = 'bath_body'\n",
    "data_sample_100_000_df.loc[data_sample_100_000_df[\"tags\"].str.contains('shower gel'),'product_cat'] = 'bath_body'\n",
    "data_sample_100_000_df.loc[data_sample_100_000_df[\"product_type\"].str.contains('defrisant'),'product_cat'] = 'bath_body'\n",
    "data_sample_100_000_df.loc[data_sample_100_000_df[\"product_type\"].str.contains('skincare'),'product_cat'] = 'bath_body'\n",
    "data_sample_100_000_df.loc[data_sample_100_000_df[\"product_type\"].str.contains('shampoo'),'product_cat'] = 'bath_body'\n",
    "data_sample_100_000_df.loc[data_sample_100_000_df[\"product_type\"].str.contains('leave-in beauty'),'product_cat'] = 'bath_body'\n",
    "data_sample_100_000_df.loc[data_sample_100_000_df[\"vendor\"].str.contains('phyto'),'product_cat'] = 'bath_body'\n",
    "data_sample_100_000_df.loc[data_sample_100_000_df[\"vendor\"].str.contains('shiseido'),'product_cat'] = 'bath_body'\n",
    "data_sample_100_000_df.loc[data_sample_100_000_df[\"vendor\"].str.contains('bareminerals'),'product_cat'] = 'bath_body'\n",
    "data_sample_100_000_df.loc[data_sample_100_000_df[\"product_type\"].str.contains('lip'),'product_cat'] = 'bath_body'\n",
    "data_sample_100_000_df.loc[data_sample_100_000_df[\"product_type\"].str.contains('skin'),'product_cat'] = 'bath_body'\n",
    "data_sample_100_000_df.loc[data_sample_100_000_df[\"product_type\"].str.contains('personal care appliance'),'product_cat'] = 'bath_body'\n",
    "data_sample_100_000_df.loc[data_sample_100_000_df[\"product_type\"].str.contains('make-up'),'product_cat'] = 'bath_body'\n",
    "data_sample_100_000_df.loc[data_sample_100_000_df[\"product_type\"].str.contains('make up'),'product_cat'] = 'bath_body'\n",
    "data_sample_100_000_df.loc[data_sample_100_000_df[\"product_type\"].str.contains('hand care'),'product_cat'] = 'bath_body'\n",
    "data_sample_100_000_df.loc[data_sample_100_000_df[\"product_type\"].str.contains('anti-aging'),'product_cat'] = 'bath_body'\n",
    "data_sample_100_000_df.loc[data_sample_100_000_df[\"product_type\"].str.contains('face'),'product_cat'] = 'bath_body'\n",
    "data_sample_100_000_df.loc[data_sample_100_000_df[\"product_type\"].str.contains('eyes'),'product_cat'] = 'bath_body'\n",
    "data_sample_100_000_df.loc[data_sample_100_000_df[\"product_type\"].str.contains('hair'),'product_cat'] = 'bath_body'\n",
    "data_sample_100_000_df.loc[data_sample_100_000_df[\"tags\"].str.contains('moisturising'),'product_cat'] = 'bath_body'\n",
    "data_sample_100_000_df.loc[data_sample_100_000_df[\"vendor\"].str.contains('aromatherapy associates'),'product_cat'] = 'bath_body'\n",
    "data_sample_100_000_df.loc[data_sample_100_000_df[\"product_type\"].str.contains('bodycare'),'product_cat'] = 'bath_body'\n",
    "\n",
    "data_sample_100_000_df.loc[data_sample_100_000_df[\"tags\"].str.contains('[\\s|]bag'),'product_cat'] = 'accessory'\n",
    "data_sample_100_000_df.loc[data_sample_100_000_df[\"product_type\"].str.contains('goggles'),'product_cat'] = 'accessory'\n",
    "data_sample_100_000_df.loc[data_sample_100_000_df[\"product_type\"].str.contains('tech accessories'),'product_cat'] = 'accessory'\n",
    "data_sample_100_000_df.loc[data_sample_100_000_df[\"product_type\"].str.contains('accessories'),'product_cat'] = 'accessory'\n",
    "data_sample_100_000_df.loc[data_sample_100_000_df[\"product_type\"].str.contains('bag'),'product_cat'] = 'accessory'\n",
    "data_sample_100_000_df.loc[data_sample_100_000_df[\"product_type\"].str.contains('bags'),'product_cat'] = 'accessory'\n",
    "data_sample_100_000_df.loc[data_sample_100_000_df[\"product_type\"].str.contains('cap'),'product_cat'] = 'accessory'\n",
    "data_sample_100_000_df.loc[data_sample_100_000_df[\"product_type\"].str.contains('jewelry'),'product_cat'] = 'accessory'\n",
    "data_sample_100_000_df.loc[data_sample_100_000_df[\"product_type\"].str.contains('jewellery'),'product_cat'] = 'accessory'\n",
    "data_sample_100_000_df.loc[data_sample_100_000_df[\"tags\"].str.contains('accessories'),'product_cat'] = 'accessory'\n",
    "data_sample_100_000_df.loc[data_sample_100_000_df[\"tags\"].str.contains('wallets'),'product_cat'] = 'accessory'\n",
    "data_sample_100_000_df.loc[data_sample_100_000_df[\"tags\"].str.contains('belts'),'product_cat'] = 'accessory'\n",
    "data_sample_100_000_df.loc[data_sample_100_000_df[\"product_type\"].str.contains('rings'),'product_cat'] = 'accessory'\n",
    "data_sample_100_000_df.loc[data_sample_100_000_df[\"tags\"].str.contains('scarf'),'product_cat'] = 'accessory'\n",
    "data_sample_100_000_df.loc[data_sample_100_000_df[\"product_type\"].str.contains('goods'),'product_cat'] = 'accessory'\n",
    "data_sample_100_000_df.loc[data_sample_100_000_df[\"product_type\"].str.contains('handbags'),'product_cat'] = 'accessory'\n",
    "data_sample_100_000_df.loc[data_sample_100_000_df[\"product_type\"].str.contains('wallet'),'product_cat'] = 'accessory'\n",
    "data_sample_100_000_df.loc[data_sample_100_000_df[\"product_type\"].str.contains('sunglasses'),'product_cat'] = 'accessory'\n",
    "\n",
    "data_sample_100_000_df.loc[data_sample_100_000_df[\"vendor\"].str.contains('qwehli'),'product_cat'] = 'food'\n",
    "data_sample_100_000_df.loc[data_sample_100_000_df[\"product_type\"].str.contains('seafood'),'product_cat'] = 'food'\n",
    "data_sample_100_000_df.loc[data_sample_100_000_df[\"product_type\"].str.contains('beef'),'product_cat'] = 'food'\n",
    "data_sample_100_000_df.loc[data_sample_100_000_df[\"vendor\"].str.contains('plantin kaviari'),'product_cat'] = 'food'\n",
    "\n",
    "data_sample_100_000_df.loc[data_sample_100_000_df[\"product_type\"].str.contains('wine'),'product_cat'] = 'wine'\n",
    "data_sample_100_000_df.loc[data_sample_100_000_df[\"vendor\"].str.contains('altaya'),'product_cat'] = 'wine'\n",
    "\n",
    "data_sample_100_000_df.loc[data_sample_100_000_df[\"vendor\"].str.contains('or tea'),'product_cat'] = 'drink'\n",
    "data_sample_100_000_df.loc[data_sample_100_000_df[\"vendor\"].str.contains('ortea'),'product_cat'] = 'drink'\n",
    "data_sample_100_000_df.loc[data_sample_100_000_df[\"tags\"].str.contains('tea'),'product_cat'] = 'drink'\n",
    "\n",
    "data_sample_100_000_df.loc[data_sample_100_000_df[\"vendor\"].str.contains('lecreuset'),'product_cat'] = 'kitchen'\n",
    "data_sample_100_000_df.loc[data_sample_100_000_df[\"vendor\"].str.contains('le creuset'),'product_cat'] = 'kitchen'\n",
    "data_sample_100_000_df.loc[data_sample_100_000_df[\"vendor\"].str.contains('stojostasher'),'product_cat'] = 'kitchen'\n",
    "data_sample_100_000_df.loc[data_sample_100_000_df[\"tags\"].str.contains('kitchenware'),'product_cat'] = 'kitchen'\n",
    "data_sample_100_000_df.loc[data_sample_100_000_df[\"product_type\"].str.contains('kitchenware'),'product_cat'] = 'kitchen'\n",
    "\n",
    "data_sample_100_000_df.loc[data_sample_100_000_df[\"product_type\"].str.contains('home electronics'),'product_cat'] = 'home_appliance'\n",
    "data_sample_100_000_df.loc[data_sample_100_000_df[\"product_type\"].str.contains('homeware'),'product_cat'] = 'home_appliance'\n",
    "\n",
    "data_sample_100_000_df.loc[data_sample_100_000_df[\"product_type\"].str.contains('candle'),'product_cat'] = 'home'\n",
    "data_sample_100_000_df.loc[data_sample_100_000_df[\"product_type\"].str.contains('towel'),'product_cat'] = 'home'\n",
    "data_sample_100_000_df.loc[data_sample_100_000_df[\"product_type\"].str.contains('bedding set'),'product_cat'] = 'home'\n",
    "data_sample_100_000_df.loc[data_sample_100_000_df[\"product_type\"].str.contains('writitng'),'product_cat'] = 'home'\n",
    "data_sample_100_000_df.loc[data_sample_100_000_df[\"product_type\"].str.contains('writing'),'product_cat'] = 'home'\n",
    "data_sample_100_000_df.loc[data_sample_100_000_df[\"product_type\"].str.contains('luggage'),'product_cat'] = 'home'\n",
    "data_sample_100_000_df.loc[data_sample_100_000_df[\"product_type\"].str.contains('cuddledry'),'product_cat'] = 'home'\n",
    "data_sample_100_000_df.loc[data_sample_100_000_df[\"product_type\"].str.contains('paper product'),'product_cat'] = 'home'\n",
    "data_sample_100_000_df.loc[data_sample_100_000_df[\"product_type\"].str.contains('pillow case'),'product_cat'] = 'home'\n",
    "data_sample_100_000_df.loc[data_sample_100_000_df[\"vendor\"].str.contains('riedel'),'product_cat'] = 'home'\n",
    "data_sample_100_000_df.loc[data_sample_100_000_df[\"moleskine\"].str.contains('riedel'),'product_cat'] = 'home'\n",
    "\n",
    "\n",
    "\n",
    "### Gender of the product\n",
    "data_sample_100_000_df.loc[data_sample_100_000_df[\"tags\"].str.contains('[\\s|]men'),'product_gender'] = 'men'\n",
    "data_sample_100_000_df.loc[data_sample_100_000_df[\"tags\"].str.contains('^men'),'product_gender'] = 'men'\n",
    "data_sample_100_000_df.loc[data_sample_100_000_df[\"tags\"].str.contains('[\\s|]male'),'product_gender'] = 'men'\n",
    "data_sample_100_000_df.loc[data_sample_100_000_df[\"tags\"].str.contains('^male'),'product_gender'] = 'men'\n",
    "data_sample_100_000_df.loc[data_sample_100_000_df[\"tags\"].str.contains('[\\s|]man'),'product_gender'] = 'men'\n",
    "data_sample_100_000_df.loc[data_sample_100_000_df[\"tags\"].str.contains('^man'),'product_gender'] = 'men'\n",
    "\n",
    "data_sample_100_000_df.loc[data_sample_100_000_df[\"tags\"].str.contains('[\\s|]women'),'product_gender'] = 'women'\n",
    "data_sample_100_000_df.loc[data_sample_100_000_df[\"tags\"].str.contains('^women'),'product_gender'] = 'women'\n",
    "data_sample_100_000_df.loc[data_sample_100_000_df[\"tags\"].str.contains('[\\s|]female'),'product_gender'] = 'women'\n",
    "data_sample_100_000_df.loc[data_sample_100_000_df[\"tags\"].str.contains('^female'),'product_gender'] = 'women'\n",
    "data_sample_100_000_df.loc[data_sample_100_000_df[\"tags\"].str.contains('[\\s|]woman'),'product_gender'] = 'women'\n",
    "data_sample_100_000_df.loc[data_sample_100_000_df[\"tags\"].str.contains('^woman'),'product_gender'] = 'women'\n",
    "data_sample_100_000_df.loc[data_sample_100_000_df[\"product_type\"].str.contains('^jewel'),'product_gender'] = 'women'\n",
    "\n",
    "data_sample_100_000_df.loc[data_sample_100_000_df[\"tags\"].str.contains('[\\s|]junior'),'product_gender'] = 'children'\n",
    "data_sample_100_000_df.loc[data_sample_100_000_df[\"tags\"].str.contains('^junior'),'product_gender'] = 'children'\n",
    "data_sample_100_000_df.loc[data_sample_100_000_df[\"tags\"].str.contains('[\\s|]baby'),'product_gender'] = 'children'\n",
    "data_sample_100_000_df.loc[data_sample_100_000_df[\"tags\"].str.contains('^baby'),'product_gender'] = 'children'\n",
    "data_sample_100_000_df.loc[data_sample_100_000_df[\"product_type\"].str.contains('.*baby.*'),'product_gender'] = 'children'\n",
    "data_sample_100_000_df.loc[data_sample_100_000_df[\"product_type\"].str.contains('.*kids.*'),'product_gender'] = 'children'\n",
    "\n",
    "# data_sample_100_000_df[(data_sample_100_000_df['product_cat'] != '__')][['vendor','title','product_type','tags','product_cat','product_gender']]\n",
    "# len(data_sample_100_000_df[(data_sample_100_000_df['product_cat'] == '__')])\n",
    "\n",
    "# data_sample_100_000_df[(data_sample_100_000_df['product_gender'] == '__')]\n",
    "# data_sample_100_000_df.head(60)"
   ]
  },
  {
   "cell_type": "code",
   "execution_count": 94,
   "id": "1ee24c21-67b1-4cc0-aa8a-a3dc571f865f",
   "metadata": {},
   "outputs": [
    {
     "data": {
      "text/plain": [
       "(56719, 21)"
      ]
     },
     "execution_count": 94,
     "metadata": {},
     "output_type": "execute_result"
    }
   ],
   "source": [
    "data_for_train_test = data_sample_100_000_df[(data_sample_100_000_df['product_cat'] != '__')]\n",
    "# data_for_train_test\n",
    "# data_for_train_test.to_csv('../raw_data/50000_rows_for_first_model.csv')\n",
    "data_for_train_test.shape"
   ]
  },
  {
   "cell_type": "code",
   "execution_count": 95,
   "id": "dbf59a09-53cd-4adc-ab6f-5d64a0b96251",
   "metadata": {},
   "outputs": [],
   "source": [
    "from sklearn.model_selection import train_test_split\n",
    "from sklearn.preprocessing import LabelEncoder\n",
    "\n",
    "X = data_for_train_test['tmp_NLP']\n",
    "y = data_for_train_test['product_cat']\n",
    "\n",
    "label_encoder = LabelEncoder()\n",
    "y = label_encoder.fit_transform(y)\n",
    "\n",
    "X_train, X_test, y_train, y_test = train_test_split(X, y, test_size=0.33, random_state=42)"
   ]
  },
  {
   "cell_type": "code",
   "execution_count": 96,
   "id": "47da43d5-ca88-4fbb-9e8d-c3357fdbe9b0",
   "metadata": {},
   "outputs": [
    {
     "data": {
      "text/plain": [
       "array(['home', 'clothes', 'accessory', 'bath_body', 'drink', 'kitchen',\n",
       "       'wine', 'home_appliance', 'food'], dtype=object)"
      ]
     },
     "execution_count": 96,
     "metadata": {},
     "output_type": "execute_result"
    }
   ],
   "source": [
    "data_for_train_test.product_cat.unique()"
   ]
  },
  {
   "cell_type": "code",
   "execution_count": 97,
   "id": "cb83b457-009b-4b7e-8590-663123d99a6b",
   "metadata": {},
   "outputs": [
    {
     "data": {
      "text/plain": [
       "{0: 'accessory',\n",
       " 1: 'bath_body',\n",
       " 2: 'clothes',\n",
       " 3: 'drink',\n",
       " 4: 'food',\n",
       " 5: 'home',\n",
       " 6: 'home_appliance',\n",
       " 7: 'kitchen',\n",
       " 8: 'wine'}"
      ]
     },
     "execution_count": 97,
     "metadata": {},
     "output_type": "execute_result"
    }
   ],
   "source": [
    "liste = list(label_encoder.inverse_transform([0,1,2,3,4,5,6,7,8]))\n",
    "dict_label = {}\n",
    "\n",
    "for i in range (9):\n",
    "    dict_label[i] = liste[i]\n",
    "\n",
    "dict_label"
   ]
  },
  {
   "cell_type": "markdown",
   "id": "4a0172b1-4810-4580-9603-2e833dde441c",
   "metadata": {
    "jp-MarkdownHeadingCollapsed": true,
    "tags": []
   },
   "source": [
    "## tokenizer"
   ]
  },
  {
   "cell_type": "code",
   "execution_count": 98,
   "id": "259244e1-f12b-428f-9a96-0a3aae8db6a7",
   "metadata": {},
   "outputs": [],
   "source": [
    "from tensorflow.keras.preprocessing.text import Tokenizer\n",
    "\n",
    "tokenizer = Tokenizer()\n",
    "\n",
    "tokenizer.fit_on_texts(X_train)\n",
    "\n",
    "X_train_token = tokenizer.texts_to_sequences(X_train)\n",
    "X_test_token = tokenizer.texts_to_sequences(X_test)"
   ]
  },
  {
   "cell_type": "code",
   "execution_count": 99,
   "id": "47df4432-8df5-465b-810d-699477cec662",
   "metadata": {},
   "outputs": [
    {
     "data": {
      "text/plain": [
       "11"
      ]
     },
     "execution_count": 99,
     "metadata": {},
     "output_type": "execute_result"
    }
   ],
   "source": [
    "len(X_train_token[0])"
   ]
  },
  {
   "cell_type": "code",
   "execution_count": 102,
   "id": "dd513e87-1a7a-4565-a9a4-32d3fb0fe130",
   "metadata": {},
   "outputs": [
    {
     "name": "stdout",
     "output_type": "stream",
     "text": [
      "78\n"
     ]
    }
   ],
   "source": [
    "max_size = 0\n",
    "for element in X_train_token:\n",
    "    if len(element) > max_size:\n",
    "        max_size = len(element)\n",
    "\n",
    "print(max_size)"
   ]
  },
  {
   "cell_type": "code",
   "execution_count": 103,
   "id": "8235a960-8b48-42c8-83c7-c3aab6228e13",
   "metadata": {},
   "outputs": [
    {
     "data": {
      "text/plain": [
       "12434"
      ]
     },
     "execution_count": 103,
     "metadata": {},
     "output_type": "execute_result"
    }
   ],
   "source": [
    "vocab_size = max([i for i in tokenizer.word_index.values()]) \n",
    "\n",
    "vocab_size"
   ]
  },
  {
   "cell_type": "markdown",
   "id": "a8b5af0f-eb75-48cc-8d38-2edd0d1a7261",
   "metadata": {
    "jp-MarkdownHeadingCollapsed": true,
    "tags": []
   },
   "source": [
    "## pading"
   ]
  },
  {
   "cell_type": "code",
   "execution_count": 104,
   "id": "bc671f08-b213-44eb-81ef-ba55b0467956",
   "metadata": {},
   "outputs": [],
   "source": [
    "from tensorflow.keras.preprocessing.sequence import pad_sequences\n",
    "\n",
    "X_train_token_pad = pad_sequences(X_train_token,\n",
    "                                  maxlen=max_size,\n",
    "                                  dtype='int32', \n",
    "                                  padding='post', \n",
    "                                  value=0.0)\n",
    "\n",
    "X_test_token_pad = pad_sequences(X_test_token,\n",
    "                                 maxlen=max_size,\n",
    "                                 dtype='int32', \n",
    "                                 padding='post', \n",
    "                                 value=0.0)"
   ]
  },
  {
   "cell_type": "markdown",
   "id": "e21869ec-43d0-4fc8-a4af-7e8f6cd23939",
   "metadata": {
    "jp-MarkdownHeadingCollapsed": true,
    "tags": []
   },
   "source": [
    "## Model "
   ]
  },
  {
   "cell_type": "code",
   "execution_count": 105,
   "id": "1f53cb34-5361-4a0d-b8c3-dc0d1be3f94d",
   "metadata": {},
   "outputs": [],
   "source": [
    "from tensorflow.keras.models import Sequential\n",
    "from tensorflow.keras import layers\n",
    "\n",
    "model = Sequential()\n",
    "\n",
    "model.add(layers.Embedding(input_dim=vocab_size+1, # 16 +1 for the 0 padding\n",
    "                           input_length=max_size, # Max_sentence_length (optional, for model summary)\n",
    "                           output_dim=100,# 100\n",
    "                           mask_zero=True, # Included masking layer :)\n",
    "                          ))\n",
    "\n",
    "model.add(layers.LSTM(units=20))\n",
    "model.add(layers.Dense(10,activation=\"relu\"))\n",
    "model.add(layers.Dense(10,activation=\"relu\"))\n",
    "model.add(layers.Dense(9,activation=\"softmax\"))"
   ]
  },
  {
   "cell_type": "code",
   "execution_count": 55,
   "id": "5a19d101-5d29-422b-ba16-16726bdf3e78",
   "metadata": {},
   "outputs": [],
   "source": [
    "# model.summary()"
   ]
  },
  {
   "cell_type": "code",
   "execution_count": 106,
   "id": "edd4394c-e4d0-4e9a-b183-78f679e97eb0",
   "metadata": {},
   "outputs": [
    {
     "data": {
      "text/plain": [
       "((38001, 78), (38001,))"
      ]
     },
     "execution_count": 106,
     "metadata": {},
     "output_type": "execute_result"
    }
   ],
   "source": [
    "X_train_token_pad.shape,y_train.shape"
   ]
  },
  {
   "cell_type": "code",
   "execution_count": 107,
   "id": "f642890c-02a6-439e-90dd-a9110af734cd",
   "metadata": {},
   "outputs": [
    {
     "name": "stdout",
     "output_type": "stream",
     "text": [
      "Epoch 1/20\n",
      "60/60 [==============================] - 40s 632ms/step - loss: 1.1467 - accuracy: 0.7005 - val_loss: 0.5800 - val_accuracy: 0.7887\n",
      "Epoch 2/20\n",
      "60/60 [==============================] - 33s 554ms/step - loss: 0.4186 - accuracy: 0.8163 - val_loss: 0.3002 - val_accuracy: 0.8248\n",
      "Epoch 3/20\n",
      "60/60 [==============================] - 35s 589ms/step - loss: 0.1534 - accuracy: 0.9579 - val_loss: 0.0896 - val_accuracy: 0.9803\n",
      "Epoch 4/20\n",
      "60/60 [==============================] - 31s 518ms/step - loss: 0.0480 - accuracy: 0.9871 - val_loss: 0.0488 - val_accuracy: 0.9851\n",
      "Epoch 5/20\n",
      "60/60 [==============================] - 29s 489ms/step - loss: 0.0233 - accuracy: 0.9965 - val_loss: 0.0340 - val_accuracy: 0.9957\n",
      "Epoch 6/20\n",
      "60/60 [==============================] - 41s 683ms/step - loss: 0.0121 - accuracy: 0.9991 - val_loss: 0.0262 - val_accuracy: 0.9964\n",
      "Epoch 7/20\n",
      "60/60 [==============================] - 50s 834ms/step - loss: 0.0073 - accuracy: 0.9994 - val_loss: 0.0233 - val_accuracy: 0.9967\n",
      "Epoch 8/20\n",
      "60/60 [==============================] - 35s 588ms/step - loss: 0.0032 - accuracy: 0.9996 - val_loss: 0.0233 - val_accuracy: 0.9966\n",
      "Epoch 9/20\n",
      "60/60 [==============================] - 37s 625ms/step - loss: 0.0028 - accuracy: 0.9995 - val_loss: 0.0206 - val_accuracy: 0.9971\n",
      "Epoch 10/20\n",
      "60/60 [==============================] - 34s 568ms/step - loss: 0.0015 - accuracy: 0.9998 - val_loss: 0.0216 - val_accuracy: 0.9966\n",
      "Epoch 11/20\n",
      "60/60 [==============================] - 28s 472ms/step - loss: 0.0014 - accuracy: 0.9998 - val_loss: 0.0220 - val_accuracy: 0.9971\n",
      "Epoch 12/20\n",
      "60/60 [==============================] - 29s 490ms/step - loss: 7.2148e-04 - accuracy: 0.9999 - val_loss: 0.0231 - val_accuracy: 0.9972\n",
      "Epoch 13/20\n",
      "60/60 [==============================] - 28s 461ms/step - loss: 5.1180e-04 - accuracy: 0.9999 - val_loss: 0.0230 - val_accuracy: 0.9967\n"
     ]
    }
   ],
   "source": [
    "from tensorflow.keras.callbacks import EarlyStopping\n",
    "\n",
    "model.compile(loss='sparse_categorical_crossentropy',\n",
    "              optimizer='rmsprop',\n",
    "              metrics='accuracy')\n",
    "                       \n",
    "es = EarlyStopping(patience=4,restore_best_weights=True)\n",
    "\n",
    "history = model.fit(X_train_token_pad, y_train,\n",
    "                    validation_split=0.2,\n",
    "                    epochs=20, \n",
    "                    callbacks=[es],\n",
    "                    batch_size=512,\n",
    "                    verbose=1)"
   ]
  },
  {
   "cell_type": "code",
   "execution_count": 108,
   "id": "5318a76c-2f6b-4f79-a1af-fa18f3209b79",
   "metadata": {},
   "outputs": [],
   "source": [
    "def plot_history(history):\n",
    "    plt.plot(history.history['loss'])\n",
    "    plt.title('Train loss')\n",
    "    plt.ylabel('Loss')\n",
    "    plt.xlabel('Epoch')\n",
    "    plt.ylim(0,0.1)\n",
    "    plt.show()"
   ]
  },
  {
   "cell_type": "code",
   "execution_count": 109,
   "id": "a87436ed-1496-46c7-a96c-60526aaf4bce",
   "metadata": {},
   "outputs": [
    {
     "data": {
      "image/png": "[encoded data removed]",
      "text/plain": [
       "<Figure size 432x288 with 1 Axes>"
      ]
     },
     "metadata": {
      "needs_background": "light"
     },
     "output_type": "display_data"
    }
   ],
   "source": [
    "plot_history(history)"
   ]
  },
  {
   "cell_type": "code",
   "execution_count": 110,
   "id": "3d3e5099-7321-4b15-a26c-824b5223d932",
   "metadata": {},
   "outputs": [
    {
     "name": "stdout",
     "output_type": "stream",
     "text": [
      "585/585 [==============================] - 36s 62ms/step - loss: 0.0254 - accuracy: 0.9970\n"
     ]
    },
    {
     "data": {
      "text/plain": [
       "[0.02535378560423851, 0.997008204460144]"
      ]
     },
     "execution_count": 110,
     "metadata": {},
     "output_type": "execute_result"
    }
   ],
   "source": [
    "model.evaluate(X_test_token_pad, y_test, verbose=1)"
   ]
  },
  {
   "cell_type": "markdown",
   "id": "03884be0-e553-4abb-8839-c0f9441dd066",
   "metadata": {
    "tags": []
   },
   "source": [
    "# Validation of the model"
   ]
  },
  {
   "cell_type": "code",
   "execution_count": 268,
   "id": "9e45e7a9-a953-4628-a7d6-a2526afebf65",
   "metadata": {},
   "outputs": [
    {
     "data": {
      "text/plain": [
       "(1000, 18)"
      ]
     },
     "execution_count": 268,
     "metadata": {},
     "output_type": "execute_result"
    }
   ],
   "source": [
    "data_for_validation_df = data_df.sample(n = 1000,random_state=0)\n",
    "data_for_validation_df = data_for_validation_df.dropna()\n",
    "data_for_validation_df.shape"
   ]
  },
  {
   "cell_type": "code",
   "execution_count": 269,
   "id": "2edada6d-381c-44e1-bdde-4cab3f75e7e9",
   "metadata": {},
   "outputs": [],
   "source": [
    "X_val = data_for_validation_df['tmp_NLP']\n",
    "X_val_token = tokenizer.texts_to_sequences(X_val)\n",
    "X_val_token_pad = pad_sequences(X_val_token,\n",
    "                                 maxlen=75,\n",
    "                                 dtype='int32', \n",
    "                                 padding='post', \n",
    "                                 value=0.0)\n",
    "# print(X_val_token_pad[1])"
   ]
  },
  {
   "cell_type": "code",
   "execution_count": 270,
   "id": "e8db3224-d7fa-438a-8f7a-de8a71cd63f4",
   "metadata": {},
   "outputs": [],
   "source": [
    "prediction = model.predict(X_val_token_pad)"
   ]
  },
  {
   "cell_type": "code",
   "execution_count": 80,
   "id": "8a6c8137-5c2d-4e7d-879c-c9cf2ad2fab1",
   "metadata": {},
   "outputs": [
    {
     "data": {
      "text/plain": [
       "{0: 'accessory',\n",
       " 1: 'bath_body',\n",
       " 2: 'clothes',\n",
       " 3: 'drink',\n",
       " 4: 'food',\n",
       " 5: 'home',\n",
       " 6: 'home_appliance',\n",
       " 7: 'kitchen',\n",
       " 8: 'wine'}"
      ]
     },
     "execution_count": 80,
     "metadata": {},
     "output_type": "execute_result"
    }
   ],
   "source": [
    "dict_label"
   ]
  },
  {
   "cell_type": "code",
   "execution_count": 272,
   "id": "b6261c01-fb79-45bd-b7b0-cf7d1ff15d4e",
   "metadata": {},
   "outputs": [],
   "source": [
    "pred_list_tmp = []\n",
    "for sub_list in prediction:\n",
    "    sub_list = sub_list.tolist()\n",
    "    maximum = max(sub_list)\n",
    "    index = sub_list.index(maximum)\n",
    "    pred_list_tmp.append(index)\n",
    "\n",
    "pred_list = []\n",
    "for element in pred_list_tmp :\n",
    "    pred_list.append(dict_label[element])\n",
    "    \n",
    "# print(pred_list)\n",
    "\n"
   ]
  },
  {
   "cell_type": "code",
   "execution_count": 82,
   "id": "5d242a8e-0936-4ead-9c71-983108d3788f",
   "metadata": {},
   "outputs": [],
   "source": [
    "data_for_validation_df['product_cat'] = pred_list"
   ]
  },
  {
   "cell_type": "code",
   "execution_count": 83,
   "id": "c7b21eb3-603e-4cab-9911-bcd46628b831",
   "metadata": {},
   "outputs": [],
   "source": [
    "# data_for_validation_df[['tmp_NLP','product_cat']]\n",
    "data_for_validation_df[['tmp_NLP','product_cat']].to_csv('../raw_data/tmp_data_for_validation_df.csv')"
   ]
  },
  {
   "cell_type": "markdown",
   "id": "4f1f266d-4db9-4e4e-9362-eeaabcd9fc2e",
   "metadata": {},
   "source": [
    "# Apply to the whole df"
   ]
  },
  {
   "cell_type": "code",
   "execution_count": 336,
   "id": "61a23fa5-c2bb-4bfd-a97c-c38ebd8bfad5",
   "metadata": {},
   "outputs": [],
   "source": [
    "data_df['product_gender'] = 'unisex'\n",
    "data_df['product_cat'] = 'pending'\n",
    "data_df['product_type'] = data_df['product_type'].fillna(' ')\n",
    "data_df['tags'] = data_df['tags'].fillna(' ')\n",
    "\n",
    "### Gender of the product\n",
    "data_df.loc[data_df[\"tags\"].str.contains('[\\s|]men'),'product_gender'] = 'men'\n",
    "data_df.loc[data_df[\"tags\"].str.contains('^men'),'product_gender'] = 'men'\n",
    "data_df.loc[data_df[\"tags\"].str.contains('[\\s|]male'),'product_gender'] = 'men'\n",
    "data_df.loc[data_df[\"tags\"].str.contains('^male'),'product_gender'] = 'men'\n",
    "data_df.loc[data_df[\"tags\"].str.contains('[\\s|]man'),'product_gender'] = 'men'\n",
    "data_df.loc[data_df[\"tags\"].str.contains('^man'),'product_gender'] = 'men'\n",
    "\n",
    "data_df.loc[data_df[\"tags\"].str.contains('[\\s|]women'),'product_gender'] = 'women'\n",
    "data_df.loc[data_df[\"tags\"].str.contains('^women'),'product_gender'] = 'women'\n",
    "data_df.loc[data_df[\"tags\"].str.contains('[\\s|]female'),'product_gender'] = 'women'\n",
    "data_df.loc[data_df[\"tags\"].str.contains('^female'),'product_gender'] = 'women'\n",
    "data_df.loc[data_df[\"tags\"].str.contains('[\\s|]woman'),'product_gender'] = 'women'\n",
    "data_df.loc[data_df[\"tags\"].str.contains('^woman'),'product_gender'] = 'women'\n",
    "data_df.loc[data_df[\"product_type\"].str.contains('^jewel'),'product_gender'] = 'women'\n",
    "\n",
    "data_df.loc[data_df[\"tags\"].str.contains('[\\s|]junior'),'product_gender'] = 'children'\n",
    "data_df.loc[data_df[\"tags\"].str.contains('^junior'),'product_gender'] = 'children'\n",
    "data_df.loc[data_df[\"tags\"].str.contains('[\\s|]baby'),'product_gender'] = 'children'\n",
    "data_df.loc[data_df[\"tags\"].str.contains('^baby'),'product_gender'] = 'children'\n",
    "data_df.loc[data_df[\"product_type\"].str.contains('.*baby.*'),'product_gender'] = 'children'\n",
    "data_df.loc[data_df[\"product_type\"].str.contains('.*kids.*'),'product_gender'] = 'children'\n",
    "\n",
    "data_df = data_df.drop(columns=['title','product_type','tags'])"
   ]
  },
  {
   "cell_type": "code",
   "execution_count": 337,
   "id": "a5a74833-95d7-438d-9438-452907c4a89f",
   "metadata": {},
   "outputs": [
    {
     "data": {
      "text/html": [
       "<div>\n",
       "<style scoped>\n",
       "    .dataframe tbody tr th:only-of-type {\n",
       "        vertical-align: middle;\n",
       "    }\n",
       "\n",
       "    .dataframe tbody tr th {\n",
       "        vertical-align: top;\n",
       "    }\n",
       "\n",
       "    .dataframe thead th {\n",
       "        text-align: right;\n",
       "    }\n",
       "</style>\n",
       "<table border=\"1\" class=\"dataframe\">\n",
       "  <thead>\n",
       "    <tr style=\"text-align: right;\">\n",
       "      <th></th>\n",
       "      <th>order_ID</th>\n",
       "      <th>item_ID</th>\n",
       "      <th>date</th>\n",
       "      <th>price</th>\n",
       "      <th>quantity</th>\n",
       "      <th>discount</th>\n",
       "      <th>final_price</th>\n",
       "      <th>vendor</th>\n",
       "      <th>customer_ID</th>\n",
       "      <th>gender</th>\n",
       "      <th>age</th>\n",
       "      <th>nationality</th>\n",
       "      <th>premium_status</th>\n",
       "      <th>district</th>\n",
       "      <th>on_off</th>\n",
       "      <th>tmp_NLP</th>\n",
       "      <th>product_gender</th>\n",
       "      <th>product_cat</th>\n",
       "    </tr>\n",
       "  </thead>\n",
       "  <tbody>\n",
       "    <tr>\n",
       "      <th>10638</th>\n",
       "      <td>2.020960e+12</td>\n",
       "      <td>9.33602e+12</td>\n",
       "      <td>06-01-20</td>\n",
       "      <td>94.0</td>\n",
       "      <td>1</td>\n",
       "      <td>0.0</td>\n",
       "      <td>94.0</td>\n",
       "      <td>sasy n savy-online</td>\n",
       "      <td>623b30ace6407e07ba4e146b5a54e8c1</td>\n",
       "      <td>female</td>\n",
       "      <td>45.0</td>\n",
       "      <td>hong kong sar</td>\n",
       "      <td>y</td>\n",
       "      <td>southern</td>\n",
       "      <td>online</td>\n",
       "      <td>sasy n savy-online lime n lemongrass wash - 35...</td>\n",
       "      <td>unisex</td>\n",
       "      <td>pending</td>\n",
       "    </tr>\n",
       "    <tr>\n",
       "      <th>10639</th>\n",
       "      <td>2.020960e+12</td>\n",
       "      <td>9.33602e+12</td>\n",
       "      <td>06-01-20</td>\n",
       "      <td>149.0</td>\n",
       "      <td>1</td>\n",
       "      <td>0.0</td>\n",
       "      <td>149.0</td>\n",
       "      <td>sasy n savy-online</td>\n",
       "      <td>623b30ace6407e07ba4e146b5a54e8c1</td>\n",
       "      <td>female</td>\n",
       "      <td>45.0</td>\n",
       "      <td>hong kong sar</td>\n",
       "      <td>y</td>\n",
       "      <td>southern</td>\n",
       "      <td>online</td>\n",
       "      <td>sasy n savy-online spearmint n lavender sea sa...</td>\n",
       "      <td>unisex</td>\n",
       "      <td>pending</td>\n",
       "    </tr>\n",
       "    <tr>\n",
       "      <th>10641</th>\n",
       "      <td>2.020990e+12</td>\n",
       "      <td>4.26009e+12</td>\n",
       "      <td>06-01-20</td>\n",
       "      <td>1080.0</td>\n",
       "      <td>0</td>\n",
       "      <td>0.0</td>\n",
       "      <td>0.0</td>\n",
       "      <td>waldmann-online</td>\n",
       "      <td>425e1c86426147e286baaa3d5aabd2ca</td>\n",
       "      <td>female</td>\n",
       "      <td>38.0</td>\n",
       "      <td>hong kong sar</td>\n",
       "      <td>n</td>\n",
       "      <td>kowloon city</td>\n",
       "      <td>online</td>\n",
       "      <td>waldmann-online xetra ball pen xetra pattern o...</td>\n",
       "      <td>unisex</td>\n",
       "      <td>pending</td>\n",
       "    </tr>\n",
       "    <tr>\n",
       "      <th>10642</th>\n",
       "      <td>2.021010e+12</td>\n",
       "      <td>9.33602e+12</td>\n",
       "      <td>06-01-20</td>\n",
       "      <td>94.0</td>\n",
       "      <td>1</td>\n",
       "      <td>0.0</td>\n",
       "      <td>94.0</td>\n",
       "      <td>sasy n savy-online</td>\n",
       "      <td>eaea74b83345c37abbc7cfcba43549ed</td>\n",
       "      <td>female</td>\n",
       "      <td>31.0</td>\n",
       "      <td>hong kong sar</td>\n",
       "      <td>n</td>\n",
       "      <td>southern</td>\n",
       "      <td>online</td>\n",
       "      <td>sasy n savy-online lime n lemongrass wash - 35...</td>\n",
       "      <td>unisex</td>\n",
       "      <td>pending</td>\n",
       "    </tr>\n",
       "    <tr>\n",
       "      <th>10643</th>\n",
       "      <td>2.021010e+12</td>\n",
       "      <td>9.33602e+12</td>\n",
       "      <td>06-01-20</td>\n",
       "      <td>149.0</td>\n",
       "      <td>1</td>\n",
       "      <td>0.0</td>\n",
       "      <td>149.0</td>\n",
       "      <td>sasy n savy-online</td>\n",
       "      <td>eaea74b83345c37abbc7cfcba43549ed</td>\n",
       "      <td>female</td>\n",
       "      <td>31.0</td>\n",
       "      <td>hong kong sar</td>\n",
       "      <td>n</td>\n",
       "      <td>southern</td>\n",
       "      <td>online</td>\n",
       "      <td>sasy n savy-online pure creme rose geranium cl...</td>\n",
       "      <td>unisex</td>\n",
       "      <td>pending</td>\n",
       "    </tr>\n",
       "  </tbody>\n",
       "</table>\n",
       "</div>"
      ],
      "text/plain": [
       "           order_ID      item_ID      date   price  quantity  discount  \\\n",
       "10638  2.020960e+12  9.33602e+12  06-01-20    94.0         1       0.0   \n",
       "10639  2.020960e+12  9.33602e+12  06-01-20   149.0         1       0.0   \n",
       "10641  2.020990e+12  4.26009e+12  06-01-20  1080.0         0       0.0   \n",
       "10642  2.021010e+12  9.33602e+12  06-01-20    94.0         1       0.0   \n",
       "10643  2.021010e+12  9.33602e+12  06-01-20   149.0         1       0.0   \n",
       "\n",
       "       final_price              vendor                       customer_ID  \\\n",
       "10638         94.0  sasy n savy-online  623b30ace6407e07ba4e146b5a54e8c1   \n",
       "10639        149.0  sasy n savy-online  623b30ace6407e07ba4e146b5a54e8c1   \n",
       "10641          0.0     waldmann-online  425e1c86426147e286baaa3d5aabd2ca   \n",
       "10642         94.0  sasy n savy-online  eaea74b83345c37abbc7cfcba43549ed   \n",
       "10643        149.0  sasy n savy-online  eaea74b83345c37abbc7cfcba43549ed   \n",
       "\n",
       "       gender   age    nationality premium_status      district  on_off  \\\n",
       "10638  female  45.0  hong kong sar              y      southern  online   \n",
       "10639  female  45.0  hong kong sar              y      southern  online   \n",
       "10641  female  38.0  hong kong sar              n  kowloon city  online   \n",
       "10642  female  31.0  hong kong sar              n      southern  online   \n",
       "10643  female  31.0  hong kong sar              n      southern  online   \n",
       "\n",
       "                                                 tmp_NLP product_gender  \\\n",
       "10638  sasy n savy-online lime n lemongrass wash - 35...         unisex   \n",
       "10639  sasy n savy-online spearmint n lavender sea sa...         unisex   \n",
       "10641  waldmann-online xetra ball pen xetra pattern o...         unisex   \n",
       "10642  sasy n savy-online lime n lemongrass wash - 35...         unisex   \n",
       "10643  sasy n savy-online pure creme rose geranium cl...         unisex   \n",
       "\n",
       "      product_cat  \n",
       "10638     pending  \n",
       "10639     pending  \n",
       "10641     pending  \n",
       "10642     pending  \n",
       "10643     pending  "
      ]
     },
     "execution_count": 337,
     "metadata": {},
     "output_type": "execute_result"
    }
   ],
   "source": [
    "data_df.head()"
   ]
  },
  {
   "cell_type": "code",
   "execution_count": 338,
   "id": "177402f5-0118-45a0-a922-d7411ea29dd4",
   "metadata": {},
   "outputs": [
    {
     "data": {
      "text/plain": [
       "{0: 'accessory',\n",
       " 1: 'bath_body',\n",
       " 2: 'clothes',\n",
       " 3: 'drink',\n",
       " 4: 'food',\n",
       " 5: 'home',\n",
       " 6: 'home_appliance',\n",
       " 7: 'kitchen',\n",
       " 8: 'wine'}"
      ]
     },
     "execution_count": 338,
     "metadata": {},
     "output_type": "execute_result"
    }
   ],
   "source": [
    "liste = list(label_encoder.inverse_transform([0,1,2,3,4,5,6,7,8]))\n",
    "dict_label = {}\n",
    "\n",
    "for i in range (9):\n",
    "    dict_label[i] = liste[i]\n",
    "\n",
    "dict_label"
   ]
  },
  {
   "cell_type": "code",
   "execution_count": 339,
   "id": "05deb781-806c-442a-9ab7-1fbd3b5a1168",
   "metadata": {},
   "outputs": [
    {
     "data": {
      "text/plain": [
       "(772116, 18)"
      ]
     },
     "execution_count": 339,
     "metadata": {},
     "output_type": "execute_result"
    }
   ],
   "source": [
    "data_df.shape"
   ]
  },
  {
   "cell_type": "code",
   "execution_count": 366,
   "id": "bda3be94-157a-497a-9cd8-797e9935ca32",
   "metadata": {},
   "outputs": [
    {
     "data": {
      "text/plain": [
       "400000"
      ]
     },
     "execution_count": 366,
     "metadata": {},
     "output_type": "execute_result"
    }
   ],
   "source": [
    "data_try_df = data_df.sample(n = 400_000,random_state=42)\n",
    "\n",
    "X = data_try_df['tmp_NLP']\n",
    "X_token = tokenizer.texts_to_sequences(X)\n",
    "X_token_pad = pad_sequences(X_token,\n",
    "                            maxlen=78,\n",
    "                            dtype='int32', \n",
    "                            padding='post', \n",
    "                            value=0.0)\n",
    "len(X_token_pad)"
   ]
  },
  {
   "cell_type": "code",
   "execution_count": 367,
   "id": "1bf322a3-a9df-4354-836f-2fe86c97b80a",
   "metadata": {},
   "outputs": [
    {
     "name": "stdout",
     "output_type": "stream",
     "text": [
      "12500/12500 [==============================] - 539s 43ms/step\n"
     ]
    }
   ],
   "source": [
    "prediction = model.predict(X_token_pad,verbose=1)"
   ]
  },
  {
   "cell_type": "code",
   "execution_count": 368,
   "id": "b9e0e13e-1b23-42b9-a805-998e3ae0f297",
   "metadata": {},
   "outputs": [],
   "source": [
    "pred_list_tmp = []\n",
    "for sub_list in prediction:\n",
    "    sub_list = sub_list.tolist()\n",
    "    maximum = max(sub_list)\n",
    "    index = sub_list.index(maximum)\n",
    "    pred_list_tmp.append(index)\n",
    "\n",
    "pred_list = []\n",
    "for element in pred_list_tmp :\n",
    "    pred_list.append(dict_label[element])\n",
    "    \n",
    "data_try_df['product_cat'] = pred_list"
   ]
  },
  {
   "cell_type": "code",
   "execution_count": 377,
   "id": "11d9691f-3c9c-4a8e-a6b0-fb845dbb4343",
   "metadata": {},
   "outputs": [
    {
     "data": {
      "text/plain": [
       "(400000, 17)"
      ]
     },
     "execution_count": 377,
     "metadata": {},
     "output_type": "execute_result"
    }
   ],
   "source": [
    "data_try_df = data_try_df.drop(columns='tmp_NLP')\n",
    "data_try_df.shape"
   ]
  },
  {
   "cell_type": "code",
   "execution_count": 374,
   "id": "21096983-f6fe-4451-8716-1861100968d9",
   "metadata": {},
   "outputs": [],
   "source": [
    "data_try_df.to_csv('../raw_data/data_400_000_rows_clean_df.csv')"
   ]
  }
 ],
 "metadata": {
  "kernelspec": {
   "display_name": "Python 3 (ipykernel)",
   "language": "python",
   "name": "python3"
  },
  "language_info": {
   "codemirror_mode": {
    "name": "ipython",
    "version": 3
   },
   "file_extension": ".py",
   "mimetype": "text/x-python",
   "name": "python",
   "nbconvert_exporter": "python",
   "pygments_lexer": "ipython3",
   "version": "3.8.6"
  }
 },
 "nbformat": 4,
 "nbformat_minor": 5
}
