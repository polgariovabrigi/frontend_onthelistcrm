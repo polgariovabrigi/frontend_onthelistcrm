{
 "cells": [
  {
   "cell_type": "code",
   "execution_count": 148,
   "id": "007a970d",
   "metadata": {},
   "outputs": [],
   "source": [
    "import pandas as pd\n",
    "import matplotlib.pyplot as plt\n",
    "from sklearn.preprocessing import OneHotEncoder\n",
    "from sklearn.impute import SimpleImputer\n"
   ]
  },
  {
   "cell_type": "code",
   "execution_count": 149,
   "id": "63176a0c",
   "metadata": {},
   "outputs": [],
   "source": [
    "data = pd.read_csv(\"../raw_data/Makefile.csv\")"
   ]
  },
  {
   "cell_type": "code",
   "execution_count": 150,
   "id": "5b1d4cfd",
   "metadata": {},
   "outputs": [
    {
     "data": {
      "text/html": [
       "<div>\n",
       "<style scoped>\n",
       "    .dataframe tbody tr th:only-of-type {\n",
       "        vertical-align: middle;\n",
       "    }\n",
       "\n",
       "    .dataframe tbody tr th {\n",
       "        vertical-align: top;\n",
       "    }\n",
       "\n",
       "    .dataframe thead th {\n",
       "        text-align: right;\n",
       "    }\n",
       "</style>\n",
       "<table border=\"1\" class=\"dataframe\">\n",
       "  <thead>\n",
       "    <tr style=\"text-align: right;\">\n",
       "      <th></th>\n",
       "      <th>_sdc_source_key_id</th>\n",
       "      <th>sku</th>\n",
       "      <th>date</th>\n",
       "      <th>item price</th>\n",
       "      <th>item quantity</th>\n",
       "      <th>line-item discount</th>\n",
       "      <th>price_qty</th>\n",
       "      <th>vendor</th>\n",
       "      <th>title</th>\n",
       "      <th>product_type</th>\n",
       "      <th>tags</th>\n",
       "      <th>email</th>\n",
       "      <th>gender</th>\n",
       "      <th>age</th>\n",
       "      <th>city</th>\n",
       "    </tr>\n",
       "  </thead>\n",
       "  <tbody>\n",
       "    <tr>\n",
       "      <th>0</th>\n",
       "      <td>4.153860e+12</td>\n",
       "      <td>3.60717E+12</td>\n",
       "      <td>2023/9/21</td>\n",
       "      <td>290</td>\n",
       "      <td>1</td>\n",
       "      <td>0.0</td>\n",
       "      <td>290.0</td>\n",
       "      <td>SMCP-Offline</td>\n",
       "      <td>290/SWEATER/SANDRO/WOMEN/S30019E20/NOIR/3</td>\n",
       "      <td>NaN</td>\n",
       "      <td>NaN</td>\n",
       "      <td>da316cb7d636def8f9b100292cb263d6</td>\n",
       "      <td>female</td>\n",
       "      <td>45.0</td>\n",
       "      <td>Hong Kong</td>\n",
       "    </tr>\n",
       "    <tr>\n",
       "      <th>1</th>\n",
       "      <td>3.701330e+12</td>\n",
       "      <td>3.61423E+12</td>\n",
       "      <td>2026/3/21</td>\n",
       "      <td>375</td>\n",
       "      <td>1</td>\n",
       "      <td>0.0</td>\n",
       "      <td>375.0</td>\n",
       "      <td>CotyPremium-Online</td>\n",
       "      <td>Daisy Eau So Fresh EDT 75ml Giftset</td>\n",
       "      <td>Fragrance</td>\n",
       "      <td>Giftset, Marc Jacobs</td>\n",
       "      <td>2fe4919dbaafdba2ad1f64a4b0dae67e</td>\n",
       "      <td>female</td>\n",
       "      <td>34.0</td>\n",
       "      <td>Hong Kong</td>\n",
       "    </tr>\n",
       "    <tr>\n",
       "      <th>2</th>\n",
       "      <td>4.153850e+12</td>\n",
       "      <td>3.6616E+12</td>\n",
       "      <td>2023/9/21</td>\n",
       "      <td>690</td>\n",
       "      <td>1</td>\n",
       "      <td>0.0</td>\n",
       "      <td>690.0</td>\n",
       "      <td>SMCP-Offline</td>\n",
       "      <td>690/SHIRT/MAJE/WOMEN/MFPCM00014Rose/ROSE/T2</td>\n",
       "      <td>NaN</td>\n",
       "      <td>NaN</td>\n",
       "      <td>2799831aea8aafc9a907aec8ab11b4c4</td>\n",
       "      <td>female</td>\n",
       "      <td>31.0</td>\n",
       "      <td>Hong Kong</td>\n",
       "    </tr>\n",
       "  </tbody>\n",
       "</table>\n",
       "</div>"
      ],
      "text/plain": [
       "   _sdc_source_key_id          sku       date  item price  item quantity  \\\n",
       "0        4.153860e+12  3.60717E+12  2023/9/21         290              1   \n",
       "1        3.701330e+12  3.61423E+12  2026/3/21         375              1   \n",
       "2        4.153850e+12   3.6616E+12  2023/9/21         690              1   \n",
       "\n",
       "   line-item discount  price_qty              vendor  \\\n",
       "0                 0.0      290.0        SMCP-Offline   \n",
       "1                 0.0      375.0  CotyPremium-Online   \n",
       "2                 0.0      690.0        SMCP-Offline   \n",
       "\n",
       "                                         title product_type  \\\n",
       "0    290/SWEATER/SANDRO/WOMEN/S30019E20/NOIR/3          NaN   \n",
       "1          Daisy Eau So Fresh EDT 75ml Giftset    Fragrance   \n",
       "2  690/SHIRT/MAJE/WOMEN/MFPCM00014Rose/ROSE/T2          NaN   \n",
       "\n",
       "                   tags                             email  gender   age  \\\n",
       "0                   NaN  da316cb7d636def8f9b100292cb263d6  female  45.0   \n",
       "1  Giftset, Marc Jacobs  2fe4919dbaafdba2ad1f64a4b0dae67e  female  34.0   \n",
       "2                   NaN  2799831aea8aafc9a907aec8ab11b4c4  female  31.0   \n",
       "\n",
       "        city  \n",
       "0  Hong Kong  \n",
       "1  Hong Kong  \n",
       "2  Hong Kong  "
      ]
     },
     "execution_count": 150,
     "metadata": {},
     "output_type": "execute_result"
    }
   ],
   "source": [
    "data.head(3)"
   ]
  },
  {
   "cell_type": "code",
   "execution_count": 151,
   "id": "f9cce41b",
   "metadata": {},
   "outputs": [
    {
     "data": {
      "text/plain": [
       "2"
      ]
     },
     "execution_count": 151,
     "metadata": {},
     "output_type": "execute_result"
    }
   ],
   "source": [
    "data['gender'].nunique()"
   ]
  },
  {
   "cell_type": "code",
   "execution_count": 152,
   "id": "8820123e",
   "metadata": {},
   "outputs": [
    {
     "data": {
      "text/plain": [
       "0"
      ]
     },
     "execution_count": 152,
     "metadata": {},
     "output_type": "execute_result"
    }
   ],
   "source": [
    "data['gender'].isnull().sum()"
   ]
  },
  {
   "cell_type": "code",
   "execution_count": 153,
   "id": "5cb3a602",
   "metadata": {},
   "outputs": [
    {
     "data": {
      "text/plain": [
       "(array([176.,   0.,   0.,   0.,   0.,   0.,   0.,   0.,   0.,  24.]),\n",
       " array([0. , 0.1, 0.2, 0.3, 0.4, 0.5, 0.6, 0.7, 0.8, 0.9, 1. ]),\n",
       " <BarContainer object of 10 artists>)"
      ]
     },
     "execution_count": 153,
     "metadata": {},
     "output_type": "execute_result"
    },
    {
     "data": {
      "image/png": "[encoded data removed]",
      "text/plain": [
       "<Figure size 432x288 with 1 Axes>"
      ]
     },
     "metadata": {
      "needs_background": "light"
     },
     "output_type": "display_data"
    }
   ],
   "source": [
    "plt.hist(data['gender'])"
   ]
  },
  {
   "cell_type": "code",
   "execution_count": 154,
   "id": "237f1f25",
   "metadata": {},
   "outputs": [
    {
     "data": {
      "text/html": [
       "<div>\n",
       "<style scoped>\n",
       "    .dataframe tbody tr th:only-of-type {\n",
       "        vertical-align: middle;\n",
       "    }\n",
       "\n",
       "    .dataframe tbody tr th {\n",
       "        vertical-align: top;\n",
       "    }\n",
       "\n",
       "    .dataframe thead th {\n",
       "        text-align: right;\n",
       "    }\n",
       "</style>\n",
       "<table border=\"1\" class=\"dataframe\">\n",
       "  <thead>\n",
       "    <tr style=\"text-align: right;\">\n",
       "      <th></th>\n",
       "      <th>_sdc_source_key_id</th>\n",
       "      <th>sku</th>\n",
       "      <th>date</th>\n",
       "      <th>item price</th>\n",
       "      <th>item quantity</th>\n",
       "      <th>line-item discount</th>\n",
       "      <th>price_qty</th>\n",
       "      <th>vendor</th>\n",
       "      <th>title</th>\n",
       "      <th>product_type</th>\n",
       "      <th>tags</th>\n",
       "      <th>email</th>\n",
       "      <th>gender</th>\n",
       "      <th>age</th>\n",
       "      <th>city</th>\n",
       "      <th>gender_encoded</th>\n",
       "    </tr>\n",
       "  </thead>\n",
       "  <tbody>\n",
       "    <tr>\n",
       "      <th>0</th>\n",
       "      <td>4.153860e+12</td>\n",
       "      <td>3.60717E+12</td>\n",
       "      <td>2023/9/21</td>\n",
       "      <td>290</td>\n",
       "      <td>1</td>\n",
       "      <td>0.0</td>\n",
       "      <td>290.0</td>\n",
       "      <td>SMCP-Offline</td>\n",
       "      <td>290/SWEATER/SANDRO/WOMEN/S30019E20/NOIR/3</td>\n",
       "      <td>NaN</td>\n",
       "      <td>NaN</td>\n",
       "      <td>da316cb7d636def8f9b100292cb263d6</td>\n",
       "      <td>female</td>\n",
       "      <td>45.0</td>\n",
       "      <td>Hong Kong</td>\n",
       "      <td>0.0</td>\n",
       "    </tr>\n",
       "    <tr>\n",
       "      <th>1</th>\n",
       "      <td>3.701330e+12</td>\n",
       "      <td>3.61423E+12</td>\n",
       "      <td>2026/3/21</td>\n",
       "      <td>375</td>\n",
       "      <td>1</td>\n",
       "      <td>0.0</td>\n",
       "      <td>375.0</td>\n",
       "      <td>CotyPremium-Online</td>\n",
       "      <td>Daisy Eau So Fresh EDT 75ml Giftset</td>\n",
       "      <td>Fragrance</td>\n",
       "      <td>Giftset, Marc Jacobs</td>\n",
       "      <td>2fe4919dbaafdba2ad1f64a4b0dae67e</td>\n",
       "      <td>female</td>\n",
       "      <td>34.0</td>\n",
       "      <td>Hong Kong</td>\n",
       "      <td>0.0</td>\n",
       "    </tr>\n",
       "    <tr>\n",
       "      <th>2</th>\n",
       "      <td>4.153850e+12</td>\n",
       "      <td>3.6616E+12</td>\n",
       "      <td>2023/9/21</td>\n",
       "      <td>690</td>\n",
       "      <td>1</td>\n",
       "      <td>0.0</td>\n",
       "      <td>690.0</td>\n",
       "      <td>SMCP-Offline</td>\n",
       "      <td>690/SHIRT/MAJE/WOMEN/MFPCM00014Rose/ROSE/T2</td>\n",
       "      <td>NaN</td>\n",
       "      <td>NaN</td>\n",
       "      <td>2799831aea8aafc9a907aec8ab11b4c4</td>\n",
       "      <td>female</td>\n",
       "      <td>31.0</td>\n",
       "      <td>Hong Kong</td>\n",
       "      <td>0.0</td>\n",
       "    </tr>\n",
       "    <tr>\n",
       "      <th>3</th>\n",
       "      <td>3.701340e+12</td>\n",
       "      <td>5.0282E+12</td>\n",
       "      <td>2026/3/21</td>\n",
       "      <td>112</td>\n",
       "      <td>2</td>\n",
       "      <td>0.0</td>\n",
       "      <td>224.0</td>\n",
       "      <td>The Body Shop-Online</td>\n",
       "      <td>Tea Tree Skin Clearing Mattifying Toner 250ml</td>\n",
       "      <td>Skincare</td>\n",
       "      <td>Toner</td>\n",
       "      <td>5ace38451889a7dea97a124d4722e9b3</td>\n",
       "      <td>female</td>\n",
       "      <td>4.0</td>\n",
       "      <td>Hong Kong</td>\n",
       "      <td>0.0</td>\n",
       "    </tr>\n",
       "    <tr>\n",
       "      <th>4</th>\n",
       "      <td>3.701350e+12</td>\n",
       "      <td>3.61423E+12</td>\n",
       "      <td>2026/3/21</td>\n",
       "      <td>300</td>\n",
       "      <td>1</td>\n",
       "      <td>0.0</td>\n",
       "      <td>300.0</td>\n",
       "      <td>CotyPremium-Online</td>\n",
       "      <td>Boss Bottled EDT 50ml (Limited Edition)</td>\n",
       "      <td>Fragrance</td>\n",
       "      <td>Hugo Boss</td>\n",
       "      <td>04f928de2dca0e75ebfa9619f58fcd21</td>\n",
       "      <td>male</td>\n",
       "      <td>45.0</td>\n",
       "      <td>Hong Kong</td>\n",
       "      <td>1.0</td>\n",
       "    </tr>\n",
       "  </tbody>\n",
       "</table>\n",
       "</div>"
      ],
      "text/plain": [
       "   _sdc_source_key_id          sku       date  item price  item quantity  \\\n",
       "0        4.153860e+12  3.60717E+12  2023/9/21         290              1   \n",
       "1        3.701330e+12  3.61423E+12  2026/3/21         375              1   \n",
       "2        4.153850e+12   3.6616E+12  2023/9/21         690              1   \n",
       "3        3.701340e+12   5.0282E+12  2026/3/21         112              2   \n",
       "4        3.701350e+12  3.61423E+12  2026/3/21         300              1   \n",
       "\n",
       "   line-item discount  price_qty                vendor  \\\n",
       "0                 0.0      290.0          SMCP-Offline   \n",
       "1                 0.0      375.0    CotyPremium-Online   \n",
       "2                 0.0      690.0          SMCP-Offline   \n",
       "3                 0.0      224.0  The Body Shop-Online   \n",
       "4                 0.0      300.0    CotyPremium-Online   \n",
       "\n",
       "                                           title product_type  \\\n",
       "0      290/SWEATER/SANDRO/WOMEN/S30019E20/NOIR/3          NaN   \n",
       "1            Daisy Eau So Fresh EDT 75ml Giftset    Fragrance   \n",
       "2    690/SHIRT/MAJE/WOMEN/MFPCM00014Rose/ROSE/T2          NaN   \n",
       "3  Tea Tree Skin Clearing Mattifying Toner 250ml     Skincare   \n",
       "4        Boss Bottled EDT 50ml (Limited Edition)    Fragrance   \n",
       "\n",
       "                   tags                             email  gender   age  \\\n",
       "0                   NaN  da316cb7d636def8f9b100292cb263d6  female  45.0   \n",
       "1  Giftset, Marc Jacobs  2fe4919dbaafdba2ad1f64a4b0dae67e  female  34.0   \n",
       "2                   NaN  2799831aea8aafc9a907aec8ab11b4c4  female  31.0   \n",
       "3                 Toner  5ace38451889a7dea97a124d4722e9b3  female   4.0   \n",
       "4             Hugo Boss  04f928de2dca0e75ebfa9619f58fcd21    male  45.0   \n",
       "\n",
       "        city  gender_encoded  \n",
       "0  Hong Kong             0.0  \n",
       "1  Hong Kong             0.0  \n",
       "2  Hong Kong             0.0  \n",
       "3  Hong Kong             0.0  \n",
       "4  Hong Kong             1.0  "
      ]
     },
     "execution_count": 154,
     "metadata": {},
     "output_type": "execute_result"
    }
   ],
   "source": [
    "# ohe = OneHotEncoder()\n",
    "# data[['gender']]= data[['gender']].todense()\n",
    "# gender_encoded = ohe.fit_transform(data[['gender']]) # gender encoded\n",
    "# data[\"male\"],data[\"female\"] = gender_encoded.T\n",
    "\n",
    "from sklearn.preprocessing import OrdinalEncoder\n",
    "\n",
    "ord_enc = OrdinalEncoder()\n",
    "data['gender_encoded'] = ord_enc.fit_transform(data[[\"gender\"]])\n",
    "data[[\"gender\", \"gender_encoded\"]].head(11)\n",
    "data.head()\n",
    "\n"
   ]
  },
  {
   "cell_type": "code",
   "execution_count": 155,
   "id": "a9ddff06",
   "metadata": {},
   "outputs": [
    {
     "data": {
      "text/plain": [
       "(array([ 6., 12., 69., 70., 34.,  0.,  0.,  0.,  1.,  1.]),\n",
       " array([  4. ,  15.7,  27.4,  39.1,  50.8,  62.5,  74.2,  85.9,  97.6,\n",
       "        109.3, 121. ]),\n",
       " <BarContainer object of 10 artists>)"
      ]
     },
     "execution_count": 155,
     "metadata": {},
     "output_type": "execute_result"
    },
    {
     "data": {
      "image/png": "[encoded data removed]",
      "text/plain": [
       "<Figure size 432x288 with 1 Axes>"
      ]
     },
     "metadata": {
      "needs_background": "light"
     },
     "output_type": "display_data"
    }
   ],
   "source": [
    "plt.hist(data['age'])"
   ]
  },
  {
   "cell_type": "code",
   "execution_count": 141,
   "id": "982cd086",
   "metadata": {},
   "outputs": [
    {
     "data": {
      "text/plain": [
       "7"
      ]
     },
     "execution_count": 141,
     "metadata": {},
     "output_type": "execute_result"
    }
   ],
   "source": [
    "data['age'].isnull().sum()\n"
   ]
  },
  {
   "cell_type": "code",
   "execution_count": 142,
   "id": "2eceefb4",
   "metadata": {},
   "outputs": [
    {
     "data": {
      "text/plain": [
       "40"
      ]
     },
     "execution_count": 142,
     "metadata": {},
     "output_type": "execute_result"
    }
   ],
   "source": [
    "age_mean = data['age'].mean().astype(int)\n",
    "age_mean"
   ]
  },
  {
   "cell_type": "code",
   "execution_count": 160,
   "id": "87be970a",
   "metadata": {},
   "outputs": [],
   "source": [
    "#replace missing or 0 age values with mean value\n",
    "imputer = SimpleImputer(strategy=\"mean\")\n",
    "imputer.fit(data[['age']])\n",
    "data['age'] = imputer.transform(data[['age']]) \n"
   ]
  },
  {
   "cell_type": "code",
   "execution_count": 161,
   "id": "346f8f25",
   "metadata": {},
   "outputs": [
    {
     "data": {
      "text/plain": [
       "0"
      ]
     },
     "execution_count": 161,
     "metadata": {},
     "output_type": "execute_result"
    }
   ],
   "source": [
    "data['age'].isnull().sum()"
   ]
  },
  {
   "cell_type": "code",
   "execution_count": 145,
   "id": "a1fc3bf4",
   "metadata": {},
   "outputs": [],
   "source": [
    "#replace all ages below 15 and above 85 with mediam\n",
    "# data['age'] = data.age.replace([data['age'] < 15 ], age_mean, inplace=True) #Replace NaN by \"NoAlley\"\n",
    "data['age'] = data['age'].astype(int)\n",
    "data['age'] = data['age'].replace([data['age'] < 15 ],age_mean, inplace=True)\n",
    "# index_below_fifteen = data[data['age'] < 15 ].index\n",
    "# index_above_ninety = data[data['age'] > 90 ].index\n",
    "\n",
    "# data['age'] = data.age.replace([data['age'] < 15 ], age_mean, inplace=True) #Replace NaN by \"NoAlley\"\n",
    "# # data['age'] = data.age.replace(index_above_ninety, age_mean, inplace=True) #Replace NaN by \"NoAlley\"\n",
    "\n"
   ]
  },
  {
   "cell_type": "code",
   "execution_count": 146,
   "id": "54f2b6b4",
   "metadata": {},
   "outputs": [
    {
     "data": {
      "text/plain": [
       "Series([], Name: age, dtype: int64)"
      ]
     },
     "execution_count": 146,
     "metadata": {},
     "output_type": "execute_result"
    }
   ],
   "source": [
    "data['age'].value_counts()#Check count of each category\n"
   ]
  },
  {
   "cell_type": "code",
   "execution_count": 158,
   "id": "fc038239",
   "metadata": {},
   "outputs": [
    {
     "data": {
      "text/plain": [
       "(array([ 1.,  2.,  8., 18., 36., 37., 35., 31., 17.,  8.]),\n",
       " array([11. , 16.1, 21.2, 26.3, 31.4, 36.5, 41.6, 46.7, 51.8, 56.9, 62. ]),\n",
       " <BarContainer object of 10 artists>)"
      ]
     },
     "execution_count": 158,
     "metadata": {},
     "output_type": "execute_result"
    },
    {
     "data": {
      "image/png": "[encoded data removed]",
      "text/plain": [
       "<Figure size 432x288 with 1 Axes>"
      ]
     },
     "metadata": {
      "needs_background": "light"
     },
     "output_type": "display_data"
    }
   ],
   "source": [
    "data['age'] = data['age'].map(lambda x: age_mean if (x < 10 or x > 90) else x)\n",
    "plt.hist(data['age'])"
   ]
  },
  {
   "cell_type": "code",
   "execution_count": 159,
   "id": "728869d6",
   "metadata": {},
   "outputs": [
    {
     "data": {
      "text/plain": [
       "7"
      ]
     },
     "execution_count": 159,
     "metadata": {},
     "output_type": "execute_result"
    }
   ],
   "source": [
    "data['age'].isnull().sum()"
   ]
  },
  {
   "cell_type": "code",
   "execution_count": null,
   "id": "eec9bf24",
   "metadata": {},
   "outputs": [],
   "source": []
  }
 ],
 "metadata": {
  "kernelspec": {
   "display_name": "Python 3 (ipykernel)",
   "language": "python",
   "name": "python3"
  },
  "language_info": {
   "codemirror_mode": {
    "name": "ipython",
    "version": 3
   },
   "file_extension": ".py",
   "mimetype": "text/x-python",
   "name": "python",
   "nbconvert_exporter": "python",
   "pygments_lexer": "ipython3",
   "version": "3.8.6"
  },
  "toc": {
   "base_numbering": 1,
   "nav_menu": {},
   "number_sections": true,
   "sideBar": true,
   "skip_h1_title": false,
   "title_cell": "Table of Contents",
   "title_sidebar": "Contents",
   "toc_cell": false,
   "toc_position": {},
   "toc_section_display": true,
   "toc_window_display": false
  }
 },
 "nbformat": 4,
 "nbformat_minor": 5
}
